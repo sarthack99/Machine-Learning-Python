{
 "cells": [
  {
   "cell_type": "markdown",
   "metadata": {
    "colab_type": "text",
    "id": "7o80jx6-cOnz"
   },
   "source": [
    "#### Arrays in python"
   ]
  },
  {
   "cell_type": "markdown",
   "metadata": {
    "colab_type": "text",
    "id": "kI9fdbVDcOnx"
   },
   "source": [
    "### Data Structures in python\n",
    "Data structures stores a set of values."
   ]
  },
  {
   "cell_type": "code",
   "execution_count": 0,
   "metadata": {
    "colab": {},
    "colab_type": "code",
    "id": "10J_HhY9PSsm"
   },
   "outputs": [],
   "source": []
  },
  {
   "cell_type": "markdown",
   "metadata": {
    "colab_type": "text",
    "id": "knXrFAWJcOn0"
   },
   "source": [
    "Array consists of set of elements of the same type. Array is mutable that means we can change the elements inside the array or add or remove elements. Each item stored in an array is called an element and each location of an element in an array has a numerical index, which is used to identify the element. Index in array start from 0. In order to create array we use python array module. Arrays are generally defined in []."
   ]
  },
  {
   "cell_type": "code",
   "execution_count": 53,
   "metadata": {
    "colab": {
     "base_uri": "https://localhost:8080/",
     "height": 34
    },
    "colab_type": "code",
    "id": "9nGBux4WcOn2",
    "outputId": "4975e961-7b17-4adc-d3c5-f49103b85e76"
   },
   "outputs": [
    {
     "data": {
      "text/plain": [
       "array('b', [10, 20, 30, 40, 50, 60])"
      ]
     },
     "execution_count": 53,
     "metadata": {},
     "output_type": "execute_result"
    }
   ],
   "source": [
    "import array\n",
    "from array import *\n",
    "\n",
    "#to create an array we use :\n",
    "#array_name = array('typecode','initialisation') for eg:\n",
    "arr_ = array('b',[10,20,30,40,50,60])\n",
    "# the type code specifies the type of the array that we have created, 'b' represents integer type of the array.\n",
    "arr_"
   ]
  },
  {
   "cell_type": "markdown",
   "metadata": {
    "colab_type": "text",
    "id": "n5HnncbQcOn9"
   },
   "source": [
    "#### Operations on Array"
   ]
  },
  {
   "cell_type": "code",
   "execution_count": 54,
   "metadata": {
    "colab": {
     "base_uri": "https://localhost:8080/",
     "height": 34
    },
    "colab_type": "code",
    "id": "KDSxnKiHcOn_",
    "outputId": "468330c4-ccdb-4e7e-fc56-4fc3133672fc"
   },
   "outputs": [
    {
     "data": {
      "text/plain": [
       "40"
      ]
     },
     "execution_count": 54,
     "metadata": {},
     "output_type": "execute_result"
    }
   ],
   "source": [
    "arr_[3] #to access an element of the array we use array name and square brackets and pass the index number of the element\n"
   ]
  },
  {
   "cell_type": "code",
   "execution_count": 55,
   "metadata": {
    "colab": {
     "base_uri": "https://localhost:8080/",
     "height": 34
    },
    "colab_type": "code",
    "id": "pVhyNB_UcOoE",
    "outputId": "43eae06e-1a1a-4d28-d256-919676ddd5be"
   },
   "outputs": [
    {
     "data": {
      "text/plain": [
       "array('b', [10, 20, 100, 30, 40, 50, 60])"
      ]
     },
     "execution_count": 55,
     "metadata": {},
     "output_type": "execute_result"
    }
   ],
   "source": [
    "arr_.insert(2,100) #to insert an element in array we pass the index and the element that we have to insert.\n",
    "arr_"
   ]
  },
  {
   "cell_type": "code",
   "execution_count": 56,
   "metadata": {
    "colab": {},
    "colab_type": "code",
    "id": "kahdyYKVcOoJ",
    "outputId": "125b0335-5ac0-44cc-c6c0-ac0fdb65305e"
   },
   "outputs": [
    {
     "data": {
      "text/plain": [
       "5"
      ]
     },
     "execution_count": 56,
     "metadata": {},
     "output_type": "execute_result"
    }
   ],
   "source": [
    "arr_.index(50) #In order to search for an element inside an array we use index method and pass the element that you want to search"
   ]
  },
  {
   "cell_type": "code",
   "execution_count": 57,
   "metadata": {
    "colab": {},
    "colab_type": "code",
    "id": "E_7RXHhFcOoP",
    "outputId": "0bebc8a8-265c-461a-9b8f-a6cd9de63ac1"
   },
   "outputs": [
    {
     "data": {
      "text/plain": [
       "array('b', [10, 20, 100, 30, 40, 120, 60])"
      ]
     },
     "execution_count": 57,
     "metadata": {},
     "output_type": "execute_result"
    }
   ],
   "source": [
    "arr_[5]=120 #In order to update any existing element we pass the index the element that has to updated and the new value\n",
    "arr_"
   ]
  },
  {
   "cell_type": "code",
   "execution_count": 58,
   "metadata": {
    "colab": {},
    "colab_type": "code",
    "id": "3_-BC9LAcOoU",
    "outputId": "7e9f6036-3e00-4c58-faf4-75f0d91b752b"
   },
   "outputs": [
    {
     "data": {
      "text/plain": [
       "array('b', [10, 20, 100, 30, 40, 120, 60, 125])"
      ]
     },
     "execution_count": 58,
     "metadata": {},
     "output_type": "execute_result"
    }
   ],
   "source": [
    "arr_.append(125) # append() inserts the element towards the last of the array\n",
    "arr_"
   ]
  },
  {
   "cell_type": "code",
   "execution_count": 59,
   "metadata": {
    "colab": {},
    "colab_type": "code",
    "id": "HgXG89IDcOoZ",
    "outputId": "a7187092-d817-495f-f8f3-e7d94365d185"
   },
   "outputs": [
    {
     "data": {
      "text/plain": [
       "1"
      ]
     },
     "execution_count": 59,
     "metadata": {},
     "output_type": "execute_result"
    }
   ],
   "source": [
    "arr_.count(120) #return the count i.e, number of times the element has appeared"
   ]
  },
  {
   "cell_type": "code",
   "execution_count": 60,
   "metadata": {
    "colab": {
     "base_uri": "https://localhost:8080/",
     "height": 67
    },
    "colab_type": "code",
    "id": "QquDS5CxcOod",
    "outputId": "71390b82-527a-44ba-97a5-652b2dec7e12"
   },
   "outputs": [
    {
     "name": "stdout",
     "output_type": "stream",
     "text": [
      "array('b', [10, 20, 100, 30, 40, 120, 60, 125])\n",
      "array('b', [70, 80, 90])\n"
     ]
    },
    {
     "data": {
      "text/plain": [
       "array('b', [10, 20, 100, 30, 40, 120, 60, 125, 70, 80, 90])"
      ]
     },
     "execution_count": 60,
     "metadata": {},
     "output_type": "execute_result"
    }
   ],
   "source": [
    "#Concatenation and extending array\n",
    "#CONCATENATION\n",
    "#lets create one more array\n",
    "Arr_ = array('b',[70,80,90])\n",
    "concat_ = arr_ + Arr_\n",
    "print (arr_)\n",
    "print (Arr_)\n",
    "concat_ #it includes elements of both the arrays and stores it in concat_, but didnt changed the actual arrays arr_ and Arr_\n"
   ]
  },
  {
   "cell_type": "code",
   "execution_count": 61,
   "metadata": {
    "colab": {
     "base_uri": "https://localhost:8080/",
     "height": 50
    },
    "colab_type": "code",
    "id": "JN2xWl7rcOoj",
    "outputId": "b5d6c676-a4fb-4c5a-947c-5ca83549ccce"
   },
   "outputs": [
    {
     "name": "stdout",
     "output_type": "stream",
     "text": [
      "array('b', [10, 20, 100, 30, 40, 120, 60, 125])\n",
      "array('b', [70, 80, 90, 10, 20, 100, 30, 40, 120, 60, 125])\n"
     ]
    }
   ],
   "source": [
    "#EXTEND:\n",
    "#with extend command it changes one of the arrays as,\n",
    "Arr_.extend(arr_)\n",
    "print (arr_)\n",
    "print (Arr_)"
   ]
  },
  {
   "cell_type": "code",
   "execution_count": 62,
   "metadata": {
    "colab": {
     "base_uri": "https://localhost:8080/",
     "height": 34
    },
    "colab_type": "code",
    "id": "MO_fddWccOop",
    "outputId": "fe79e886-74a1-442f-c308-3b82fc6b9049"
   },
   "outputs": [
    {
     "data": {
      "text/plain": [
       "125"
      ]
     },
     "execution_count": 62,
     "metadata": {},
     "output_type": "execute_result"
    }
   ],
   "source": [
    "#pop: removes the element whose index is passed as a parameter, if no index is passed it removes the last element\n",
    "arr_.pop()"
   ]
  },
  {
   "cell_type": "code",
   "execution_count": 0,
   "metadata": {
    "colab": {},
    "colab_type": "code",
    "id": "4_BckM5tcOot",
    "outputId": "ed96a31e-0fd3-4d65-84d6-97ef2058a25f"
   },
   "outputs": [
    {
     "data": {
      "text/plain": [
       "array('b', [20, 30, 40, 50, 60])"
      ]
     },
     "execution_count": 37,
     "metadata": {
      "tags": []
     },
     "output_type": "execute_result"
    }
   ],
   "source": [
    "arr_.remove(10)#removes the element whose value is passed as a parameter\n",
    "arr_"
   ]
  },
  {
   "cell_type": "code",
   "execution_count": 63,
   "metadata": {
    "colab": {},
    "colab_type": "code",
    "id": "bAivljb4cOoy"
   },
   "outputs": [],
   "source": [
    "del(arr_)#to delete the array"
   ]
  },
  {
   "cell_type": "markdown",
   "metadata": {
    "colab_type": "text",
    "id": "WEH2ERq5cOo2"
   },
   "source": [
    "#### Lists:"
   ]
  },
  {
   "cell_type": "markdown",
   "metadata": {
    "colab_type": "text",
    "id": "hn9TiKQIcOo3"
   },
   "source": [
    "Lists consists of set of elements of the multiple type. Lists is mutable that means we can change the elements inside the lists or add or remove elements. Each item stored in list is called an element and each location of an element in list has a numerical index, which is used to identify the element. Index in list start from 0. List are generaly defined in []."
   ]
  },
  {
   "cell_type": "code",
   "execution_count": 67,
   "metadata": {
    "colab": {},
    "colab_type": "code",
    "id": "ER-bFglAcOo5",
    "outputId": "bd80349f-3363-4e7d-997b-bc67973e2f33"
   },
   "outputs": [
    {
     "data": {
      "text/plain": [
       "list"
      ]
     },
     "execution_count": 67,
     "metadata": {},
     "output_type": "execute_result"
    }
   ],
   "source": [
    "lis_1 = ['abc','xyz','pqr',1,2,3,4,5]\n",
    "lis_2= [30,12,70,50]\n",
    "type(lis_1)"
   ]
  },
  {
   "cell_type": "markdown",
   "metadata": {
    "colab_type": "text",
    "id": "8YI12EYgcOo9"
   },
   "source": [
    "#### Operation on lists"
   ]
  },
  {
   "cell_type": "markdown",
   "metadata": {
    "colab_type": "text",
    "id": "bz8ns3dmcOo-"
   },
   "source": [
    "Lists has the same operations as an array"
   ]
  },
  {
   "cell_type": "code",
   "execution_count": 68,
   "metadata": {
    "colab": {},
    "colab_type": "code",
    "id": "aw5qsi5kcOpA",
    "outputId": "90dba177-9423-4778-d05a-7e8123e3176b"
   },
   "outputs": [
    {
     "name": "stdout",
     "output_type": "stream",
     "text": [
      "[70, 50, 30, 12]\n",
      "4\n"
     ]
    }
   ],
   "source": [
    "lis_1.append(10) #append adds the element at the last of the list\n",
    "lis_1.count(2) #returns the number of appearances of the given element\n",
    "lis_1.extend(lis_2) #adds elements of the second list in the first list\n",
    "lis_1.insert(5,50) #inserts the element 50 at index 5\n",
    "lis_1.pop(2) #pops out the element at index 2\n",
    "lis_1.remove(3) #remove element = 3\n",
    "lis_2.sort(reverse = True) #sort the list in an increasing order\n",
    "print(lis_2)\n",
    "print (len(lis_2)) #len() function returns the length of the list that is passed"
   ]
  },
  {
   "cell_type": "code",
   "execution_count": 0,
   "metadata": {
    "colab": {},
    "colab_type": "code",
    "id": "mjaGuKQvcOpF"
   },
   "outputs": [],
   "source": [
    "lis_1.clear() #clears all the elements of the list\n",
    "del(lis_1) #deletes the whole list (no instance in the memory left)"
   ]
  },
  {
   "cell_type": "markdown",
   "metadata": {
    "colab_type": "text",
    "id": "ps_EwYFbcOpJ"
   },
   "source": [
    "#### Tuples"
   ]
  },
  {
   "cell_type": "markdown",
   "metadata": {
    "colab_type": "text",
    "id": "rSFB1cfvcOpK"
   },
   "source": [
    "In tuples alse we can store elements of any datatype. Only difference is that we cannot manipulate the tuple or in \n",
    "other words tuples are immutable. Tuples are generally defined in ()."
   ]
  },
  {
   "cell_type": "code",
   "execution_count": 0,
   "metadata": {
    "colab": {},
    "colab_type": "code",
    "id": "B84z41IWcOpM",
    "outputId": "5b4668d0-10ea-479c-eddb-a09d7ec187eb"
   },
   "outputs": [
    {
     "name": "stdout",
     "output_type": "stream",
     "text": [
      "(1, 2, 3, 4, 'abc', 'pqr')\n",
      "(60, 70, 80)\n",
      "(1, 2, 3, 4, 'abc', 'pqr', 60, 70, 80)\n"
     ]
    }
   ],
   "source": [
    "tup_1 = (1,2,3,4,'abc','pqr')\n",
    "tup_2 = (60,70,80)\n",
    "#we can concatenate two tuples as it wont affect the actual tuples\n",
    "concat_ = tup_1 + tup_2\n",
    "print (tup_1)\n",
    "print (tup_2)\n",
    "print (concat_)"
   ]
  },
  {
   "cell_type": "markdown",
   "metadata": {
    "colab_type": "text",
    "id": "tzUq9ePxcOpQ"
   },
   "source": [
    "#### Dictionary:"
   ]
  },
  {
   "cell_type": "markdown",
   "metadata": {
    "colab_type": "text",
    "id": "wJKZAc1-cOpS"
   },
   "source": [
    "Dictionary store values in key and value format. In order to access values in dictionary we use key's instead of indices."
   ]
  },
  {
   "cell_type": "markdown",
   "metadata": {
    "colab_type": "text",
    "id": "OCjYjAl3cOpV"
   },
   "source": [
    "#### Operation on dictionary:"
   ]
  },
  {
   "cell_type": "code",
   "execution_count": 0,
   "metadata": {
    "colab": {
     "base_uri": "https://localhost:8080/",
     "height": 34
    },
    "colab_type": "code",
    "id": "PkyXkchRcOpW",
    "outputId": "95ee4363-c961-441a-b686-40f58d3cca3d"
   },
   "outputs": [
    {
     "name": "stdout",
     "output_type": "stream",
     "text": [
      "12345\n"
     ]
    }
   ],
   "source": [
    "dict_ = {'john':12345,'michael':67890,'Abrahm':45678,'David':89234,'Smith':23789}\n",
    "print (dict_['john']) #accessing a value in dictionary we need to call by key"
   ]
  },
  {
   "cell_type": "code",
   "execution_count": 0,
   "metadata": {
    "colab": {
     "base_uri": "https://localhost:8080/",
     "height": 102
    },
    "colab_type": "code",
    "id": "Fo-1Y-C9p9ij",
    "outputId": "25b307a1-4fb2-4574-d534-25a8bcb0d29e"
   },
   "outputs": [
    {
     "data": {
      "text/plain": [
       "{'Abrahm': 45678,\n",
       " 'David': 89234,\n",
       " 'Smith': 23789,\n",
       " 'john': 12345,\n",
       " 'michael': 67890}"
      ]
     },
     "execution_count": 3,
     "metadata": {
      "tags": []
     },
     "output_type": "execute_result"
    }
   ],
   "source": [
    "dict_"
   ]
  },
  {
   "cell_type": "code",
   "execution_count": 0,
   "metadata": {
    "colab": {
     "base_uri": "https://localhost:8080/",
     "height": 101
    },
    "colab_type": "code",
    "id": "O1HTWqL7cOpg",
    "outputId": "7a5e5733-bbdc-4e38-dff2-d1d08397b443"
   },
   "outputs": [
    {
     "data": {
      "text/plain": [
       "{'Abrahm': 12345678,\n",
       " 'David': 89234,\n",
       " 'Smith': 23789,\n",
       " 'john': '12345',\n",
       " 'michael': 67890}"
      ]
     },
     "execution_count": 16,
     "metadata": {
      "tags": []
     },
     "output_type": "execute_result"
    }
   ],
   "source": [
    "dict_['Abrahm'] = 12345678 #to change value in dictionary, we directly give new value to that perticular key\n",
    "dict_"
   ]
  },
  {
   "cell_type": "code",
   "execution_count": 0,
   "metadata": {
    "colab": {},
    "colab_type": "code",
    "id": "20z30Z5mcOpm",
    "outputId": "4ffafafc-2310-43da-e747-06a956c8d18e"
   },
   "outputs": [
    {
     "data": {
      "text/plain": [
       "dict_keys(['john', 'michael', 'Abrahm', 'David', 'Smith'])"
      ]
     },
     "execution_count": 57,
     "metadata": {
      "tags": []
     },
     "output_type": "execute_result"
    }
   ],
   "source": [
    "dict_.keys() #to get all keys"
   ]
  },
  {
   "cell_type": "code",
   "execution_count": 0,
   "metadata": {
    "colab": {},
    "colab_type": "code",
    "id": "C-jJNRVmcOpq",
    "outputId": "20a20fcc-6ab1-45e6-e09c-ab23d9c5e5a4"
   },
   "outputs": [
    {
     "data": {
      "text/plain": [
       "dict_values(['12345', 67890, 12345678, 89234, 23789])"
      ]
     },
     "execution_count": 58,
     "metadata": {
      "tags": []
     },
     "output_type": "execute_result"
    }
   ],
   "source": [
    "dict_.values() #to get all values"
   ]
  },
  {
   "cell_type": "code",
   "execution_count": 0,
   "metadata": {
    "colab": {
     "base_uri": "https://localhost:8080/",
     "height": 118
    },
    "colab_type": "code",
    "id": "2N0KRzvNcOpv",
    "outputId": "6feace3f-9d1c-4e42-9a55-b2845f3c050a"
   },
   "outputs": [
    {
     "data": {
      "text/plain": [
       "{'Abrahm': 45678,\n",
       " 'David': 89234,\n",
       " 'Smith': 23789,\n",
       " 'Warner': '00000',\n",
       " 'john': 12345,\n",
       " 'michael': 67890}"
      ]
     },
     "execution_count": 18,
     "metadata": {
      "tags": []
     },
     "output_type": "execute_result"
    }
   ],
   "source": [
    "dict_['Warner'] = '00000' #to add new value to dictionary we specify the new key and the new value\n",
    "dict_"
   ]
  },
  {
   "cell_type": "code",
   "execution_count": 0,
   "metadata": {
    "colab": {},
    "colab_type": "code",
    "id": "lrXLHLLxcOp0",
    "outputId": "6ca31b18-0cd7-42ec-ecab-592c97dde95b"
   },
   "outputs": [
    {
     "data": {
      "text/plain": [
       "'12345'"
      ]
     },
     "execution_count": 62,
     "metadata": {
      "tags": []
     },
     "output_type": "execute_result"
    }
   ],
   "source": [
    "dict_.pop('john') #pops out the value of the key that has been passed"
   ]
  },
  {
   "cell_type": "code",
   "execution_count": 0,
   "metadata": {
    "colab": {},
    "colab_type": "code",
    "id": "K8B7BWGCcOp4",
    "outputId": "aedb079c-868d-4abc-e9d0-2c608953eff5"
   },
   "outputs": [
    {
     "data": {
      "text/plain": [
       "{}"
      ]
     },
     "execution_count": 64,
     "metadata": {
      "tags": []
     },
     "output_type": "execute_result"
    }
   ],
   "source": [
    "dict_.clear() # clears all the element of the dictionary but the instance of the dictionary still remains in the memory\n",
    "dict_"
   ]
  },
  {
   "cell_type": "code",
   "execution_count": 0,
   "metadata": {
    "colab": {},
    "colab_type": "code",
    "id": "bKW4AuXrcOp8"
   },
   "outputs": [],
   "source": [
    "del(dict_) #deletes the dictionary, i.e no values remain inside the dictionary"
   ]
  },
  {
   "cell_type": "markdown",
   "metadata": {
    "colab_type": "text",
    "id": "WtyIIosRcOp_"
   },
   "source": [
    "#### Converting list to tuple and vice-versa"
   ]
  },
  {
   "cell_type": "code",
   "execution_count": 0,
   "metadata": {
    "colab": {
     "base_uri": "https://localhost:8080/",
     "height": 34
    },
    "colab_type": "code",
    "id": "2l9a-0V7cOqA",
    "outputId": "02ad354f-0fed-4391-99f3-f664b1cc5d21"
   },
   "outputs": [
    {
     "data": {
      "text/plain": [
       "[1, 2, 3, 4]"
      ]
     },
     "execution_count": 19,
     "metadata": {
      "tags": []
     },
     "output_type": "execute_result"
    }
   ],
   "source": [
    "x = (1,2,3,4) #tuple\n",
    "# 'x' is a tuple ,in order to convert tuple to list we use\n",
    "y = list(x)\n",
    "y\n",
    "#Now 'y' is a list, similarly we use tuple() to convert a list to tuple"
   ]
  },
  {
   "cell_type": "markdown",
   "metadata": {
    "colab_type": "text",
    "id": "k4FncmLzcOqF"
   },
   "source": [
    "###### Practise Questions:"
   ]
  },
  {
   "cell_type": "code",
   "execution_count": 0,
   "metadata": {
    "colab": {},
    "colab_type": "code",
    "id": "gqDwCyoGcOqH"
   },
   "outputs": [],
   "source": [
    "#perform the following operations on the given list.\n",
    "x = [1,2,3,4,5,6]\n",
    "# update the element at index 0 by 150\n",
    "# add an element 50 between 2 and 3\n",
    "# add an element 100 at the end\n",
    "# remove element 3 by passing index as parameter\n",
    "# copy the elements of z = [10,20] in x"
   ]
  },
  {
   "cell_type": "code",
   "execution_count": 0,
   "metadata": {
    "colab": {},
    "colab_type": "code",
    "id": "eEqC9XjMcOqK"
   },
   "outputs": [],
   "source": [
    "# Perform the following operations on the dictionary:\n",
    "## create a dictionary containing 5 names and their ages\n",
    "## update the age of one of the person\n",
    "## insert one more name with age 30\n",
    "## clear all the elements of this dict"
   ]
  }
 ],
 "metadata": {
  "colab": {
   "name": "Session_2 DS.ipynb",
   "provenance": []
  },
  "kernelspec": {
   "display_name": "Python 3",
   "language": "python",
   "name": "python3"
  },
  "language_info": {
   "codemirror_mode": {
    "name": "ipython",
    "version": 3
   },
   "file_extension": ".py",
   "mimetype": "text/x-python",
   "name": "python",
   "nbconvert_exporter": "python",
   "pygments_lexer": "ipython3",
   "version": "3.7.4"
  }
 },
 "nbformat": 4,
 "nbformat_minor": 1
}
