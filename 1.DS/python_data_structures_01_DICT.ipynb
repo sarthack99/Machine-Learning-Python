{
 "cells": [
  {
   "cell_type": "code",
   "execution_count": 24,
   "metadata": {
    "colab": {},
    "colab_type": "code",
    "id": "eJRmTZcTMuOc"
   },
   "outputs": [],
   "source": [
    "# empty dictionary\n",
    "my_dict1 = {}\n",
    "\n",
    "# dictionary with integer keys\n",
    "my_dict2 = {1: 'apple', 2: 'ball'}\n",
    "\n",
    "# dictionary with mixed keys\n",
    "my_dict3 = {'name': 'John', 1: [2, 4, 3]}\n",
    "\n",
    "# using dict()\n",
    "my_dict4 = dict({1:'apple', 2:'ball'})\n",
    "\n",
    "# from sequence having each item as a pair\n",
    "my_dict5 = dict([(1,'apple'), (2,'ball')])"
   ]
  },
  {
   "cell_type": "code",
   "execution_count": 25,
   "metadata": {
    "colab": {},
    "colab_type": "code",
    "id": "LNj4Z4xaT-Yy"
   },
   "outputs": [],
   "source": [
    "list1=[[2,3],[4,5]]"
   ]
  },
  {
   "cell_type": "code",
   "execution_count": 26,
   "metadata": {
    "colab": {
     "base_uri": "https://localhost:8080/",
     "height": 35
    },
    "colab_type": "code",
    "id": "tFa4DsPJUI7i",
    "outputId": "a11f9c20-1091-403a-9ffc-a43e964bf456"
   },
   "outputs": [
    {
     "data": {
      "text/plain": [
       "[[2, 3], [4, 5]]"
      ]
     },
     "execution_count": 26,
     "metadata": {},
     "output_type": "execute_result"
    }
   ],
   "source": [
    "list1"
   ]
  },
  {
   "cell_type": "code",
   "execution_count": 27,
   "metadata": {
    "colab": {},
    "colab_type": "code",
    "id": "Fv68irdAUN1-"
   },
   "outputs": [],
   "source": [
    "dict1=dict(list1)"
   ]
  },
  {
   "cell_type": "code",
   "execution_count": 28,
   "metadata": {
    "colab": {
     "base_uri": "https://localhost:8080/",
     "height": 35
    },
    "colab_type": "code",
    "id": "i74q-W6jU-LS",
    "outputId": "432cc41e-7fb1-42a0-8268-b3a952527e8b"
   },
   "outputs": [
    {
     "data": {
      "text/plain": [
       "{2: 3, 4: 5}"
      ]
     },
     "execution_count": 28,
     "metadata": {},
     "output_type": "execute_result"
    }
   ],
   "source": [
    "dict1"
   ]
  },
  {
   "cell_type": "code",
   "execution_count": 29,
   "metadata": {
    "colab": {
     "base_uri": "https://localhost:8080/",
     "height": 35
    },
    "colab_type": "code",
    "id": "n7bEcH8YTCOv",
    "outputId": "88438dbd-432a-455e-9503-691df5133c91"
   },
   "outputs": [
    {
     "data": {
      "text/plain": [
       "dict"
      ]
     },
     "execution_count": 29,
     "metadata": {},
     "output_type": "execute_result"
    }
   ],
   "source": [
    "type(my_dict5)"
   ]
  },
  {
   "cell_type": "code",
   "execution_count": 30,
   "metadata": {
    "colab": {},
    "colab_type": "code",
    "id": "sP4Z2YylMuOi",
    "outputId": "72190481-32ab-4230-d19a-c1c3b6b40cff"
   },
   "outputs": [
    {
     "name": "stdout",
     "output_type": "stream",
     "text": [
      "Jack\n",
      "29\n"
     ]
    }
   ],
   "source": [
    "# access elements from a dictionary\n",
    "# dictionary uses keys. Key can be used either inside square brackets \n",
    "# or with the get() method.\n",
    "\n",
    "my_dict = {'name1':'Jack', 'age': 26, 'name2':'bhupen', 'age': 29,}\n",
    "\n",
    "print(my_dict['name1'])\n",
    "# Trying to access keys which doesn't exist throws error\n",
    "#print(my_dict['name1'])\n",
    "\n",
    "print(my_dict.get('age'))\n",
    "\n",
    "my_dict.get('address')"
   ]
  },
  {
   "cell_type": "code",
   "execution_count": 31,
   "metadata": {
    "colab": {},
    "colab_type": "code",
    "id": "1l6nOB1TMuOo",
    "outputId": "e4660f04-e401-4b20-9766-0b8d6f19ef50"
   },
   "outputs": [
    {
     "name": "stdout",
     "output_type": "stream",
     "text": [
      "{'name': 'Jack', 'age': 27}\n",
      "{'name': 'Jack', 'age': 27, 'address': 'Downtown'}\n"
     ]
    }
   ],
   "source": [
    "# change or add elements in a dictionary\n",
    "# If the key is already present, value gets updated, else a new \n",
    "# key: value pair is added to the dictionary.\n",
    "my_dict = {'name':'Jack', 'age': 26}\n",
    "\n",
    "# update value\n",
    "my_dict['age'] = 27\n",
    "\n",
    "print(my_dict)\n",
    "\n",
    "# add item\n",
    "my_dict['address'] = 'Downtown'  \n",
    "\n",
    "print(my_dict)"
   ]
  },
  {
   "cell_type": "code",
   "execution_count": 34,
   "metadata": {
    "colab": {},
    "colab_type": "code",
    "id": "uWbYce4NMuOt",
    "outputId": "354684af-ad7f-45a3-af16-5c763a8cfaee"
   },
   "outputs": [
    {
     "name": "stdout",
     "output_type": "stream",
     "text": [
      "16\n",
      "(5, 25)\n"
     ]
    }
   ],
   "source": [
    "# delete or remove elements from a dictionary\n",
    "# create a dictionary\n",
    "squares = {1: 1,  2: 4, 3: 9, 4: 16, 5:25}  \n",
    "\n",
    "# remove a particular item\n",
    "print(squares.pop(4))  \n",
    "\n",
    "# remove an arbitrary item\n",
    "print(squares.popitem())\n",
    "\n",
    "# delete a particular item\n",
    "del squares[2]  \n",
    "\n",
    "# remove all items\n",
    "squares.clear()\n",
    "\n",
    "# delete the dictionary itself\n",
    "del squares"
   ]
  },
  {
   "cell_type": "code",
   "execution_count": 10,
   "metadata": {
    "colab": {},
    "colab_type": "code",
    "id": "s0IG0teLMuOy",
    "outputId": "87043083-0864-433a-bac0-1ff7faeecbe8"
   },
   "outputs": [
    {
     "name": "stdout",
     "output_type": "stream",
     "text": [
      "IBM 146.48\n",
      "MSFT 44.11\n",
      "CSCO 25.54\n"
     ]
    }
   ],
   "source": [
    "# iterating\n",
    "stocks = {\n",
    "        'IBM': 146.48,\n",
    "        'MSFT':44.11,\n",
    "        'CSCO':25.54\n",
    "    }\n",
    "    \n",
    "# print out all the keys\n",
    "for c in stocks:\n",
    "    print(c, stocks[c])\n"
   ]
  },
  {
   "cell_type": "code",
   "execution_count": 36,
   "metadata": {
    "colab": {},
    "colab_type": "code",
    "id": "26TfZlouMuO2",
    "outputId": "5835b745-030e-40f7-f53f-3fff87ea7e94"
   },
   "outputs": [
    {
     "name": "stdout",
     "output_type": "stream",
     "text": [
      "IBM\n",
      "MSFT\n",
      "CSCO\n"
     ]
    }
   ],
   "source": [
    "for index in stocks:\n",
    "    print(index)"
   ]
  },
  {
   "cell_type": "code",
   "execution_count": 12,
   "metadata": {
    "colab": {},
    "colab_type": "code",
    "id": "YfdtrCIBMuO7"
   },
   "outputs": [],
   "source": [
    "# nested dictionary\n",
    "users = {'user1': {'name': 'John', 'age': '27', 'sex': 'Male'},\n",
    "          'user2': {'name': 'Marie', 'age': '22', 'sex': 'Female'}}"
   ]
  },
  {
   "cell_type": "code",
   "execution_count": 13,
   "metadata": {
    "colab": {},
    "colab_type": "code",
    "id": "vRkbhHfsMuPA",
    "outputId": "838ab0e1-1622-47cd-89bc-6852de769ec6"
   },
   "outputs": [
    {
     "data": {
      "text/plain": [
       "{'user1': {'name': 'John', 'age': '27', 'sex': 'Male'},\n",
       " 'user2': {'name': 'Marie', 'age': '22', 'sex': 'Female'}}"
      ]
     },
     "execution_count": 13,
     "metadata": {},
     "output_type": "execute_result"
    }
   ],
   "source": [
    "users"
   ]
  },
  {
   "cell_type": "code",
   "execution_count": 14,
   "metadata": {
    "colab": {},
    "colab_type": "code",
    "id": "Oshlef0eMuPE",
    "outputId": "4641477b-3cff-4610-ca25-c2b677410f32"
   },
   "outputs": [
    {
     "name": "stdout",
     "output_type": "stream",
     "text": [
      "John\n",
      "27\n",
      "Male\n"
     ]
    }
   ],
   "source": [
    "print(users['user1']['name'])\n",
    "print(users['user1']['age'])\n",
    "print(users['user1']['sex'])"
   ]
  },
  {
   "cell_type": "code",
   "execution_count": 15,
   "metadata": {
    "colab": {},
    "colab_type": "code",
    "id": "GWLAW50fMuPJ",
    "outputId": "0397dd5b-518d-478d-fd84-212964940ed6"
   },
   "outputs": [
    {
     "name": "stdout",
     "output_type": "stream",
     "text": [
      "Original List: \n",
      "[{'key': {'subkey': 1}}, {'key': {'subkey': 10}}, {'key': {'subkey': 5}}]\n"
     ]
    }
   ],
   "source": [
    "my_list = [{'key': {'subkey': 1}}, {'key': {'subkey': 10}}, {'key': {'subkey': 5}}]\n",
    "print(\"Original List: \")\n",
    "print(my_list)\n"
   ]
  },
  {
   "cell_type": "code",
   "execution_count": 40,
   "metadata": {
    "colab": {},
    "colab_type": "code",
    "id": "9IkdakgXMuPP",
    "outputId": "849d144d-4455-48a0-8ff6-b7de4213ba34"
   },
   "outputs": [
    {
     "name": "stdout",
     "output_type": "stream",
     "text": [
      "Sorted List: \n",
      "[{'key': {'subkey': 10}}, {'key': {'subkey': 5}}, {'key': {'subkey': 1}}]\n"
     ]
    }
   ],
   "source": [
    "my_list.sort(key= lambda e: e['key']['subkey'], reverse=True)\n",
    "print(\"Sorted List: \")\n",
    "print(my_list)"
   ]
  }
 ],
 "metadata": {
  "colab": {
   "name": "python-data-structures-01-DICT.ipynb",
   "provenance": []
  },
  "kernelspec": {
   "display_name": "Python 3",
   "language": "python",
   "name": "python3"
  },
  "language_info": {
   "codemirror_mode": {
    "name": "ipython",
    "version": 3
   },
   "file_extension": ".py",
   "mimetype": "text/x-python",
   "name": "python",
   "nbconvert_exporter": "python",
   "pygments_lexer": "ipython3",
   "version": "3.7.4"
  }
 },
 "nbformat": 4,
 "nbformat_minor": 1
}
