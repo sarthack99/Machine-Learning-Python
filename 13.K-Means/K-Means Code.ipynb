{
 "cells": [
  {
   "cell_type": "markdown",
   "metadata": {},
   "source": [
    "# Exploratory Data Analysis"
   ]
  },
  {
   "cell_type": "code",
   "execution_count": 1,
   "metadata": {},
   "outputs": [],
   "source": [
    "#Import EDA Libraries\n",
    "import pandas as pd\n",
    "import numpy as np"
   ]
  },
  {
   "cell_type": "code",
   "execution_count": 2,
   "metadata": {},
   "outputs": [],
   "source": [
    "#Imporing Unlabelled Dataset\n",
    "data = pd.read_excel('university.xlsx')"
   ]
  },
  {
   "cell_type": "code",
   "execution_count": 3,
   "metadata": {},
   "outputs": [
    {
     "data": {
      "text/html": [
       "<div>\n",
       "<style scoped>\n",
       "    .dataframe tbody tr th:only-of-type {\n",
       "        vertical-align: middle;\n",
       "    }\n",
       "\n",
       "    .dataframe tbody tr th {\n",
       "        vertical-align: top;\n",
       "    }\n",
       "\n",
       "    .dataframe thead th {\n",
       "        text-align: right;\n",
       "    }\n",
       "</style>\n",
       "<table border=\"1\" class=\"dataframe\">\n",
       "  <thead>\n",
       "    <tr style=\"text-align: right;\">\n",
       "      <th></th>\n",
       "      <th>University</th>\n",
       "      <th>SAT</th>\n",
       "      <th>Top10</th>\n",
       "      <th>Accept</th>\n",
       "      <th>SFRatio</th>\n",
       "      <th>Expenses</th>\n",
       "      <th>GradRate</th>\n",
       "    </tr>\n",
       "  </thead>\n",
       "  <tbody>\n",
       "    <tr>\n",
       "      <th>0</th>\n",
       "      <td>Harvard University</td>\n",
       "      <td>1310</td>\n",
       "      <td>89</td>\n",
       "      <td>22</td>\n",
       "      <td>13</td>\n",
       "      <td>22704</td>\n",
       "      <td>94</td>\n",
       "    </tr>\n",
       "    <tr>\n",
       "      <th>1</th>\n",
       "      <td>California Institute of Technology</td>\n",
       "      <td>1415</td>\n",
       "      <td>100</td>\n",
       "      <td>25</td>\n",
       "      <td>6</td>\n",
       "      <td>63575</td>\n",
       "      <td>81</td>\n",
       "    </tr>\n",
       "    <tr>\n",
       "      <th>2</th>\n",
       "      <td>Massachusetts Institute of Technology</td>\n",
       "      <td>1260</td>\n",
       "      <td>62</td>\n",
       "      <td>59</td>\n",
       "      <td>9</td>\n",
       "      <td>25026</td>\n",
       "      <td>72</td>\n",
       "    </tr>\n",
       "    <tr>\n",
       "      <th>3</th>\n",
       "      <td>Stanford University</td>\n",
       "      <td>1310</td>\n",
       "      <td>76</td>\n",
       "      <td>24</td>\n",
       "      <td>12</td>\n",
       "      <td>31510</td>\n",
       "      <td>88</td>\n",
       "    </tr>\n",
       "    <tr>\n",
       "      <th>4</th>\n",
       "      <td>Princeton University</td>\n",
       "      <td>1280</td>\n",
       "      <td>83</td>\n",
       "      <td>33</td>\n",
       "      <td>13</td>\n",
       "      <td>21864</td>\n",
       "      <td>90</td>\n",
       "    </tr>\n",
       "  </tbody>\n",
       "</table>\n",
       "</div>"
      ],
      "text/plain": [
       "                              University   SAT  Top10  Accept  SFRatio  \\\n",
       "0                     Harvard University  1310     89      22       13   \n",
       "1     California Institute of Technology  1415    100      25        6   \n",
       "2  Massachusetts Institute of Technology  1260     62      59        9   \n",
       "3                    Stanford University  1310     76      24       12   \n",
       "4                   Princeton University  1280     83      33       13   \n",
       "\n",
       "   Expenses  GradRate  \n",
       "0     22704        94  \n",
       "1     63575        81  \n",
       "2     25026        72  \n",
       "3     31510        88  \n",
       "4     21864        90  "
      ]
     },
     "execution_count": 3,
     "metadata": {},
     "output_type": "execute_result"
    }
   ],
   "source": [
    "data.head()"
   ]
  },
  {
   "cell_type": "code",
   "execution_count": 7,
   "metadata": {},
   "outputs": [
    {
     "data": {
      "text/plain": [
       "(100, 7)"
      ]
     },
     "execution_count": 7,
     "metadata": {},
     "output_type": "execute_result"
    }
   ],
   "source": [
    "data.shape"
   ]
  },
  {
   "cell_type": "code",
   "execution_count": 8,
   "metadata": {},
   "outputs": [
    {
     "data": {
      "text/plain": [
       "University    0\n",
       "SAT           0\n",
       "Top10         0\n",
       "Accept        0\n",
       "SFRatio       0\n",
       "Expenses      0\n",
       "GradRate      0\n",
       "dtype: int64"
      ]
     },
     "execution_count": 8,
     "metadata": {},
     "output_type": "execute_result"
    }
   ],
   "source": [
    "#Checking for NULL values\n",
    "data.isnull().sum()"
   ]
  },
  {
   "cell_type": "code",
   "execution_count": 18,
   "metadata": {},
   "outputs": [],
   "source": [
    "data_new = data.iloc[:,1:]"
   ]
  },
  {
   "cell_type": "code",
   "execution_count": 19,
   "metadata": {},
   "outputs": [
    {
     "data": {
      "text/html": [
       "<div>\n",
       "<style scoped>\n",
       "    .dataframe tbody tr th:only-of-type {\n",
       "        vertical-align: middle;\n",
       "    }\n",
       "\n",
       "    .dataframe tbody tr th {\n",
       "        vertical-align: top;\n",
       "    }\n",
       "\n",
       "    .dataframe thead th {\n",
       "        text-align: right;\n",
       "    }\n",
       "</style>\n",
       "<table border=\"1\" class=\"dataframe\">\n",
       "  <thead>\n",
       "    <tr style=\"text-align: right;\">\n",
       "      <th></th>\n",
       "      <th>SAT</th>\n",
       "      <th>Top10</th>\n",
       "      <th>Accept</th>\n",
       "      <th>SFRatio</th>\n",
       "      <th>Expenses</th>\n",
       "      <th>GradRate</th>\n",
       "    </tr>\n",
       "  </thead>\n",
       "  <tbody>\n",
       "    <tr>\n",
       "      <th>0</th>\n",
       "      <td>1310</td>\n",
       "      <td>89</td>\n",
       "      <td>22</td>\n",
       "      <td>13</td>\n",
       "      <td>22704</td>\n",
       "      <td>94</td>\n",
       "    </tr>\n",
       "    <tr>\n",
       "      <th>1</th>\n",
       "      <td>1415</td>\n",
       "      <td>100</td>\n",
       "      <td>25</td>\n",
       "      <td>6</td>\n",
       "      <td>63575</td>\n",
       "      <td>81</td>\n",
       "    </tr>\n",
       "    <tr>\n",
       "      <th>2</th>\n",
       "      <td>1260</td>\n",
       "      <td>62</td>\n",
       "      <td>59</td>\n",
       "      <td>9</td>\n",
       "      <td>25026</td>\n",
       "      <td>72</td>\n",
       "    </tr>\n",
       "    <tr>\n",
       "      <th>3</th>\n",
       "      <td>1310</td>\n",
       "      <td>76</td>\n",
       "      <td>24</td>\n",
       "      <td>12</td>\n",
       "      <td>31510</td>\n",
       "      <td>88</td>\n",
       "    </tr>\n",
       "    <tr>\n",
       "      <th>4</th>\n",
       "      <td>1280</td>\n",
       "      <td>83</td>\n",
       "      <td>33</td>\n",
       "      <td>13</td>\n",
       "      <td>21864</td>\n",
       "      <td>90</td>\n",
       "    </tr>\n",
       "  </tbody>\n",
       "</table>\n",
       "</div>"
      ],
      "text/plain": [
       "    SAT  Top10  Accept  SFRatio  Expenses  GradRate\n",
       "0  1310     89      22       13     22704        94\n",
       "1  1415    100      25        6     63575        81\n",
       "2  1260     62      59        9     25026        72\n",
       "3  1310     76      24       12     31510        88\n",
       "4  1280     83      33       13     21864        90"
      ]
     },
     "execution_count": 19,
     "metadata": {},
     "output_type": "execute_result"
    }
   ],
   "source": [
    "data_new.head()"
   ]
  },
  {
   "cell_type": "markdown",
   "metadata": {},
   "source": [
    "# Data Preprocessing"
   ]
  },
  {
   "cell_type": "code",
   "execution_count": 20,
   "metadata": {},
   "outputs": [],
   "source": [
    "from sklearn.preprocessing import normalize"
   ]
  },
  {
   "cell_type": "code",
   "execution_count": 21,
   "metadata": {},
   "outputs": [],
   "source": [
    "# Data Normalizing\n",
    "data_new = normalize(data_new)"
   ]
  },
  {
   "cell_type": "code",
   "execution_count": 22,
   "metadata": {},
   "outputs": [
    {
     "data": {
      "text/plain": [
       "array([[5.76023081e-02, 3.91343925e-03, 9.67367005e-04, 5.71625958e-04,\n",
       "        9.98322750e-01, 4.13329539e-03],\n",
       "       [2.22516183e-02, 1.57255253e-03, 3.93138133e-04, 9.43531519e-05,\n",
       "        9.99750272e-01, 1.27376755e-03],\n",
       "       [5.02834427e-02, 2.47426464e-03, 2.35454216e-03, 3.59167448e-04,\n",
       "        9.98724949e-01, 2.87333958e-03],\n",
       "       [4.15379241e-02, 2.40983377e-03, 7.61000137e-04, 3.80500068e-04,\n",
       "        9.99129763e-01, 2.79033384e-03],\n",
       "       [5.84426668e-02, 3.78964168e-03, 1.50672500e-03, 5.93558335e-04,\n",
       "        9.98273803e-01, 4.10925001e-03],\n",
       "       [6.19998797e-02, 3.62814111e-03, 1.01036841e-03, 1.37777510e-03,\n",
       "        9.98060285e-01, 3.94962196e-03],\n",
       "       [2.69718106e-02, 1.61830864e-03, 4.81639476e-04, 4.43108318e-04,\n",
       "        9.99633099e-01, 1.77243327e-03],\n",
       "       [5.00059974e-02, 2.91079686e-03, 9.32947713e-04, 7.09040262e-04,\n",
       "        9.98739185e-01, 3.09738641e-03],\n",
       "       [2.76736953e-02, 1.74805131e-03, 4.08635370e-04, 5.44847160e-04,\n",
       "        9.99612923e-01, 2.15668668e-03],\n",
       "       [2.84023481e-02, 1.65535158e-03, 5.88085428e-04, 5.00961661e-04,\n",
       "        9.99592761e-01, 2.06918947e-03],\n",
       "       [3.61714933e-02, 2.51315586e-03, 9.87311231e-04, 6.88126010e-04,\n",
       "        9.99338477e-01, 2.54307438e-03],\n",
       "       [2.07227652e-02, 1.28979866e-03, 4.81524834e-04, 4.12735572e-04,\n",
       "        9.99783133e-01, 1.47896913e-03],\n",
       "       [3.28855235e-02, 2.29000407e-03, 7.18954766e-04, 6.65698857e-04,\n",
       "        9.99453636e-01, 2.18349225e-03],\n",
       "       [2.15168576e-02, 1.43215652e-03, 4.48627344e-04, 4.83137140e-04,\n",
       "        9.99766036e-01, 1.55294081e-03],\n",
       "       [2.17733642e-02, 1.44088439e-03, 4.62506102e-04, 4.09140013e-04,\n",
       "        9.99760305e-01, 1.67213744e-03],\n",
       "       [3.30980028e-02, 2.03515228e-03, 8.56906222e-04, 2.94561514e-04,\n",
       "        9.99447216e-01, 2.19582219e-03],\n",
       "       [5.69782714e-02, 3.44398121e-03, 9.15488676e-04, 9.59083374e-04,\n",
       "        9.98362198e-01, 3.57476530e-03],\n",
       "       [3.42139430e-02, 2.05067797e-03, 5.12669493e-04, 7.82495542e-04,\n",
       "        9.99408703e-01, 2.56334746e-03],\n",
       "       [1.88249945e-02, 1.13561452e-03, 3.49419852e-04, 2.76624049e-04,\n",
       "        9.99821229e-01, 1.28120612e-03],\n",
       "       [4.76470296e-02, 3.09779450e-03, 8.48205636e-04, 7.37570118e-04,\n",
       "        9.98854333e-01, 2.98715898e-03],\n",
       "       [1.81271786e-02, 1.13575068e-03, 3.43714022e-04, 1.64384967e-04,\n",
       "        9.99834202e-01, 1.24035930e-03],\n",
       "       [5.54027787e-02, 3.60203824e-03, 9.43390968e-04, 9.00509561e-04,\n",
       "        9.98450696e-01, 3.47339402e-03],\n",
       "       [5.16706465e-02, 3.57909733e-03, 1.23417149e-03, 9.46198145e-04,\n",
       "        9.98650433e-01, 3.49681923e-03],\n",
       "       [2.43183491e-02, 1.66984718e-03, 4.99034789e-04, 4.79841143e-04,\n",
       "        9.99701037e-01, 1.78500905e-03],\n",
       "       [2.61433002e-02, 1.65463925e-03, 6.61855702e-04, 3.89326883e-04,\n",
       "        9.99655172e-01, 1.65463925e-03],\n",
       "       [3.52729131e-02, 2.38480387e-03, 5.82335830e-04, 4.71414719e-04,\n",
       "        9.99371475e-01, 2.49572498e-03],\n",
       "       [2.68282256e-02, 1.74238268e-03, 4.46764790e-04, 4.69103029e-04,\n",
       "        9.99636217e-01, 2.05511803e-03],\n",
       "       [2.63594932e-02, 1.58156959e-03, 5.85766516e-04, 4.10036561e-04,\n",
       "        9.99649611e-01, 1.67919735e-03],\n",
       "       [4.26521297e-02, 2.71567867e-03, 8.94576503e-04, 5.75084895e-04,\n",
       "        9.99082208e-01, 2.65178035e-03],\n",
       "       [1.79242915e-02, 1.24882359e-03, 3.23224929e-04, 1.46920422e-04,\n",
       "        9.99837550e-01, 1.38105197e-03],\n",
       "       [2.07976784e-02, 1.33777138e-03, 4.19997993e-04, 2.79998662e-04,\n",
       "        9.99781888e-01, 1.25999398e-03],\n",
       "       [4.12211952e-02, 2.53573744e-03, 8.65861564e-04, 8.34937937e-04,\n",
       "        9.99142398e-01, 2.72127920e-03],\n",
       "       [2.92505613e-02, 1.82816008e-03, 6.09386693e-04, 3.04693347e-04,\n",
       "        9.99568288e-01, 1.95874294e-03],\n",
       "       [2.30289700e-02, 1.46499266e-03, 5.71704454e-04, 4.64509869e-04,\n",
       "        9.99732432e-01, 1.42926113e-03],\n",
       "       [3.57081004e-02, 2.23727587e-03, 1.03032442e-03, 3.53254085e-04,\n",
       "        9.99355807e-01, 2.59052996e-03],\n",
       "       [1.95148297e-02, 1.32379562e-03, 3.12356269e-04, 1.48741080e-04,\n",
       "        9.99807794e-01, 1.29404740e-03],\n",
       "       [2.31245715e-02, 1.43928868e-03, 5.37334442e-04, 4.41381863e-04,\n",
       "        9.99729919e-01, 1.66957487e-03],\n",
       "       [2.89501401e-02, 1.85037303e-03, 7.02673303e-04, 5.85561086e-04,\n",
       "        9.99576197e-01, 2.24855457e-03],\n",
       "       [2.20992867e-02, 1.26799186e-03, 4.44620523e-04, 1.97609121e-04,\n",
       "        9.99753947e-01, 1.35032899e-03],\n",
       "       [1.93711330e-02, 1.19442559e-03, 2.75636675e-04, 1.83757783e-04,\n",
       "        9.99810786e-01, 1.27099133e-03],\n",
       "       [1.85615999e-02, 1.27323371e-03, 2.76122974e-04, 4.29524626e-04,\n",
       "        9.99825947e-01, 1.28857388e-03],\n",
       "       [3.42256314e-02, 2.06489480e-03, 5.93657256e-04, 4.38790146e-04,\n",
       "        9.99409086e-01, 2.29719547e-03],\n",
       "       [3.06482695e-02, 2.13076086e-03, 8.67170116e-04, 4.45973203e-04,\n",
       "        9.99525052e-01, 2.20508972e-03],\n",
       "       [1.90002203e-02, 1.27590476e-03, 4.15053357e-04, 4.30425704e-04,\n",
       "        9.99817420e-01, 1.46037292e-03],\n",
       "       [5.05079122e-02, 3.21104902e-03, 1.01998028e-03, 1.01998028e-03,\n",
       "        9.98711798e-01, 3.36215720e-03],\n",
       "       [3.03193683e-02, 2.10449207e-03, 5.87300113e-04, 3.42591732e-04,\n",
       "        9.99535850e-01, 1.98213788e-03],\n",
       "       [1.92858562e-02, 1.35663896e-03, 4.00825148e-04, 3.08327037e-04,\n",
       "        9.99812083e-01, 1.32580626e-03],\n",
       "       [1.96394898e-02, 1.37282618e-03, 5.32979574e-04, 2.09961650e-04,\n",
       "        9.99805077e-01, 1.37282618e-03],\n",
       "       [1.84238547e-02, 1.10278460e-03, 4.85225223e-04, 3.38187276e-04,\n",
       "        9.99828627e-01, 1.30863772e-03],\n",
       "       [3.26897742e-02, 2.21841681e-03, 7.90470358e-04, 3.56986613e-04,\n",
       "        9.99460521e-01, 2.09092159e-03],\n",
       "       [3.15988487e-02, 1.91653366e-03, 4.55176744e-04, 7.18700122e-04,\n",
       "        9.99496259e-01, 2.08423035e-03],\n",
       "       [2.14273556e-02, 1.42739658e-03, 5.57833146e-04, 2.46102859e-04,\n",
       "        9.99768253e-01, 1.37817601e-03],\n",
       "       [3.08309264e-02, 1.95831617e-03, 4.77025735e-04, 6.02558823e-04,\n",
       "        9.99519554e-01, 2.38512867e-03],\n",
       "       [1.98814066e-02, 1.18718590e-03, 3.79899489e-04, 3.16582908e-04,\n",
       "        9.99800481e-01, 1.44045223e-03],\n",
       "       [5.53607496e-02, 3.82719009e-03, 9.34546416e-04, 6.67533154e-04,\n",
       "        9.98451590e-01, 3.69368345e-03],\n",
       "       [3.01043861e-02, 2.00060794e-03, 5.00151985e-04, 6.90686074e-04,\n",
       "        9.99541834e-01, 2.26259231e-03],\n",
       "       [3.52370565e-02, 2.41387710e-03, 9.71099982e-04, 6.38151417e-04,\n",
       "        9.99372864e-01, 2.24740282e-03],\n",
       "       [5.54907051e-02, 3.46005955e-03, 1.47052531e-03, 9.08265633e-04,\n",
       "        9.98443435e-01, 4.06556998e-03],\n",
       "       [2.36109915e-02, 1.31659804e-03, 4.03756731e-04, 1.75546405e-04,\n",
       "        9.99719221e-01, 1.43948052e-03],\n",
       "       [2.19686923e-02, 1.49669243e-03, 3.78473947e-04, 4.64490753e-04,\n",
       "        9.99756134e-01, 1.56550587e-03],\n",
       "       [2.50556506e-02, 1.47850023e-03, 5.91400092e-04, 2.56273373e-04,\n",
       "        9.99683003e-01, 1.87276696e-03],\n",
       "       [3.01430726e-02, 1.88100297e-03, 7.52401187e-04, 6.58351039e-04,\n",
       "        9.99541465e-01, 1.92802804e-03],\n",
       "       [1.81902294e-02, 1.15469717e-03, 3.89897745e-04, 2.24941007e-04,\n",
       "        9.99832782e-01, 1.40963031e-03],\n",
       "       [3.26948427e-02, 1.93343270e-03, 7.43627962e-04, 2.47875987e-04,\n",
       "        9.99460769e-01, 2.20609629e-03],\n",
       "       [4.68248031e-02, 2.77560419e-03, 1.15349784e-03, 1.08140423e-03,\n",
       "        9.98893087e-01, 3.13607227e-03],\n",
       "       [2.77638277e-02, 1.91552382e-03, 5.40853786e-04, 2.92962467e-04,\n",
       "        9.99610474e-01, 2.00566612e-03],\n",
       "       [3.03019499e-02, 2.04197832e-03, 5.04192177e-04, 3.02515306e-04,\n",
       "        9.99535782e-01, 2.34449363e-03],\n",
       "       [3.70492193e-02, 2.33749018e-03, 8.76558817e-04, 8.47340190e-04,\n",
       "        9.99306270e-01, 2.71733233e-03],\n",
       "       [3.08838099e-02, 1.76081737e-03, 7.64565435e-04, 5.56047589e-04,\n",
       "        9.99518711e-01, 2.13151576e-03],\n",
       "       [2.21108981e-02, 1.35609098e-03, 5.62281628e-04, 1.81914644e-04,\n",
       "        9.99753272e-01, 1.52146793e-03],\n",
       "       [5.46576956e-02, 3.85768034e-03, 1.34368641e-03, 1.12696280e-03,\n",
       "        9.98489038e-01, 3.77099090e-03],\n",
       "       [2.01299094e-02, 1.23183028e-03, 3.90580331e-04, 4.20624972e-04,\n",
       "        9.99795515e-01, 1.36703116e-03],\n",
       "       [2.61334958e-02, 1.56642350e-03, 3.56906620e-04, 4.36219202e-04,\n",
       "        9.99655786e-01, 1.60607979e-03],\n",
       "       [2.21573924e-02, 1.38817398e-03, 4.80521764e-04, 3.02550740e-04,\n",
       "        9.99752225e-01, 1.51275370e-03],\n",
       "       [6.03845943e-02, 3.89433633e-03, 1.34287460e-03, 8.95249730e-04,\n",
       "        9.98158687e-01, 3.89433633e-03],\n",
       "       [3.02761207e-02, 1.90164064e-03, 7.00604447e-04, 3.50302223e-04,\n",
       "        9.99537351e-01, 2.05177017e-03],\n",
       "       [1.98490927e-02, 1.19591560e-03, 4.81472515e-04, 3.72752915e-04,\n",
       "        9.99800975e-01, 1.49101166e-03],\n",
       "       [3.74621857e-02, 2.44869283e-03, 8.16230944e-04, 8.16230944e-04,\n",
       "        9.99291842e-01, 2.25167157e-03],\n",
       "       [2.27993504e-02, 1.28761392e-03, 5.49381938e-04, 3.94868268e-04,\n",
       "        9.99737782e-01, 1.56230489e-03],\n",
       "       [4.01522400e-02, 2.65296908e-03, 6.85598752e-04, 5.36555545e-04,\n",
       "        9.99185660e-01, 2.83182093e-03],\n",
       "       [5.12119809e-02, 3.48988142e-03, 1.33914055e-03, 1.13624046e-03,\n",
       "        9.98674207e-01, 3.44930141e-03],\n",
       "       [2.10340642e-02, 1.46867062e-03, 4.22031786e-04, 1.85693986e-04,\n",
       "        9.99776420e-01, 1.51931443e-03],\n",
       "       [2.04405970e-02, 1.20515005e-03, 5.47795479e-04, 1.72164293e-04,\n",
       "        9.99789354e-01, 1.28340655e-03],\n",
       "       [2.42823828e-02, 1.49315190e-03, 5.22603166e-04, 4.47945571e-04,\n",
       "        9.99702529e-01, 1.58647390e-03],\n",
       "       [3.20696130e-02, 2.05540658e-03, 6.58784161e-04, 3.16216397e-04,\n",
       "        9.99480978e-01, 2.13446068e-03],\n",
       "       [3.42816922e-02, 2.10623169e-03, 9.42261547e-04, 4.15703624e-04,\n",
       "        9.99406939e-01, 2.24479957e-03],\n",
       "       [5.21860120e-02, 3.28188429e-03, 1.09396143e-03, 5.67239260e-04,\n",
       "        9.98624718e-01, 3.60602101e-03],\n",
       "       [3.83105312e-02, 2.63896771e-03, 8.79655903e-04, 3.63995546e-04,\n",
       "        9.99258772e-01, 2.51763586e-03],\n",
       "       [2.72060597e-02, 1.73881286e-03, 6.78561115e-04, 2.96870488e-04,\n",
       "        9.99626548e-01, 1.73881286e-03],\n",
       "       [2.79909750e-02, 1.76620370e-03, 5.36568212e-04, 6.70710265e-04,\n",
       "        9.99604221e-01, 2.01213079e-03],\n",
       "       [5.53417705e-02, 3.74357535e-03, 8.11859714e-04, 9.47169666e-04,\n",
       "        9.98452138e-01, 3.87888530e-03],\n",
       "       [2.53188874e-02, 1.52264704e-03, 3.70901203e-04, 5.07549015e-04,\n",
       "        9.99676348e-01, 1.85450602e-03],\n",
       "       [2.48628663e-02, 1.52601425e-03, 4.28028387e-04, 4.28028387e-04,\n",
       "        9.99688212e-01, 1.61906390e-03],\n",
       "       [1.96003491e-02, 1.37766032e-03, 3.44415080e-04, 4.22691235e-04,\n",
       "        9.99805667e-01, 1.50290217e-03],\n",
       "       [4.17719690e-02, 2.73334670e-03, 1.12549570e-03, 4.18041260e-04,\n",
       "        9.99118611e-01, 2.86197478e-03],\n",
       "       [4.68792820e-02, 2.91556909e-03, 8.05617776e-04, 7.67255024e-04,\n",
       "        9.98889316e-01, 3.56773586e-03],\n",
       "       [2.86872739e-02, 1.86280999e-03, 6.75268622e-04, 5.12272747e-04,\n",
       "        9.99583841e-01, 2.23537199e-03],\n",
       "       [2.30563794e-02, 1.37036430e-03, 4.45368398e-04, 2.91202414e-04,\n",
       "        9.99732146e-01, 1.37036430e-03],\n",
       "       [5.17439068e-02, 3.55713508e-03, 1.15813700e-03, 9.92688859e-04,\n",
       "        9.98644993e-01, 3.97075544e-03],\n",
       "       [2.83610090e-02, 1.72394569e-03, 4.20474559e-04, 4.20474559e-04,\n",
       "        9.99594170e-01, 1.95520670e-03]])"
      ]
     },
     "execution_count": 22,
     "metadata": {},
     "output_type": "execute_result"
    }
   ],
   "source": [
    "data_new"
   ]
  },
  {
   "cell_type": "markdown",
   "metadata": {},
   "source": [
    "# Machine Learning Model"
   ]
  },
  {
   "cell_type": "code",
   "execution_count": 23,
   "metadata": {},
   "outputs": [],
   "source": [
    "#Importing Machine Learning Model\n",
    "from sklearn.cluster import KMeans"
   ]
  },
  {
   "cell_type": "code",
   "execution_count": 24,
   "metadata": {},
   "outputs": [],
   "source": [
    "model = KMeans(n_clusters = 3)"
   ]
  },
  {
   "cell_type": "code",
   "execution_count": 25,
   "metadata": {},
   "outputs": [
    {
     "data": {
      "text/plain": [
       "KMeans(algorithm='auto', copy_x=True, init='k-means++', max_iter=300,\n",
       "    n_clusters=3, n_init=10, n_jobs=None, precompute_distances='auto',\n",
       "    random_state=None, tol=0.0001, verbose=0)"
      ]
     },
     "execution_count": 25,
     "metadata": {},
     "output_type": "execute_result"
    }
   ],
   "source": [
    "model.fit(data_new)"
   ]
  },
  {
   "cell_type": "code",
   "execution_count": 26,
   "metadata": {},
   "outputs": [
    {
     "data": {
      "text/plain": [
       "array([0, 1, 0, 2, 0, 0, 1, 0, 1, 2, 2, 1, 2, 1, 1, 2, 0, 2, 1, 0, 1, 0,\n",
       "       0, 1, 1, 2, 1, 1, 2, 1, 1, 2, 2, 1, 2, 1, 1, 2, 1, 1, 1, 2, 2, 1,\n",
       "       0, 2, 1, 1, 1, 2, 2, 1, 2, 1, 0, 2, 2, 0, 1, 1, 1, 2, 1, 2, 0, 1,\n",
       "       2, 2, 2, 1, 0, 1, 1, 1, 0, 2, 1, 2, 1, 2, 0, 1, 1, 1, 2, 2, 0, 2,\n",
       "       1, 1, 0, 1, 1, 1, 2, 0, 2, 1, 0, 2])"
      ]
     },
     "execution_count": 26,
     "metadata": {},
     "output_type": "execute_result"
    }
   ],
   "source": [
    "model.labels_"
   ]
  },
  {
   "cell_type": "code",
   "execution_count": 27,
   "metadata": {},
   "outputs": [],
   "source": [
    "#Checking for the labelled clusters\n",
    "cluster = pd.DataFrame(model.labels_)"
   ]
  },
  {
   "cell_type": "code",
   "execution_count": 28,
   "metadata": {},
   "outputs": [
    {
     "data": {
      "text/html": [
       "<div>\n",
       "<style scoped>\n",
       "    .dataframe tbody tr th:only-of-type {\n",
       "        vertical-align: middle;\n",
       "    }\n",
       "\n",
       "    .dataframe tbody tr th {\n",
       "        vertical-align: top;\n",
       "    }\n",
       "\n",
       "    .dataframe thead th {\n",
       "        text-align: right;\n",
       "    }\n",
       "</style>\n",
       "<table border=\"1\" class=\"dataframe\">\n",
       "  <thead>\n",
       "    <tr style=\"text-align: right;\">\n",
       "      <th></th>\n",
       "      <th>0</th>\n",
       "    </tr>\n",
       "  </thead>\n",
       "  <tbody>\n",
       "    <tr>\n",
       "      <th>0</th>\n",
       "      <td>0</td>\n",
       "    </tr>\n",
       "    <tr>\n",
       "      <th>1</th>\n",
       "      <td>1</td>\n",
       "    </tr>\n",
       "    <tr>\n",
       "      <th>2</th>\n",
       "      <td>0</td>\n",
       "    </tr>\n",
       "    <tr>\n",
       "      <th>3</th>\n",
       "      <td>2</td>\n",
       "    </tr>\n",
       "    <tr>\n",
       "      <th>4</th>\n",
       "      <td>0</td>\n",
       "    </tr>\n",
       "  </tbody>\n",
       "</table>\n",
       "</div>"
      ],
      "text/plain": [
       "   0\n",
       "0  0\n",
       "1  1\n",
       "2  0\n",
       "3  2\n",
       "4  0"
      ]
     },
     "execution_count": 28,
     "metadata": {},
     "output_type": "execute_result"
    }
   ],
   "source": [
    "cluster.head()"
   ]
  },
  {
   "cell_type": "code",
   "execution_count": 29,
   "metadata": {},
   "outputs": [],
   "source": [
    "#Creating a new Column and updating it with the labels\n",
    "data['Tier'] = cluster"
   ]
  },
  {
   "cell_type": "code",
   "execution_count": 30,
   "metadata": {},
   "outputs": [
    {
     "data": {
      "text/html": [
       "<div>\n",
       "<style scoped>\n",
       "    .dataframe tbody tr th:only-of-type {\n",
       "        vertical-align: middle;\n",
       "    }\n",
       "\n",
       "    .dataframe tbody tr th {\n",
       "        vertical-align: top;\n",
       "    }\n",
       "\n",
       "    .dataframe thead th {\n",
       "        text-align: right;\n",
       "    }\n",
       "</style>\n",
       "<table border=\"1\" class=\"dataframe\">\n",
       "  <thead>\n",
       "    <tr style=\"text-align: right;\">\n",
       "      <th></th>\n",
       "      <th>University</th>\n",
       "      <th>SAT</th>\n",
       "      <th>Top10</th>\n",
       "      <th>Accept</th>\n",
       "      <th>SFRatio</th>\n",
       "      <th>Expenses</th>\n",
       "      <th>GradRate</th>\n",
       "      <th>Tier</th>\n",
       "    </tr>\n",
       "  </thead>\n",
       "  <tbody>\n",
       "    <tr>\n",
       "      <th>0</th>\n",
       "      <td>Harvard University</td>\n",
       "      <td>1310</td>\n",
       "      <td>89</td>\n",
       "      <td>22</td>\n",
       "      <td>13</td>\n",
       "      <td>22704</td>\n",
       "      <td>94</td>\n",
       "      <td>0</td>\n",
       "    </tr>\n",
       "    <tr>\n",
       "      <th>1</th>\n",
       "      <td>California Institute of Technology</td>\n",
       "      <td>1415</td>\n",
       "      <td>100</td>\n",
       "      <td>25</td>\n",
       "      <td>6</td>\n",
       "      <td>63575</td>\n",
       "      <td>81</td>\n",
       "      <td>1</td>\n",
       "    </tr>\n",
       "    <tr>\n",
       "      <th>2</th>\n",
       "      <td>Massachusetts Institute of Technology</td>\n",
       "      <td>1260</td>\n",
       "      <td>62</td>\n",
       "      <td>59</td>\n",
       "      <td>9</td>\n",
       "      <td>25026</td>\n",
       "      <td>72</td>\n",
       "      <td>0</td>\n",
       "    </tr>\n",
       "    <tr>\n",
       "      <th>3</th>\n",
       "      <td>Stanford University</td>\n",
       "      <td>1310</td>\n",
       "      <td>76</td>\n",
       "      <td>24</td>\n",
       "      <td>12</td>\n",
       "      <td>31510</td>\n",
       "      <td>88</td>\n",
       "      <td>2</td>\n",
       "    </tr>\n",
       "    <tr>\n",
       "      <th>4</th>\n",
       "      <td>Princeton University</td>\n",
       "      <td>1280</td>\n",
       "      <td>83</td>\n",
       "      <td>33</td>\n",
       "      <td>13</td>\n",
       "      <td>21864</td>\n",
       "      <td>90</td>\n",
       "      <td>0</td>\n",
       "    </tr>\n",
       "  </tbody>\n",
       "</table>\n",
       "</div>"
      ],
      "text/plain": [
       "                              University   SAT  Top10  Accept  SFRatio  \\\n",
       "0                     Harvard University  1310     89      22       13   \n",
       "1     California Institute of Technology  1415    100      25        6   \n",
       "2  Massachusetts Institute of Technology  1260     62      59        9   \n",
       "3                    Stanford University  1310     76      24       12   \n",
       "4                   Princeton University  1280     83      33       13   \n",
       "\n",
       "   Expenses  GradRate  Tier  \n",
       "0     22704        94     0  \n",
       "1     63575        81     1  \n",
       "2     25026        72     0  \n",
       "3     31510        88     2  \n",
       "4     21864        90     0  "
      ]
     },
     "execution_count": 30,
     "metadata": {},
     "output_type": "execute_result"
    }
   ],
   "source": [
    "data.head()"
   ]
  },
  {
   "cell_type": "code",
   "execution_count": 31,
   "metadata": {},
   "outputs": [],
   "source": [
    "#Rearranging the columns in the Dataset\n",
    "new = data.iloc[:,[0,7,1,2,3,4,5,6]]"
   ]
  },
  {
   "cell_type": "code",
   "execution_count": 32,
   "metadata": {},
   "outputs": [
    {
     "data": {
      "text/html": [
       "<div>\n",
       "<style scoped>\n",
       "    .dataframe tbody tr th:only-of-type {\n",
       "        vertical-align: middle;\n",
       "    }\n",
       "\n",
       "    .dataframe tbody tr th {\n",
       "        vertical-align: top;\n",
       "    }\n",
       "\n",
       "    .dataframe thead th {\n",
       "        text-align: right;\n",
       "    }\n",
       "</style>\n",
       "<table border=\"1\" class=\"dataframe\">\n",
       "  <thead>\n",
       "    <tr style=\"text-align: right;\">\n",
       "      <th></th>\n",
       "      <th>University</th>\n",
       "      <th>Tier</th>\n",
       "      <th>SAT</th>\n",
       "      <th>Top10</th>\n",
       "      <th>Accept</th>\n",
       "      <th>SFRatio</th>\n",
       "      <th>Expenses</th>\n",
       "      <th>GradRate</th>\n",
       "    </tr>\n",
       "  </thead>\n",
       "  <tbody>\n",
       "    <tr>\n",
       "      <th>0</th>\n",
       "      <td>Harvard University</td>\n",
       "      <td>0</td>\n",
       "      <td>1310</td>\n",
       "      <td>89</td>\n",
       "      <td>22</td>\n",
       "      <td>13</td>\n",
       "      <td>22704</td>\n",
       "      <td>94</td>\n",
       "    </tr>\n",
       "    <tr>\n",
       "      <th>1</th>\n",
       "      <td>California Institute of Technology</td>\n",
       "      <td>1</td>\n",
       "      <td>1415</td>\n",
       "      <td>100</td>\n",
       "      <td>25</td>\n",
       "      <td>6</td>\n",
       "      <td>63575</td>\n",
       "      <td>81</td>\n",
       "    </tr>\n",
       "    <tr>\n",
       "      <th>2</th>\n",
       "      <td>Massachusetts Institute of Technology</td>\n",
       "      <td>0</td>\n",
       "      <td>1260</td>\n",
       "      <td>62</td>\n",
       "      <td>59</td>\n",
       "      <td>9</td>\n",
       "      <td>25026</td>\n",
       "      <td>72</td>\n",
       "    </tr>\n",
       "    <tr>\n",
       "      <th>3</th>\n",
       "      <td>Stanford University</td>\n",
       "      <td>2</td>\n",
       "      <td>1310</td>\n",
       "      <td>76</td>\n",
       "      <td>24</td>\n",
       "      <td>12</td>\n",
       "      <td>31510</td>\n",
       "      <td>88</td>\n",
       "    </tr>\n",
       "    <tr>\n",
       "      <th>4</th>\n",
       "      <td>Princeton University</td>\n",
       "      <td>0</td>\n",
       "      <td>1280</td>\n",
       "      <td>83</td>\n",
       "      <td>33</td>\n",
       "      <td>13</td>\n",
       "      <td>21864</td>\n",
       "      <td>90</td>\n",
       "    </tr>\n",
       "  </tbody>\n",
       "</table>\n",
       "</div>"
      ],
      "text/plain": [
       "                              University  Tier   SAT  Top10  Accept  SFRatio  \\\n",
       "0                     Harvard University     0  1310     89      22       13   \n",
       "1     California Institute of Technology     1  1415    100      25        6   \n",
       "2  Massachusetts Institute of Technology     0  1260     62      59        9   \n",
       "3                    Stanford University     2  1310     76      24       12   \n",
       "4                   Princeton University     0  1280     83      33       13   \n",
       "\n",
       "   Expenses  GradRate  \n",
       "0     22704        94  \n",
       "1     63575        81  \n",
       "2     25026        72  \n",
       "3     31510        88  \n",
       "4     21864        90  "
      ]
     },
     "execution_count": 32,
     "metadata": {},
     "output_type": "execute_result"
    }
   ],
   "source": [
    "new.head()"
   ]
  },
  {
   "cell_type": "code",
   "execution_count": 33,
   "metadata": {},
   "outputs": [],
   "source": [
    "new1 = new.groupby('Tier')"
   ]
  },
  {
   "cell_type": "code",
   "execution_count": 34,
   "metadata": {},
   "outputs": [
    {
     "data": {
      "text/html": [
       "<div>\n",
       "<style scoped>\n",
       "    .dataframe tbody tr th:only-of-type {\n",
       "        vertical-align: middle;\n",
       "    }\n",
       "\n",
       "    .dataframe tbody tr th {\n",
       "        vertical-align: top;\n",
       "    }\n",
       "\n",
       "    .dataframe thead th {\n",
       "        text-align: right;\n",
       "    }\n",
       "</style>\n",
       "<table border=\"1\" class=\"dataframe\">\n",
       "  <thead>\n",
       "    <tr style=\"text-align: right;\">\n",
       "      <th></th>\n",
       "      <th>SAT</th>\n",
       "      <th>Top10</th>\n",
       "      <th>Accept</th>\n",
       "      <th>SFRatio</th>\n",
       "      <th>Expenses</th>\n",
       "      <th>GradRate</th>\n",
       "    </tr>\n",
       "    <tr>\n",
       "      <th>Tier</th>\n",
       "      <th></th>\n",
       "      <th></th>\n",
       "      <th></th>\n",
       "      <th></th>\n",
       "      <th></th>\n",
       "      <th></th>\n",
       "    </tr>\n",
       "  </thead>\n",
       "  <tbody>\n",
       "    <tr>\n",
       "      <th>0</th>\n",
       "      <td>1285.500000</td>\n",
       "      <td>82.050000</td>\n",
       "      <td>27.950000</td>\n",
       "      <td>20.800000</td>\n",
       "      <td>24110.700000</td>\n",
       "      <td>86.500000</td>\n",
       "    </tr>\n",
       "    <tr>\n",
       "      <th>1</th>\n",
       "      <td>1279.956522</td>\n",
       "      <td>81.260870</td>\n",
       "      <td>26.130435</td>\n",
       "      <td>19.326087</td>\n",
       "      <td>58219.217391</td>\n",
       "      <td>87.978261</td>\n",
       "    </tr>\n",
       "    <tr>\n",
       "      <th>2</th>\n",
       "      <td>1274.970588</td>\n",
       "      <td>81.441176</td>\n",
       "      <td>27.529412</td>\n",
       "      <td>19.500000</td>\n",
       "      <td>38257.882353</td>\n",
       "      <td>87.941176</td>\n",
       "    </tr>\n",
       "  </tbody>\n",
       "</table>\n",
       "</div>"
      ],
      "text/plain": [
       "              SAT      Top10     Accept    SFRatio      Expenses   GradRate\n",
       "Tier                                                                       \n",
       "0     1285.500000  82.050000  27.950000  20.800000  24110.700000  86.500000\n",
       "1     1279.956522  81.260870  26.130435  19.326087  58219.217391  87.978261\n",
       "2     1274.970588  81.441176  27.529412  19.500000  38257.882353  87.941176"
      ]
     },
     "execution_count": 34,
     "metadata": {},
     "output_type": "execute_result"
    }
   ],
   "source": [
    "new1.mean()"
   ]
  },
  {
   "cell_type": "markdown",
   "metadata": {},
   "source": [
    "# Data Visualization"
   ]
  },
  {
   "cell_type": "code",
   "execution_count": 35,
   "metadata": {},
   "outputs": [],
   "source": [
    "import matplotlib.pyplot as plt\n",
    "import seaborn as sb\n",
    "%matplotlib inline"
   ]
  },
  {
   "cell_type": "code",
   "execution_count": 36,
   "metadata": {},
   "outputs": [
    {
     "data": {
      "text/plain": [
       "<matplotlib.collections.PathCollection at 0x1360758e9b0>"
      ]
     },
     "execution_count": 36,
     "metadata": {},
     "output_type": "execute_result"
    },
    {
     "data": {
      "image/png": "[encoded data removed]",
      "text/plain": [
       "<Figure size 432x288 with 1 Axes>"
      ]
     },
     "metadata": {
      "needs_background": "light"
     },
     "output_type": "display_data"
    }
   ],
   "source": [
    "plt.scatter(x= data.SAT,y = data.GradRate)"
   ]
  },
  {
   "cell_type": "code",
   "execution_count": 37,
   "metadata": {},
   "outputs": [
    {
     "data": {
      "text/plain": [
       "<matplotlib.collections.PathCollection at 0x1360761b550>"
      ]
     },
     "execution_count": 37,
     "metadata": {},
     "output_type": "execute_result"
    },
    {
     "data": {
      "image/png": "[encoded data removed]",
      "text/plain": [
       "<Figure size 432x288 with 1 Axes>"
      ]
     },
     "metadata": {
      "needs_background": "light"
     },
     "output_type": "display_data"
    }
   ],
   "source": [
    "plt.scatter(x= data.SAT,y = data.GradRate,c = model.labels_)"
   ]
  },
  {
   "cell_type": "code",
   "execution_count": null,
   "metadata": {},
   "outputs": [],
   "source": []
  }
 ],
 "metadata": {
  "kernelspec": {
   "display_name": "Python 3",
   "language": "python",
   "name": "python3"
  },
  "language_info": {
   "codemirror_mode": {
    "name": "ipython",
    "version": 3
   },
   "file_extension": ".py",
   "mimetype": "text/x-python",
   "name": "python",
   "nbconvert_exporter": "python",
   "pygments_lexer": "ipython3",
   "version": "3.7.2"
  }
 },
 "nbformat": 4,
 "nbformat_minor": 2
}
