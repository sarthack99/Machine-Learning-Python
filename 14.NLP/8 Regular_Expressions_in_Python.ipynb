{
  "nbformat": 4,
  "nbformat_minor": 0,
  "metadata": {
    "kernelspec": {
      "display_name": "Python 3",
      "language": "python",
      "name": "python3"
    },
    "language_info": {
      "codemirror_mode": {
        "name": "ipython",
        "version": 3
      },
      "file_extension": ".py",
      "mimetype": "text/x-python",
      "name": "python",
      "nbconvert_exporter": "python",
      "pygments_lexer": "ipython3",
      "version": "3.7.2"
    },
    "colab": {
      "name": "1.Regular Expressions in Python.ipynb",
      "version": "0.3.2",
      "provenance": []
    }
  },
  "cells": [
    {
      "cell_type": "markdown",
      "metadata": {
        "id": "CWyxmt-rh1Yr",
        "colab_type": "text"
      },
      "source": [
        "## Regular Expressions in Python"
      ]
    },
    {
      "cell_type": "markdown",
      "metadata": {
        "id": "dnAqhDc1h1Yt",
        "colab_type": "text"
      },
      "source": [
        "In Python, regular expressions are supported by the re module. "
      ]
    },
    {
      "cell_type": "code",
      "metadata": {
        "id": "lSWF7czUh1Yv",
        "colab_type": "code",
        "colab": {}
      },
      "source": [
        "import re"
      ],
      "execution_count": 0,
      "outputs": []
    },
    {
      "cell_type": "markdown",
      "metadata": {
        "id": "M2hszD6Qh1Y1",
        "colab_type": "text"
      },
      "source": [
        "## Basic Patterns: Ordinary Characters"
      ]
    },
    {
      "cell_type": "markdown",
      "metadata": {
        "id": "L0sjdBVRh1Y2",
        "colab_type": "text"
      },
      "source": [
        "Ordinary characters are the simplest regular expressions. They match themselves exactly and do not have a special meaning in their regular expression syntax."
      ]
    },
    {
      "cell_type": "code",
      "metadata": {
        "id": "Bu0_OPV_h1Y4",
        "colab_type": "code",
        "outputId": "e1ab994c-eb02-44e8-8087-9a509044b545",
        "colab": {
          "base_uri": "https://localhost:8080/",
          "height": 35
        }
      },
      "source": [
        "pattern = r\"Cookie\"\n",
        "sequence = \"Cookie\"\n",
        "if re.match(pattern, sequence):\n",
        "  print(\"Match!\")\n",
        "else: print(\"Not a match!\")"
      ],
      "execution_count": 0,
      "outputs": [
        {
          "output_type": "stream",
          "text": [
            "Match!\n"
          ],
          "name": "stdout"
        }
      ]
    },
    {
      "cell_type": "markdown",
      "metadata": {
        "id": "xPvDuXvjh1ZE",
        "colab_type": "text"
      },
      "source": [
        "The match() function returns a match object if the text matches the pattern. Otherwise it returns None. The re module also contains several other functions and you will learn some of them later on in the tutorial. "
      ]
    },
    {
      "cell_type": "markdown",
      "metadata": {
        "id": "FY5OYzeVh1ZH",
        "colab_type": "raw"
      },
      "source": [
        "For now, though, let's focus on ordinary characters! Do you notice the r at the start of the pattern Cookie? "
      ]
    },
    {
      "cell_type": "markdown",
      "metadata": {
        "id": "-2EbDOtgh1ZJ",
        "colab_type": "raw"
      },
      "source": [
        "This is called a raw string literal. It changes how the string literal is interpreted. Such literals are stored as they appear.\n",
        "\n",
        "For example, \\ is just a backslash when prefixed with a r rather than being interpreted as an escape sequence. You will see what this means with special characters. Sometimes, the syntax involves backslash-escaped characters and to prevent these characters from being interpreted as escape sequences, you use the raw r prefix. You don't actually need it for this example, however it is a good practice to use it for consistency."
      ]
    },
    {
      "cell_type": "markdown",
      "metadata": {
        "id": "nX6o9lR2h1ZL",
        "colab_type": "text"
      },
      "source": [
        "#### Wild Card Characters: Special Characters"
      ]
    },
    {
      "cell_type": "markdown",
      "metadata": {
        "id": "y3ZDSXzph1ZN",
        "colab_type": "text"
      },
      "source": [
        "##### Special characters are characters which do not match themselves as seen but actually have a special meaning when used in a regular expression. "
      ]
    },
    {
      "cell_type": "code",
      "metadata": {
        "id": "iShtiWOjh1ZP",
        "colab_type": "code",
        "colab": {}
      },
      "source": [
        "The most widely used special characters are:"
      ],
      "execution_count": 0,
      "outputs": []
    },
    {
      "cell_type": "markdown",
      "metadata": {
        "id": "6wfGduoCh1ZU",
        "colab_type": "text"
      },
      "source": [
        "# . - A period. Matches any single character except newline character."
      ]
    },
    {
      "cell_type": "code",
      "metadata": {
        "id": "Xa6UFgIVh1ZV",
        "colab_type": "code",
        "outputId": "a6030e04-2bac-4f87-dbad-0eac7ae45505",
        "colab": {}
      },
      "source": [
        "re.search(r'Co.k.e', 'Cookie').group()"
      ],
      "execution_count": 0,
      "outputs": [
        {
          "output_type": "execute_result",
          "data": {
            "text/plain": [
              "'Cookie'"
            ]
          },
          "metadata": {
            "tags": []
          },
          "execution_count": 87
        }
      ]
    },
    {
      "cell_type": "code",
      "metadata": {
        "id": "rbSI3H5mh1Zc",
        "colab_type": "code",
        "colab": {}
      },
      "source": [
        "The group() function returns the string matched by the re. You will see this function in more detail later."
      ],
      "execution_count": 0,
      "outputs": []
    },
    {
      "cell_type": "code",
      "metadata": {
        "id": "sYqCbnVYh1Zh",
        "colab_type": "code",
        "outputId": "4827108d-a640-43cc-cf8b-d5f4f5b38066",
        "colab": {}
      },
      "source": [
        "re.search(r'l..' ,'Man lived a century ago').group()"
      ],
      "execution_count": 0,
      "outputs": [
        {
          "output_type": "execute_result",
          "data": {
            "text/plain": [
              "'liv'"
            ]
          },
          "metadata": {
            "tags": []
          },
          "execution_count": 94
        }
      ]
    },
    {
      "cell_type": "markdown",
      "metadata": {
        "id": "Ztl_t72kh1Zq",
        "colab_type": "text"
      },
      "source": [
        "#### Regular expressions use the backslash character ('\\') to indicate special forms or to allow special characters to be used without invoking their special meaning. "
      ]
    },
    {
      "cell_type": "code",
      "metadata": {
        "id": "JuGlr-ajh1Zu",
        "colab_type": "code",
        "colab": {}
      },
      "source": [
        ""
      ],
      "execution_count": 0,
      "outputs": []
    },
    {
      "cell_type": "markdown",
      "metadata": {
        "id": "EbdK1vGAh1Z0",
        "colab_type": "text"
      },
      "source": [
        "# \\w - Lowercase w. Matches any single letter, digit or underscore."
      ]
    },
    {
      "cell_type": "code",
      "metadata": {
        "id": "XE0rIdLKh1Z2",
        "colab_type": "code",
        "outputId": "9e656ba6-a9f7-452e-afb4-70cc732efc6d",
        "colab": {}
      },
      "source": [
        "re.search(r'Co\\wk\\we', 'Cookie').group()"
      ],
      "execution_count": 0,
      "outputs": [
        {
          "output_type": "execute_result",
          "data": {
            "text/plain": [
              "'Cookie'"
            ]
          },
          "metadata": {
            "tags": []
          },
          "execution_count": 95
        }
      ]
    },
    {
      "cell_type": "code",
      "metadata": {
        "id": "UPO_BpfSh1Z7",
        "colab_type": "code",
        "outputId": "96acbbb8-5a25-4ab6-bbc8-981135af4eda",
        "colab": {}
      },
      "source": [
        "re.search(r'I\\W.....' ,'Today is I@gmail.com match').group()"
      ],
      "execution_count": 0,
      "outputs": [
        {
          "output_type": "execute_result",
          "data": {
            "text/plain": [
              "'I@gmail'"
            ]
          },
          "metadata": {
            "tags": []
          },
          "execution_count": 105
        }
      ]
    },
    {
      "cell_type": "code",
      "metadata": {
        "id": "OhDwBgh0h1aC",
        "colab_type": "code",
        "outputId": "0bd28b17-4e84-4d4e-95a5-835fd5dfd6c7",
        "colab": {}
      },
      "source": [
        "re.search(r'ce\\w..' ,'Man lived a century ago').group()"
      ],
      "execution_count": 0,
      "outputs": [
        {
          "output_type": "execute_result",
          "data": {
            "text/plain": [
              "'centu'"
            ]
          },
          "metadata": {
            "tags": []
          },
          "execution_count": 19
        }
      ]
    },
    {
      "cell_type": "markdown",
      "metadata": {
        "id": "yvtIt2xZh1aJ",
        "colab_type": "text"
      },
      "source": [
        "# \\W - Uppercase w. Matches any character not part of \\w (lowercase w)."
      ]
    },
    {
      "cell_type": "code",
      "metadata": {
        "id": "ICeAP01Vh1aK",
        "colab_type": "code",
        "outputId": "47a75748-9e89-4a8b-f58d-e5ba5f8bc2d2",
        "colab": {}
      },
      "source": [
        "re.search(r'C\\Wke', 'C@ke').group()"
      ],
      "execution_count": 0,
      "outputs": [
        {
          "output_type": "execute_result",
          "data": {
            "text/plain": [
              "'C@ke'"
            ]
          },
          "metadata": {
            "tags": []
          },
          "execution_count": 102
        }
      ]
    },
    {
      "cell_type": "code",
      "metadata": {
        "id": "siZklxmnh1aT",
        "colab_type": "code",
        "outputId": "03748834-c585-4bb7-b772-a10da1a452df",
        "colab": {}
      },
      "source": [
        "re.search(r'ce\\W.' ,'Man lived a century ago').group()"
      ],
      "execution_count": 0,
      "outputs": [
        {
          "output_type": "error",
          "ename": "AttributeError",
          "evalue": "'NoneType' object has no attribute 'group'",
          "traceback": [
            "\u001b[0;31m---------------------------------------------------------------------------\u001b[0m",
            "\u001b[0;31mAttributeError\u001b[0m                            Traceback (most recent call last)",
            "\u001b[0;32m<ipython-input-22-8c70f8146725>\u001b[0m in \u001b[0;36m<module>\u001b[0;34m\u001b[0m\n\u001b[0;32m----> 1\u001b[0;31m \u001b[0mre\u001b[0m\u001b[0;34m.\u001b[0m\u001b[0msearch\u001b[0m\u001b[0;34m(\u001b[0m\u001b[0;34mr'ce\\W.'\u001b[0m \u001b[0;34m,\u001b[0m\u001b[0;34m'Man lived a century ago'\u001b[0m\u001b[0;34m)\u001b[0m\u001b[0;34m.\u001b[0m\u001b[0mgroup\u001b[0m\u001b[0;34m(\u001b[0m\u001b[0;34m)\u001b[0m\u001b[0;34m\u001b[0m\u001b[0;34m\u001b[0m\u001b[0m\n\u001b[0m",
            "\u001b[0;31mAttributeError\u001b[0m: 'NoneType' object has no attribute 'group'"
          ]
        }
      ]
    },
    {
      "cell_type": "code",
      "metadata": {
        "id": "d-ZzjRVUh1ab",
        "colab_type": "code",
        "outputId": "9bc46976-642c-45ce-adf7-47871015a73d",
        "colab": {}
      },
      "source": [
        "re.search(r'ce\\W.' ,'Man lived a ce%tury ago').group()"
      ],
      "execution_count": 0,
      "outputs": [
        {
          "output_type": "execute_result",
          "data": {
            "text/plain": [
              "'ce%t'"
            ]
          },
          "metadata": {
            "tags": []
          },
          "execution_count": 23
        }
      ]
    },
    {
      "cell_type": "code",
      "metadata": {
        "id": "ug9ADPeFh1ak",
        "colab_type": "code",
        "outputId": "28027022-faaf-439b-b6e0-50cbaf0ecfc9",
        "colab": {}
      },
      "source": [
        "re.search(r'ce\\w.' ,'Man lived a ce%tury ago').group()"
      ],
      "execution_count": 0,
      "outputs": [
        {
          "output_type": "error",
          "ename": "AttributeError",
          "evalue": "'NoneType' object has no attribute 'group'",
          "traceback": [
            "\u001b[0;31m---------------------------------------------------------------------------\u001b[0m",
            "\u001b[0;31mAttributeError\u001b[0m                            Traceback (most recent call last)",
            "\u001b[0;32m<ipython-input-24-c4e737cf2a34>\u001b[0m in \u001b[0;36m<module>\u001b[0;34m\u001b[0m\n\u001b[0;32m----> 1\u001b[0;31m \u001b[0mre\u001b[0m\u001b[0;34m.\u001b[0m\u001b[0msearch\u001b[0m\u001b[0;34m(\u001b[0m\u001b[0;34mr'ce\\w.'\u001b[0m \u001b[0;34m,\u001b[0m\u001b[0;34m'Man lived a ce%tury ago'\u001b[0m\u001b[0;34m)\u001b[0m\u001b[0;34m.\u001b[0m\u001b[0mgroup\u001b[0m\u001b[0;34m(\u001b[0m\u001b[0;34m)\u001b[0m\u001b[0;34m\u001b[0m\u001b[0;34m\u001b[0m\u001b[0m\n\u001b[0m",
            "\u001b[0;31mAttributeError\u001b[0m: 'NoneType' object has no attribute 'group'"
          ]
        }
      ]
    },
    {
      "cell_type": "markdown",
      "metadata": {
        "id": "WKRvyhXLh1au",
        "colab_type": "text"
      },
      "source": [
        "# \\s - Lowercase s. Matches a single whitespace character like: space, newline, tab, return."
      ]
    },
    {
      "cell_type": "code",
      "metadata": {
        "id": "0pppq0wsh1ax",
        "colab_type": "code",
        "outputId": "cd0fdf27-348d-4324-f02b-dddce8fac865",
        "colab": {}
      },
      "source": [
        "re.search(r'Eat\\scake', 'Eat cake').group()"
      ],
      "execution_count": 0,
      "outputs": [
        {
          "output_type": "execute_result",
          "data": {
            "text/plain": [
              "'Eat cake'"
            ]
          },
          "metadata": {
            "tags": []
          },
          "execution_count": 106
        }
      ]
    },
    {
      "cell_type": "code",
      "metadata": {
        "id": "_fG9zRKKh1a4",
        "colab_type": "code",
        "outputId": "52509f75-48ff-4efa-9c86-49cfdc343746",
        "colab": {}
      },
      "source": [
        "re.search(r'shut\\Stoday', 'BSE, NSE shut today as Mumbai goes to polls').group()"
      ],
      "execution_count": 0,
      "outputs": [
        {
          "output_type": "error",
          "ename": "AttributeError",
          "evalue": "'NoneType' object has no attribute 'group'",
          "traceback": [
            "\u001b[0;31m---------------------------------------------------------------------------\u001b[0m",
            "\u001b[0;31mAttributeError\u001b[0m                            Traceback (most recent call last)",
            "\u001b[0;32m<ipython-input-108-520f03eba43d>\u001b[0m in \u001b[0;36m<module>\u001b[0;34m\u001b[0m\n\u001b[0;32m----> 1\u001b[0;31m \u001b[0mre\u001b[0m\u001b[0;34m.\u001b[0m\u001b[0msearch\u001b[0m\u001b[0;34m(\u001b[0m\u001b[0;34mr'shut\\Stoday'\u001b[0m\u001b[0;34m,\u001b[0m \u001b[0;34m'BSE, NSE shut today as Mumbai goes to polls'\u001b[0m\u001b[0;34m)\u001b[0m\u001b[0;34m.\u001b[0m\u001b[0mgroup\u001b[0m\u001b[0;34m(\u001b[0m\u001b[0;34m)\u001b[0m\u001b[0;34m\u001b[0m\u001b[0;34m\u001b[0m\u001b[0m\n\u001b[0m",
            "\u001b[0;31mAttributeError\u001b[0m: 'NoneType' object has no attribute 'group'"
          ]
        }
      ]
    },
    {
      "cell_type": "markdown",
      "metadata": {
        "id": "zCfkbqVph1a_",
        "colab_type": "text"
      },
      "source": [
        "##### \\S - Uppercase s. Matches any character not part of \\s (lowercase s)."
      ]
    },
    {
      "cell_type": "code",
      "metadata": {
        "id": "0r1EmJgfh1bA",
        "colab_type": "code",
        "colab": {}
      },
      "source": [
        ""
      ],
      "execution_count": 0,
      "outputs": []
    },
    {
      "cell_type": "code",
      "metadata": {
        "id": "2PKnC-zOh1bF",
        "colab_type": "code",
        "outputId": "500224d5-79c3-466a-a21a-772a2fa0ff7b",
        "colab": {}
      },
      "source": [
        "re.search(r'shut\\Stoday', 'BSE, NSE shut today as Mumbai goes to polls').group()"
      ],
      "execution_count": 0,
      "outputs": [
        {
          "output_type": "error",
          "ename": "AttributeError",
          "evalue": "'NoneType' object has no attribute 'group'",
          "traceback": [
            "\u001b[0;31m---------------------------------------------------------------------------\u001b[0m",
            "\u001b[0;31mAttributeError\u001b[0m                            Traceback (most recent call last)",
            "\u001b[0;32m<ipython-input-30-520f03eba43d>\u001b[0m in \u001b[0;36m<module>\u001b[0;34m\u001b[0m\n\u001b[0;32m----> 1\u001b[0;31m \u001b[0mre\u001b[0m\u001b[0;34m.\u001b[0m\u001b[0msearch\u001b[0m\u001b[0;34m(\u001b[0m\u001b[0;34mr'shut\\Stoday'\u001b[0m\u001b[0;34m,\u001b[0m \u001b[0;34m'BSE, NSE shut today as Mumbai goes to polls'\u001b[0m\u001b[0;34m)\u001b[0m\u001b[0;34m.\u001b[0m\u001b[0mgroup\u001b[0m\u001b[0;34m(\u001b[0m\u001b[0;34m)\u001b[0m\u001b[0;34m\u001b[0m\u001b[0;34m\u001b[0m\u001b[0m\n\u001b[0m",
            "\u001b[0;31mAttributeError\u001b[0m: 'NoneType' object has no attribute 'group'"
          ]
        }
      ]
    },
    {
      "cell_type": "code",
      "metadata": {
        "id": "xihgu5ioh1bK",
        "colab_type": "code",
        "outputId": "cb35c874-129f-46c3-d33e-15c119864e09",
        "colab": {}
      },
      "source": [
        "re.search(r'Cook\\Se', 'Cookie').group()"
      ],
      "execution_count": 0,
      "outputs": [
        {
          "output_type": "execute_result",
          "data": {
            "text/plain": [
              "'Cookie'"
            ]
          },
          "metadata": {
            "tags": []
          },
          "execution_count": 109
        }
      ]
    },
    {
      "cell_type": "code",
      "metadata": {
        "id": "sGw_R-pBh1bQ",
        "colab_type": "code",
        "outputId": "16939584-32ca-4b84-cb80-17b8a6e86844",
        "colab": {}
      },
      "source": [
        "re.search(r'shut\\stoday', 'BSE, NSE shut@today as Mumbai goes to polls').group()"
      ],
      "execution_count": 0,
      "outputs": [
        {
          "output_type": "error",
          "ename": "AttributeError",
          "evalue": "'NoneType' object has no attribute 'group'",
          "traceback": [
            "\u001b[0;31m---------------------------------------------------------------------------\u001b[0m",
            "\u001b[0;31mAttributeError\u001b[0m                            Traceback (most recent call last)",
            "\u001b[0;32m<ipython-input-33-40459a0f8edb>\u001b[0m in \u001b[0;36m<module>\u001b[0;34m\u001b[0m\n\u001b[0;32m----> 1\u001b[0;31m \u001b[0mre\u001b[0m\u001b[0;34m.\u001b[0m\u001b[0msearch\u001b[0m\u001b[0;34m(\u001b[0m\u001b[0;34mr'shut\\stoday'\u001b[0m\u001b[0;34m,\u001b[0m \u001b[0;34m'BSE, NSE shut@today as Mumbai goes to polls'\u001b[0m\u001b[0;34m)\u001b[0m\u001b[0;34m.\u001b[0m\u001b[0mgroup\u001b[0m\u001b[0;34m(\u001b[0m\u001b[0;34m)\u001b[0m\u001b[0;34m\u001b[0m\u001b[0;34m\u001b[0m\u001b[0m\n\u001b[0m",
            "\u001b[0;31mAttributeError\u001b[0m: 'NoneType' object has no attribute 'group'"
          ]
        }
      ]
    },
    {
      "cell_type": "code",
      "metadata": {
        "id": "cfnmZXo5h1bX",
        "colab_type": "code",
        "outputId": "98c3f4c1-df08-45a6-c280-ac0af49ba7b5",
        "colab": {}
      },
      "source": [
        "re.search(r'shut\\Stoday', 'BSE, NSE shut@today as Mumbai goes to polls').group()"
      ],
      "execution_count": 0,
      "outputs": [
        {
          "output_type": "execute_result",
          "data": {
            "text/plain": [
              "'shut@today'"
            ]
          },
          "metadata": {
            "tags": []
          },
          "execution_count": 111
        }
      ]
    },
    {
      "cell_type": "markdown",
      "metadata": {
        "id": "SzSKCb-Kh1bf",
        "colab_type": "text"
      },
      "source": [
        ""
      ]
    },
    {
      "cell_type": "markdown",
      "metadata": {
        "id": "FHHTtSVfh1bi",
        "colab_type": "raw"
      },
      "source": [
        "\\n - Lowercase n. Matches newline.\n",
        "\n",
        "\\r - Lowercase r. Matches return.\n",
        "\n",
        "\\d - Lowercase d. Matches decimal digit 0-9.\n"
      ]
    },
    {
      "cell_type": "code",
      "metadata": {
        "id": "KkeRsEngh1bk",
        "colab_type": "code",
        "outputId": "f9b882a7-2ba4-49c9-9c3a-1b927d3de6b2",
        "colab": {}
      },
      "source": [
        "re.search(r'c\\d\\dkie', 'c00kie').group()"
      ],
      "execution_count": 0,
      "outputs": [
        {
          "output_type": "execute_result",
          "data": {
            "text/plain": [
              "'c00kie'"
            ]
          },
          "metadata": {
            "tags": []
          },
          "execution_count": 115
        }
      ]
    },
    {
      "cell_type": "code",
      "metadata": {
        "id": "iFWpbVakh1bq",
        "colab_type": "code",
        "colab": {}
      },
      "source": [
        ""
      ],
      "execution_count": 0,
      "outputs": []
    },
    {
      "cell_type": "markdown",
      "metadata": {
        "id": "qbyCFgsCh1bv",
        "colab_type": "text"
      },
      "source": [
        "# ^ - Caret. Matches a pattern at the start of the string."
      ]
    },
    {
      "cell_type": "code",
      "metadata": {
        "id": "5K522SvRh1bx",
        "colab_type": "code",
        "outputId": "08abf9c5-4391-4370-974c-c5971f1cd6f5",
        "colab": {}
      },
      "source": [
        "re.search(r'^Eat', 'Eat cake').group()"
      ],
      "execution_count": 0,
      "outputs": [
        {
          "output_type": "execute_result",
          "data": {
            "text/plain": [
              "'Eat'"
            ]
          },
          "metadata": {
            "tags": []
          },
          "execution_count": 116
        }
      ]
    },
    {
      "cell_type": "markdown",
      "metadata": {
        "id": "7Hvrn0wSh1b5",
        "colab_type": "text"
      },
      "source": [
        "# $ - Matches a pattern at the end of string."
      ]
    },
    {
      "cell_type": "code",
      "metadata": {
        "id": "Y9fSLM94h1b7",
        "colab_type": "code",
        "outputId": "41ebbe98-9ad3-4d16-8c28-ec2be0f51354",
        "colab": {}
      },
      "source": [
        "re.search(r'cake$', 'Eat everyday cake').group()"
      ],
      "execution_count": 0,
      "outputs": [
        {
          "output_type": "execute_result",
          "data": {
            "text/plain": [
              "'cake'"
            ]
          },
          "metadata": {
            "tags": []
          },
          "execution_count": 119
        }
      ]
    },
    {
      "cell_type": "markdown",
      "metadata": {
        "id": "P8jGiqIFh1cA",
        "colab_type": "text"
      },
      "source": [
        "[abc] - Matches a or b or c."
      ]
    },
    {
      "cell_type": "markdown",
      "metadata": {
        "id": "QZfqSo0fh1cB",
        "colab_type": "text"
      },
      "source": [
        "### [a-zA-Z0-9] - Matches any letter from (a to z) or (A to Z) or (0 to 9). Characters that are not within a range can be matched by complementing the set. If the first character of the set is ^, all the characters that are not in the set will be matched."
      ]
    },
    {
      "cell_type": "code",
      "metadata": {
        "id": "tQ5khMqth1cC",
        "colab_type": "code",
        "outputId": "62d5b24b-65d8-4f41-8f06-76f558c485d6",
        "colab": {}
      },
      "source": [
        "re.search(r'Number: [0-6]', 'Number: 5').group()"
      ],
      "execution_count": 0,
      "outputs": [
        {
          "output_type": "execute_result",
          "data": {
            "text/plain": [
              "'Number: 5'"
            ]
          },
          "metadata": {
            "tags": []
          },
          "execution_count": 50
        }
      ]
    },
    {
      "cell_type": "code",
      "metadata": {
        "id": "2ceJiPoKh1cJ",
        "colab_type": "code",
        "outputId": "63be4404-6fd9-498c-85fc-5ccb93d59b30",
        "colab": {}
      },
      "source": [
        "re.search(r'[0-9]', ' This is my 5 st car').group()"
      ],
      "execution_count": 0,
      "outputs": [
        {
          "output_type": "execute_result",
          "data": {
            "text/plain": [
              "'5'"
            ]
          },
          "metadata": {
            "tags": []
          },
          "execution_count": 122
        }
      ]
    },
    {
      "cell_type": "code",
      "metadata": {
        "id": "z3G3CnSKh1cQ",
        "colab_type": "code",
        "outputId": "1c0c3f6c-d5da-4487-c6ca-535e895173af",
        "colab": {}
      },
      "source": [
        "# Matches any character except 5\n",
        "re.search(r'Number: [^5]', 'Number: 0').group()"
      ],
      "execution_count": 0,
      "outputs": [
        {
          "output_type": "execute_result",
          "data": {
            "text/plain": [
              "'Number: 0'"
            ]
          },
          "metadata": {
            "tags": []
          },
          "execution_count": 60
        }
      ]
    },
    {
      "cell_type": "code",
      "metadata": {
        "id": "gnonigy4h1cb",
        "colab_type": "code",
        "outputId": "63f6bb28-137c-4873-f480-8f04202a5b05",
        "colab": {}
      },
      "source": [
        "re.search(r'[^5]', ' virat scored 22 runs').group()"
      ],
      "execution_count": 0,
      "outputs": [
        {
          "output_type": "execute_result",
          "data": {
            "text/plain": [
              "' '"
            ]
          },
          "metadata": {
            "tags": []
          },
          "execution_count": 63
        }
      ]
    },
    {
      "cell_type": "markdown",
      "metadata": {
        "id": "kYIZzrnSh1ck",
        "colab_type": "text"
      },
      "source": [
        "# \\A - Uppercase a. Matches only at the start of the string. Works across multiple lines as well."
      ]
    },
    {
      "cell_type": "code",
      "metadata": {
        "id": "lNEox6wHh1cl",
        "colab_type": "code",
        "outputId": "07a9130e-f70c-4096-da4c-750b7610baf7",
        "colab": {}
      },
      "source": [
        "re.search(r'\\A[A-E]ookie', 'cookie').group()"
      ],
      "execution_count": 0,
      "outputs": [
        {
          "output_type": "execute_result",
          "data": {
            "text/plain": [
              "'Cookie'"
            ]
          },
          "metadata": {
            "tags": []
          },
          "execution_count": 64
        }
      ]
    },
    {
      "cell_type": "code",
      "metadata": {
        "id": "IR8DU3tuh1cr",
        "colab_type": "code",
        "outputId": "854c8189-61f5-41ad-e934-a34d772785e6",
        "colab": {}
      },
      "source": [
        "re.search(r'\\b[a-z]umbai', 'mumbai').group()"
      ],
      "execution_count": 0,
      "outputs": [
        {
          "output_type": "execute_result",
          "data": {
            "text/plain": [
              "'mumbai'"
            ]
          },
          "metadata": {
            "tags": []
          },
          "execution_count": 135
        }
      ]
    },
    {
      "cell_type": "markdown",
      "metadata": {
        "id": "3IzV4Jt5h1cz",
        "colab_type": "text"
      },
      "source": [
        "# \\b - Lowercase b. Matches only the beginning or end of the word."
      ]
    },
    {
      "cell_type": "markdown",
      "metadata": {
        "id": "IeS5Rku0h1c2",
        "colab_type": "raw"
      },
      "source": [
        "\\ - Backslash. If the character following the backslash is a recognized escape character, then the special meaning of the term is taken. For example, \\n is considered as newline. However, if the character following the \\ is not a recognized escape character, then the \\ is treated like any other character and passed through."
      ]
    },
    {
      "cell_type": "code",
      "metadata": {
        "id": "DP4D2SQUh1c5",
        "colab_type": "code",
        "outputId": "7ff7b61f-9b92-4b5b-b09d-0aa0800c8b43",
        "colab": {}
      },
      "source": [
        "# This checks for '\\' in the string instead of '\\t' due to the '\\' used \n",
        "re.search(r'Back\\\\stail', 'Back\\stail').group()"
      ],
      "execution_count": 0,
      "outputs": [
        {
          "output_type": "execute_result",
          "data": {
            "text/plain": [
              "'Back\\\\stail'"
            ]
          },
          "metadata": {
            "tags": []
          },
          "execution_count": 66
        }
      ]
    },
    {
      "cell_type": "code",
      "metadata": {
        "id": "6pT9bRNBh1dQ",
        "colab_type": "code",
        "outputId": "7b695056-d9f3-43c0-d0a5-a65a52faeee4",
        "colab": {}
      },
      "source": [
        "# This treats '\\s' as an escape character because it lacks '\\' at the start of '\\s'\n",
        "re.search(r'Back\\stail', 'Back tail').group()\n"
      ],
      "execution_count": 0,
      "outputs": [
        {
          "output_type": "execute_result",
          "data": {
            "text/plain": [
              "'Back tail'"
            ]
          },
          "metadata": {
            "tags": []
          },
          "execution_count": 67
        }
      ]
    },
    {
      "cell_type": "markdown",
      "metadata": {
        "id": "hwIvP_ICh1dW",
        "colab_type": "text"
      },
      "source": [
        "# Repetitions"
      ]
    },
    {
      "cell_type": "markdown",
      "metadata": {
        "id": "9K1QyWqbh1dX",
        "colab_type": "text"
      },
      "source": [
        "It becomes quite tedious if you are looking to find long patterns in a sequence. Fortunately, the re module handles repetitions using the following special characters:"
      ]
    },
    {
      "cell_type": "markdown",
      "metadata": {
        "id": "suafF0dVh1dZ",
        "colab_type": "text"
      },
      "source": [
        "# + - Checks for one or more characters to its left."
      ]
    },
    {
      "cell_type": "code",
      "metadata": {
        "id": "a7fAWQrOh1da",
        "colab_type": "code",
        "outputId": "c15b6bfb-70a4-4987-86cb-90f4341f9cab",
        "colab": {}
      },
      "source": [
        "re.search(r'Co+kie', 'Cooookie').group()"
      ],
      "execution_count": 0,
      "outputs": [
        {
          "output_type": "execute_result",
          "data": {
            "text/plain": [
              "'Cooookie'"
            ]
          },
          "metadata": {
            "tags": []
          },
          "execution_count": 141
        }
      ]
    },
    {
      "cell_type": "markdown",
      "metadata": {
        "id": "CroNKvHDh1dh",
        "colab_type": "text"
      },
      "source": [
        "# * - Checks for zero or more characters to its left."
      ]
    },
    {
      "cell_type": "code",
      "metadata": {
        "id": "heDEAbu1h1di",
        "colab_type": "code",
        "outputId": "796cb112-b09f-4be5-eb35-cecaec4f9484",
        "colab": {}
      },
      "source": [
        "# Checks for any occurrence of a or o or both in the given sequence\n",
        "re.search(r'Ca*o*kie', 'Caokie').group()"
      ],
      "execution_count": 0,
      "outputs": [
        {
          "output_type": "execute_result",
          "data": {
            "text/plain": [
              "'Caokie'"
            ]
          },
          "metadata": {
            "tags": []
          },
          "execution_count": 69
        }
      ]
    },
    {
      "cell_type": "code",
      "metadata": {
        "id": "FxM2T3bph1dn",
        "colab_type": "code",
        "outputId": "b8428e64-cc5d-4afa-c239-fd43e72e0497",
        "colab": {}
      },
      "source": [
        "result=re.findall(r'\\w+','AV is largest Analytics community of India')\n",
        "print (result)"
      ],
      "execution_count": 0,
      "outputs": [
        {
          "output_type": "stream",
          "text": [
            "['AV', 'is', 'largest', 'Analytics', 'community', 'of', 'India']\n"
          ],
          "name": "stdout"
        }
      ]
    },
    {
      "cell_type": "code",
      "metadata": {
        "id": "N3FHS6d0h1dr",
        "colab_type": "code",
        "outputId": "d5d83424-cf7a-49d4-c919-d67fee6049f3",
        "colab": {}
      },
      "source": [
        "result=re.findall(r'\\w*','AV is largest Analytics community of India')\n",
        "print (result)"
      ],
      "execution_count": 0,
      "outputs": [
        {
          "output_type": "stream",
          "text": [
            "['AV', '', 'is', '', 'largest', '', 'Analytics', '', 'community', '', 'of', '', 'India', '']\n"
          ],
          "name": "stdout"
        }
      ]
    },
    {
      "cell_type": "markdown",
      "metadata": {
        "id": "CWH41wTbh1dz",
        "colab_type": "text"
      },
      "source": [
        "# ? - Checks for exactly zero or one character to its left."
      ]
    },
    {
      "cell_type": "code",
      "metadata": {
        "id": "ZtRQH039h1d0",
        "colab_type": "code",
        "outputId": "20f4d6b9-e701-440b-a5c5-6386d5e7133d",
        "colab": {}
      },
      "source": [
        "# Checks for exactly zero or one occurrence of a or o or both in the given sequence\n",
        "re.search(r'Colou?r', 'Color').group()"
      ],
      "execution_count": 0,
      "outputs": [
        {
          "output_type": "execute_result",
          "data": {
            "text/plain": [
              "'Color'"
            ]
          },
          "metadata": {
            "tags": []
          },
          "execution_count": 145
        }
      ]
    },
    {
      "cell_type": "markdown",
      "metadata": {
        "id": "cgjfljyqh1d6",
        "colab_type": "text"
      },
      "source": [
        "## But what if you want to check for exact number of sequence repetition? "
      ]
    },
    {
      "cell_type": "markdown",
      "metadata": {
        "id": "maDiUMQ3h1d7",
        "colab_type": "raw"
      },
      "source": [
        "For example, checking the validity of a phone number in an application. re module handles this very gracefully as well using the following regular expressions:\n",
        "\n",
        "{x} - Repeat exactly x number of times.\n",
        "\n",
        "{x,} - Repeat at least x times or more.\n",
        "\n",
        "{x, y} - Repeat at least x times but no more than y times."
      ]
    },
    {
      "cell_type": "code",
      "metadata": {
        "id": "zBXuimAOh1d8",
        "colab_type": "code",
        "outputId": "3bf5a678-3f99-4d21-f53f-e90884582f9d",
        "colab": {}
      },
      "source": [
        "re.search(r'\\d{9,10}', '9920996342').group()"
      ],
      "execution_count": 0,
      "outputs": [
        {
          "output_type": "execute_result",
          "data": {
            "text/plain": [
              "'9920996342'"
            ]
          },
          "metadata": {
            "tags": []
          },
          "execution_count": 152
        }
      ]
    },
    {
      "cell_type": "markdown",
      "metadata": {
        "id": "nlP0aToFh1eL",
        "colab_type": "text"
      },
      "source": [
        "# The + and * qualifiers are said to be greedy."
      ]
    },
    {
      "cell_type": "code",
      "metadata": {
        "id": "_jJUdRaPh1eM",
        "colab_type": "code",
        "outputId": "d910111a-b58f-43db-f615-bb86bc6eae1f",
        "colab": {}
      },
      "source": [
        "email_address = 'Please contact us at: support@gmail.com'\n",
        "re.search(r'([\\w\\.-]+)@([\\w\\.-]+)', 'Please contact us at: support@gmail.com').group()"
      ],
      "execution_count": 0,
      "outputs": [
        {
          "output_type": "execute_result",
          "data": {
            "text/plain": [
              "'support@gmail.com'"
            ]
          },
          "metadata": {
            "tags": []
          },
          "execution_count": 154
        }
      ]
    },
    {
      "cell_type": "code",
      "metadata": {
        "id": "s9weOfRxh1eR",
        "colab_type": "code",
        "colab": {}
      },
      "source": [
        ""
      ],
      "execution_count": 0,
      "outputs": []
    },
    {
      "cell_type": "markdown",
      "metadata": {
        "id": "Bebr4s8Th1eT",
        "colab_type": "text"
      },
      "source": [
        "search() versus match()\n",
        "\n",
        "The match() function checks for a match only at the beginning of the string (by default) whereas the search() function checks for a match anywhere in the string."
      ]
    },
    {
      "cell_type": "markdown",
      "metadata": {
        "id": "NB56h9USh1eU",
        "colab_type": "text"
      },
      "source": [
        "# findall(pattern, string, flags=0)"
      ]
    },
    {
      "cell_type": "markdown",
      "metadata": {
        "id": "Bw2kgKmgh1eV",
        "colab_type": "text"
      },
      "source": [
        "Finds all the possible matches in the entire sequence and returns them as a list of strings. Each returned string represents one match."
      ]
    },
    {
      "cell_type": "code",
      "metadata": {
        "id": "jlTdXz7Kh1eW",
        "colab_type": "code",
        "outputId": "93c477cf-2370-469d-c02f-43a1ece47f66",
        "colab": {}
      },
      "source": [
        "email_address = \"Please contact us at: support@datacamp.com, xyz@datacamp.com\"\n",
        "\n",
        "#'addresses' is a list that stores all the possible match\n",
        "addresses = re.findall(r'[\\w\\.-]+@[\\w\\.-]+', email_address)\n",
        "for address in addresses: \n",
        "    print(address)"
      ],
      "execution_count": 0,
      "outputs": [
        {
          "output_type": "stream",
          "text": [
            "support@datacamp.com\n",
            "xyz@datacamp.com\n"
          ],
          "name": "stdout"
        }
      ]
    },
    {
      "cell_type": "code",
      "metadata": {
        "id": "voYqGbHJh1ed",
        "colab_type": "code",
        "colab": {}
      },
      "source": [
        ""
      ],
      "execution_count": 0,
      "outputs": []
    },
    {
      "cell_type": "markdown",
      "metadata": {
        "id": "fjR3GyKuh1eg",
        "colab_type": "text"
      },
      "source": [
        "## sub(pattern, repl, string, count=0, flags=0)"
      ]
    },
    {
      "cell_type": "markdown",
      "metadata": {
        "id": "e3phwDZJh1eh",
        "colab_type": "text"
      },
      "source": [
        "This is the substitute function. It returns the string obtained by replacing or substituting the leftmost non-overlapping occurrences of pattern in string by the replacement repl. If the pattern is not found then the string is returned unchanged."
      ]
    },
    {
      "cell_type": "code",
      "metadata": {
        "id": "OfiszqJEh1ei",
        "colab_type": "code",
        "outputId": "aa898c04-c722-44e9-fdd5-a9e1e5fba648",
        "colab": {}
      },
      "source": [
        "email_address = \"Please contact us at: xyz@datacamp.com\"\n",
        "new_email_address = re.sub(r'([\\w\\.-]+)@([\\w\\.-]+)', r'support@datacamp.com', email_address)\n",
        "print(new_email_address)"
      ],
      "execution_count": 0,
      "outputs": [
        {
          "output_type": "stream",
          "text": [
            "Please contact us at: support@datacamp.com\n"
          ],
          "name": "stdout"
        }
      ]
    },
    {
      "cell_type": "markdown",
      "metadata": {
        "id": "cTtGVWjDh1el",
        "colab_type": "text"
      },
      "source": [
        "# Case Study: Working with Regular Expressions"
      ]
    },
    {
      "cell_type": "code",
      "metadata": {
        "id": "JkEXiEW1h1em",
        "colab_type": "code",
        "colab": {}
      },
      "source": [
        "import re\n",
        "import requests"
      ],
      "execution_count": 0,
      "outputs": []
    },
    {
      "cell_type": "code",
      "metadata": {
        "id": "gEWAnGjih1ep",
        "colab_type": "code",
        "colab": {}
      },
      "source": [
        "#! pip install requests"
      ],
      "execution_count": 0,
      "outputs": []
    },
    {
      "cell_type": "code",
      "metadata": {
        "id": "AjFpz7nzh1et",
        "colab_type": "code",
        "colab": {}
      },
      "source": [
        "the_idiot_url = 'https://www.gutenberg.org/files/2638/2638-0.txt'"
      ],
      "execution_count": 0,
      "outputs": []
    },
    {
      "cell_type": "code",
      "metadata": {
        "id": "Kh4yX-6Lh1ew",
        "colab_type": "code",
        "outputId": "bef8ed19-54c7-4408-f9ea-403af9f58b68",
        "colab": {}
      },
      "source": [
        "the_idiot_url"
      ],
      "execution_count": 0,
      "outputs": [
        {
          "output_type": "execute_result",
          "data": {
            "text/plain": [
              "'https://www.gutenberg.org/files/2638/2638-0.txt'"
            ]
          },
          "metadata": {
            "tags": []
          },
          "execution_count": 164
        }
      ]
    },
    {
      "cell_type": "code",
      "metadata": {
        "id": "-i5KV6Yzh1e1",
        "colab_type": "code",
        "outputId": "94b9b3cd-c557-424b-c26e-0b9e74d172e0",
        "colab": {}
      },
      "source": [
        "def get_book(url):\n",
        "    # Sends a http request to get the text from project Gutenberg\n",
        "    raw = requests.get(url).text\n",
        "    # Discards the metadata from the beginning of the book\n",
        "    start = re.search(r\"\\*\\*\\* START OF THIS PROJECT GUTENBERG EBOOK .* \\*\\*\\*\",raw ).end()\n",
        "    # Discards the metadata from the end of the book\n",
        "    stop = re.search(r\"II\", raw).start()\n",
        "    # Keeps the relevant text\n",
        "    text = raw[start:stop]\n",
        "    return text\n",
        "\n",
        "def preprocess(sentence): \n",
        "    return re.sub('[^A-Za-z0-9.]+' , ' ', sentence).lower()\n",
        "\n",
        "book = get_book(the_idiot_url)\n",
        "processed_book = preprocess(book)\n",
        "print(processed_book)\n"
      ],
      "execution_count": 0,
      "outputs": [
        {
          "output_type": "stream",
          "text": [
            " produced by martin adamson david widger with corrections by andrew sly the idiot by fyodor dostoyevsky translated by eva martin part i i. towards the end of november during a thaw at nine o clock one morning a train on the warsaw and petersburg railway was approaching the latter city at full speed. the morning was so damp and misty that it was only with great difficulty that the day succeeded in breaking and it was impossible to distinguish anything more than a few yards away from the carriage windows. some of the passengers by this particular train were returning from abroad but the third class carriages were the best filled chiefly with insignificant persons of various occupations and degrees picked up at the different stations nearer town. all of them seemed weary and most of them had sleepy eyes and a shivering expression while their complexions generally appeared to have taken on the colour of the fog outside. when day dawned two passengers in one of the third class carriages found themselves opposite each other. both were young fellows both were rather poorly dressed both had remarkable faces and both were evidently anxious to start a conversation. if they had but known why at this particular moment they were both remarkable persons they would undoubtedly have wondered at the strange chance which had set them down opposite to one another in a third class carriage of the warsaw railway company. one of them was a young fellow of about twenty seven not tall with black curling hair and small grey fiery eyes. his nose was broad and flat and he had high cheek bones his thin lips were constantly compressed into an impudent ironical it might almost be called a malicious smile but his forehead was high and well formed and atoned for a good deal of the ugliness of the lower part of his face. a special feature of this physiognomy was its death like pallor which gave to the whole man an indescribably emaciated appearance in spite of his hard look and at the same time a sort of passionate and suffering expression which did not harmonize with his impudent sarcastic smile and keen self satisfied bearing. he wore a large fur or rather astrachan overcoat which had kept him warm all night while his neighbour had been obliged to bear the full severity of a russian november night entirely unprepared. his wide sleeveless mantle with a large cape to it the sort of cloak one sees upon travellers during the winter months in switzerland or north italy was by no means adapted to the long cold journey through russia from eydkuhnen to st. petersburg. the wearer of this cloak was a young fellow also of about twenty six or twenty seven years of age slightly above the middle height very fair with a thin pointed and very light coloured beard his eyes were large and blue and had an intent look about them yet that heavy expression which some people affirm to be a peculiarity as well as evidence of an epileptic subject. his face was decidedly a pleasant one for all that refined but quite colourless except for the circumstance that at this moment it was blue with cold. he held a bundle made up of an old faded silk handkerchief that apparently contained all his travelling wardrobe and wore thick shoes and gaiters his whole appearance being very un russian. his black haired neighbour inspected these peculiarities having nothing better to do and at length remarked with that rude enjoyment of the discomforts of others which the common classes so often show cold very said his neighbour readily and this is a thaw too. fancy if it had been a hard frost i never thought it would be so cold in the old country. i ve grown quite out of the way of it. what been abroad i suppose yes straight from switzerland. wheugh my goodness the black haired young fellow whistled and then laughed. the conversation proceeded. the readiness of the fair haired young man in the cloak to answer all his opposite neighbour s questions was surprising. he seemed to have no suspicion of any impertinence or inappropriateness in the fact of such questions being put to him. replying to them he made known to the inquirer that he certainly had been long absent from russia more than four years that he had been sent abroad for his health that he had suffered from some strange nervous malady a kind of epilepsy with convulsive spasms. his interlocutor burst out laughing several times at his answers and more than ever when to the question whether he had been cured the patient replied no they did not cure me. hey that s it you stumped up your money for nothing and we believe in those fellows here remarked the black haired individual sarcastically. gospel truth sir gospel truth exclaimed another passenger a shabbily dressed man of about forty who looked like a clerk and possessed a red nose and a very blotchy face. gospel truth all they do is to get hold of our good russian money free gratis and for nothing. oh but you re quite wrong in my particular instance said the swiss patient quietly. of course i can t argue the matter because i know only my own case but my doctor gave me money and he had very little to pay my journey back besides having kept me at his own expense while there for nearly two years. why was there no one else to pay for you asked the black haired one. no mr. pavlicheff who had been supporting me there died a couple of years ago. i wrote to mrs. general epanchin at the time she is a distant relative of mine but she did not answer my letter. and so eventually i came back. and where have you come to that is where am i going to stay i i really don t quite know yet i both the listeners laughed again. i suppose your whole set up is in that bundle then asked the first. i bet anything it is exclaimed the red nosed passenger with extreme satisfaction and that he has precious little in the luggage van though of course poverty is no crime we must remember that it appeared that it was indeed as they had surmised. the young fellow hastened to admit the fact with wonderful readiness. your bundle has some importance however continued the clerk when they had laughed their fill it was observable that the subject of their mirth joined in the laughter when he saw them laughing for though i dare say it is not stuffed full of friedrichs d or and louis d or judge from your costume and gaiters still if you can add to your possessions such a valuable property as a relation like mrs. general epanchin then your bundle becomes a significant object at once. that is of course if you really are a relative of mrs. epanchin s and have not made a little error through well absence of mind which is very common to human beings or say through a too luxuriant fancy oh you are right again said the fair haired traveller for i really am almost wrong when i say she and i are related. she is hardly a relation at all so little in fact that i was not in the least surprised to have no answer to my letter. i expected as much. h m you spent your postage for nothing then. h m you are candid however and that is commendable. h m mrs. epanchin oh yes a most eminent person. i know her. as for mr. pavlicheff who supported you in switzerland i know him too at least if it was nicolai andreevitch of that name a fine fellow he was and had a property of four thousand souls in his day. yes nicolai andreevitch that was his name and the young fellow looked earnestly and with curiosity at the all knowing gentleman with the red nose. this sort of character is met with pretty frequently in a certain class. they are people who know everyone that is they know where a man is employed what his salary is whom he knows whom he married what money his wife had who are his cousins and second cousins etc. etc. these men generally have about a hundred pounds a year to live on and they spend their whole time and talents in the amassing of this style of knowledge which they reduce or raise to the standard of a science. during the latter part of the conversation the black haired young man had become very impatient. he stared out of the window and fidgeted and evidently longed for the end of the journey. he was very absent he would appear to listen and heard nothing and he would laugh of a sudden evidently with no idea of what he was laughing about. excuse me said the red nosed man to the young fellow with the bundle rather suddenly whom have i the honour to be talking to prince lef nicolaievitch muishkin replied the latter with perfect readiness. prince muishkin lef nicolaievitch h m i don t know i m sure i may say i have never heard of such a person said the clerk thoughtfully. at least the name i admit is historical. karamsin must mention the family name of course in his history but as an individual one never hears of any prince muishkin nowadays. of course not replied the prince there are none except myself. i believe i am the last and only one. as to my forefathers they have always been a poor lot my own father was a sublieutenant in the army. i don t know how mrs. epanchin comes into the muishkin family but she is descended from the princess muishkin and she too is the last of her line. and did you learn science and all that with your professor over there asked the black haired passenger. oh yes i did learn a little but i ve never learned anything whatever said the other. oh but i learned very little you know added the prince as though excusing himself. they could not teach me very much on account of my illness. do you know the rogojins asked his questioner abruptly. no i don t not at all i hardly know anyone in russia. why is that your name yes i am rogojin parfen rogojin. parfen rogojin dear me then don t you belong to those very rogojins perhaps began the clerk with a very perceptible increase of civility in his tone. yes those very ones interrupted rogojin impatiently and with scant courtesy. i may remark that he had not once taken any notice of the blotchy faced passenger and had hitherto addressed all his remarks direct to the prince. dear me is it possible observed the clerk while his face assumed an expression of great deference and servility if not of absolute alarm what a son of that very semen rogojin hereditary honourable citizen who died a month or so ago and left two million and a half of roubles and how do you know that he left two million and a half of roubles asked rogojin disdainfully and not deigning so much as to look at the other. however it s true enough that my father died a month ago and that here am i returning from pskoff a month after with hardly a boot to my foot. they ve treated me like a dog i ve been ill of fever at pskoff the whole time and not a line nor farthing of money have i received from my mother or my confounded brother and now you ll have a million roubles at least goodness gracious me exclaimed the clerk rubbing his hands. five weeks since i was just like yourself continued rogojin addressing the prince with nothing but a bundle and the clothes i wore. i ran away from my father and came to pskoff to my aunt s house where i caved in at once with fever and he went and died while i was away. all honour to my respected father s memory but he uncommonly nearly killed me all the same. give you my word prince if i hadn t cut and run then when i did he d have murdered me like a dog. i suppose you angered him somehow asked the prince looking at the millionaire with considerable curiosity. but though there may have been something remarkable in the fact that this man was heir to millions of roubles there was something about him which surprised and interested the prince more than that. rogojin too seemed to have taken up the conversation with unusual alacrity it appeared that he was still in a considerable state of excitement if not absolutely feverish and was in real need of someone to talk to for the mere sake of talking as safety valve to his agitation. as for his red nosed neighbour the latter since the information as to the identity of rogojin hung over him seemed to be living on the honey of his words and in the breath of his nostrils catching at every syllable as though it were a pearl of great price. oh yes i angered him i certainly did anger him replied rogojin. but what puts me out so is my brother. of course my mother couldn t do anything she s too old and whatever brother senka says is law for her but why couldn t he let me know he sent a telegram they say. what s the good of a telegram it frightened my aunt so that she sent it back to the office unopened and there it s been ever since it s only thanks to konief that i heard at all he wrote me all about it. he says my brother cut off the gold tassels from my father s coffin at night because they re worth a lot of money says he. why i can get him sent off to siberia for that alone if i like it s sacrilege. here you scarecrow he added addressing the clerk at his side is it sacrilege or not by law sacrilege certainly certainly sacrilege said the latter. and it s siberia for sacrilege isn t it undoubtedly so siberia of course they will think that i m still ill continued rogojin to the prince but i sloped off quietly seedy as i was took the train and came away. aha brother senka you ll have to open your gates and let me in my boy i know he told tales about me to my father i know that well enough but i certainly did rile my father about nastasia philipovna that s very sure and that was my own doing. nastasia philipovna said the clerk as though trying to think out something. come you know nothing about her said rogojin impatiently. and supposing i do know something observed the other triumphantly. bosh there are plenty of nastasia philipovnas. and what an impertinent beast you are he added angrily. i thought some creature like you would hang on to me as soon as i got hold of my money. oh but i do know as it happens said the clerk in an aggravating manner. lebedeff knows all about her. you are pleased to reproach me your excellency but what if i prove that i am right after all nastasia phillpovna s family name is barashkoff i know you see and she is a very well known lady indeed and comes of a good family too. she is connected with one totski afanasy ivanovitch a man of considerable property a director of companies and so on and a great friend of general epanchin who is interested in the same matters as he is. my eyes said rogojin really surprised at last. the devil take the fellow how does he know that why he knows everything lebedeff knows everything i was a month or two with lihachof after his father died your excellency and while he was knocking about he s in the debtor s prison now i was with him and he couldn t do a thing without lebedeff and i got to know nastasia philipovna and several people at that time. nastasia philipovna why you don t mean to say that she and lihachof cried rogojin turning quite pale. no no no no no nothing of the sort i assure you said lebedeff hastily. oh dear no not for the world totski s the only man with any chance there. oh no he takes her to his box at the opera at the french theatre of an evening and the officers and people all look at her and say by jove there s the famous nastasia philipovna but no one ever gets any further than that for there is nothing more to say. yes it s quite true said rogojin frowning gloomily so zaleshoff told me. i was walking about the nefsky one fine day prince in my father s old coat when she suddenly came out of a shop and stepped into her carriage. i swear i was all of a blaze at once. then i met zaleshoff looking like a hair dresser s assistant got up as fine as i don t know who while i looked like a tinker. don t flatter yourself my boy said he she s not for such as you she s a princess she is and her name is nastasia philipovna barashkoff and she lives with totski who wishes to get rid of her because he s growing rather old fifty five or so and wants to marry a certain beauty the loveliest woman in all petersburg. and then he told me that i could see nastasia philipovna at the opera house that evening if i liked and described which was her box. well i d like to see my father allowing any of us to go to the theatre he d sooner have killed us any day. however i went for an hour or so and saw nastasia philipovna and i never slept a wink all night after. next morning my father happened to give me two government loan bonds to sell worth nearly five thousand roubles each. sell them said he and then take seven thousand five hundred roubles to the office give them to the cashier and bring me back the rest of the ten thousand without looking in anywhere on the way look sharp i shall be waiting for you. well i sold the bonds but i didn t take the seven thousand roubles to the office i went straight to the english shop and chose a pair of earrings with a diamond the size of a nut in each. they cost four hundred roubles more than i had so i gave my name and they trusted me. with the earrings i went at once to zaleshoff s. come on i said come on to nastasia philipovna s and off we went without more ado. i tell you i hadn t a notion of what was about me or before me or below my feet all the way i saw nothing whatever. we went straight into her drawing room and then she came out to us. i didn t say right out who i was but zaleshoff said from parfen rogojin in memory of his first meeting with you yesterday be so kind as to accept these she opened the parcel looked at the earrings and laughed. thank your friend mr. rogojin for his kind attention says she and bowed and went off. why didn t i die there on the spot the worst of it all was though that the beast zaleshoff got all the credit of it i was short and abominably dressed and stood and stared in her face and never said a word because i was shy like an ass and there was he all in the fashion pomaded and dressed out with a smart tie on bowing and scraping and i bet anything she took him for me all the while look here now i said when we came out none of your interference here after this do you understand he laughed and how are you going to settle up with your father says he. i thought i might as well jump into the neva at once without going home first but it struck me that i wouldn t after all and i went home feeling like one of the damned. my goodness shivered the clerk. and his father he added for the prince s instruction and his father would have given a man a ticket to the other world for ten roubles any day not to speak of ten thousand the prince observed rogojin with great curiosity he seemed paler than ever at this moment. what do you know about it cried the latter. well my father learned the whole story at once and zaleshoff blabbed it all over the town besides. so he took me upstairs and locked me up and swore at me for an hour. this is only a foretaste says he wait a bit till night comes and i ll come back and talk to you again. well what do you think the old fellow went straight off to nastasia philipovna touched the floor with his forehead and began blubbering and beseeching her on his knees to give him back the diamonds. so after awhile she brought the box and flew out at him. there she says take your earrings you wretched old miser although they are ten times dearer than their value to me now that i know what it must have cost parfen to get them give parfen my compliments she says and thank him very much well i meanwhile had borrowed twenty five roubles from a friend and off i went to pskoff to my aunt s. the old woman there lectured me so that i left the house and went on a drinking tour round the public houses of the place. i was in a high fever when i got to pskoff and by nightfall i was lying delirious in the streets somewhere or other oho we ll make nastasia philipovna sing another song now giggled lebedeff rubbing his hands with glee. hey my boy we ll get her some proper earrings now we ll get her such earrings that look here cried rogojin seizing him fiercely by the arm look here if you so much as name nastasia philipovna again i ll tan your hide as sure as you sit there aha do by all means if you tan my hide you won t turn me away from your society. you ll bind me to you with your lash for ever. ha ha here we are at the station though. sure enough the train was just steaming in as he spoke. though rogojin had declared that he left pskoff secretly a large collection of friends had assembled to greet him and did so with profuse waving of hats and shouting. why there s zaleshoff here too he muttered gazing at the scene with a sort of triumphant but unpleasant smile. then he suddenly turned to the prince prince i don t know why i have taken a fancy to you perhaps because i met you just when i did. but no it can t be that for i met this fellow nodding at lebedeff too and i have not taken a fancy to him by any means. come to see me prince we ll take off those gaiters of yours and dress you up in a smart fur coat the best we can buy. you shall have a dress coat best quality white waistcoat anything you like and your pocket shall be full of money. come and you shall go with me to nastasia philipovna s. now then will you come or no accept accept prince lef nicolaievitch said lebedef solemnly don t let it slip accept quick prince muishkin rose and stretched out his hand courteously while he replied with some cordiality i will come with the greatest pleasure and thank you very much for taking a fancy to me. i dare say i may even come today if i have time for i tell you frankly that i like you very much too. i liked you especially when you told us about the diamond earrings but i liked you before that as well though you have such a dark clouded sort of face. thanks very much for the offer of clothes and a fur coat i certainly shall require both clothes and coat very soon. as for money i have hardly a copeck about me at this moment. you shall have lots of money by the evening i shall have plenty so come along that s true enough he ll have lots before evening put in lebedeff. but look here are you a great hand with the ladies let s know that first asked rogojin. oh no oh no said the prince i couldn t you know my illness i hardly ever saw a soul. h m well here you fellow you can come along with me now if you like cried rogojin to lebedeff and so they all left the carriage. lebedeff had his desire. he went off with the noisy group of rogojin s friends towards the voznesensky while the prince s route lay towards the litaynaya. it was damp and wet. the prince asked his way of passers by and finding that he was a couple of miles or so from his destination he determined to take a droshky. \n"
          ],
          "name": "stdout"
        }
      ]
    },
    {
      "cell_type": "markdown",
      "metadata": {
        "id": "AMOPdWbMh1e5",
        "colab_type": "text"
      },
      "source": [
        "## Find the number of the pronoun \"the\" in the corpus. Hint: use the len() function. "
      ]
    },
    {
      "cell_type": "code",
      "metadata": {
        "id": "JLwoV26Hh1e9",
        "colab_type": "code",
        "outputId": "2c7e0b96-0922-4942-80d3-e44236b7576e",
        "colab": {}
      },
      "source": [
        "len(re.findall(r'the', processed_book))"
      ],
      "execution_count": 0,
      "outputs": [
        {
          "output_type": "execute_result",
          "data": {
            "text/plain": [
              "1"
            ]
          },
          "metadata": {
            "tags": []
          },
          "execution_count": 168
        }
      ]
    },
    {
      "cell_type": "markdown",
      "metadata": {
        "id": "t-H-wHAUh1fC",
        "colab_type": "text"
      },
      "source": [
        "## Try to convert every single stand-alone instance of 'i' to 'I' in the corpus. Make sure not to change the 'i' occuring in a word:"
      ]
    },
    {
      "cell_type": "code",
      "metadata": {
        "id": "kl_yGuwUh1fE",
        "colab_type": "code",
        "outputId": "05eebad6-852d-4344-d593-07a5ed21861d",
        "colab": {}
      },
      "source": [
        "processed_book = re.sub(r'\\si\\s', \" I \", processed_book)\n",
        "print(processed_book)"
      ],
      "execution_count": 0,
      "outputs": [
        {
          "output_type": "stream",
          "text": [
            " produced by martin adamson david widger with corrections by andrew sly the idiot by fyodor dostoyevsky translated by eva martin part I i. towards the end of november during a thaw at nine o clock one morning a train on the warsaw and petersburg railway was approaching the latter city at full speed. the morning was so damp and misty that it was only with great difficulty that the day succeeded in breaking and it was impossible to distinguish anything more than a few yards away from the carriage windows. some of the passengers by this particular train were returning from abroad but the third class carriages were the best filled chiefly with insignificant persons of various occupations and degrees picked up at the different stations nearer town. all of them seemed weary and most of them had sleepy eyes and a shivering expression while their complexions generally appeared to have taken on the colour of the fog outside. when day dawned two passengers in one of the third class carriages found themselves opposite each other. both were young fellows both were rather poorly dressed both had remarkable faces and both were evidently anxious to start a conversation. if they had but known why at this particular moment they were both remarkable persons they would undoubtedly have wondered at the strange chance which had set them down opposite to one another in a third class carriage of the warsaw railway company. one of them was a young fellow of about twenty seven not tall with black curling hair and small grey fiery eyes. his nose was broad and flat and he had high cheek bones his thin lips were constantly compressed into an impudent ironical it might almost be called a malicious smile but his forehead was high and well formed and atoned for a good deal of the ugliness of the lower part of his face. a special feature of this physiognomy was its death like pallor which gave to the whole man an indescribably emaciated appearance in spite of his hard look and at the same time a sort of passionate and suffering expression which did not harmonize with his impudent sarcastic smile and keen self satisfied bearing. he wore a large fur or rather astrachan overcoat which had kept him warm all night while his neighbour had been obliged to bear the full severity of a russian november night entirely unprepared. his wide sleeveless mantle with a large cape to it the sort of cloak one sees upon travellers during the winter months in switzerland or north italy was by no means adapted to the long cold journey through russia from eydkuhnen to st. petersburg. the wearer of this cloak was a young fellow also of about twenty six or twenty seven years of age slightly above the middle height very fair with a thin pointed and very light coloured beard his eyes were large and blue and had an intent look about them yet that heavy expression which some people affirm to be a peculiarity as well as evidence of an epileptic subject. his face was decidedly a pleasant one for all that refined but quite colourless except for the circumstance that at this moment it was blue with cold. he held a bundle made up of an old faded silk handkerchief that apparently contained all his travelling wardrobe and wore thick shoes and gaiters his whole appearance being very un russian. his black haired neighbour inspected these peculiarities having nothing better to do and at length remarked with that rude enjoyment of the discomforts of others which the common classes so often show cold very said his neighbour readily and this is a thaw too. fancy if it had been a hard frost I never thought it would be so cold in the old country. I ve grown quite out of the way of it. what been abroad I suppose yes straight from switzerland. wheugh my goodness the black haired young fellow whistled and then laughed. the conversation proceeded. the readiness of the fair haired young man in the cloak to answer all his opposite neighbour s questions was surprising. he seemed to have no suspicion of any impertinence or inappropriateness in the fact of such questions being put to him. replying to them he made known to the inquirer that he certainly had been long absent from russia more than four years that he had been sent abroad for his health that he had suffered from some strange nervous malady a kind of epilepsy with convulsive spasms. his interlocutor burst out laughing several times at his answers and more than ever when to the question whether he had been cured the patient replied no they did not cure me. hey that s it you stumped up your money for nothing and we believe in those fellows here remarked the black haired individual sarcastically. gospel truth sir gospel truth exclaimed another passenger a shabbily dressed man of about forty who looked like a clerk and possessed a red nose and a very blotchy face. gospel truth all they do is to get hold of our good russian money free gratis and for nothing. oh but you re quite wrong in my particular instance said the swiss patient quietly. of course I can t argue the matter because I know only my own case but my doctor gave me money and he had very little to pay my journey back besides having kept me at his own expense while there for nearly two years. why was there no one else to pay for you asked the black haired one. no mr. pavlicheff who had been supporting me there died a couple of years ago. I wrote to mrs. general epanchin at the time she is a distant relative of mine but she did not answer my letter. and so eventually I came back. and where have you come to that is where am I going to stay I i really don t quite know yet I both the listeners laughed again. I suppose your whole set up is in that bundle then asked the first. I bet anything it is exclaimed the red nosed passenger with extreme satisfaction and that he has precious little in the luggage van though of course poverty is no crime we must remember that it appeared that it was indeed as they had surmised. the young fellow hastened to admit the fact with wonderful readiness. your bundle has some importance however continued the clerk when they had laughed their fill it was observable that the subject of their mirth joined in the laughter when he saw them laughing for though I dare say it is not stuffed full of friedrichs d or and louis d or judge from your costume and gaiters still if you can add to your possessions such a valuable property as a relation like mrs. general epanchin then your bundle becomes a significant object at once. that is of course if you really are a relative of mrs. epanchin s and have not made a little error through well absence of mind which is very common to human beings or say through a too luxuriant fancy oh you are right again said the fair haired traveller for I really am almost wrong when I say she and I are related. she is hardly a relation at all so little in fact that I was not in the least surprised to have no answer to my letter. I expected as much. h m you spent your postage for nothing then. h m you are candid however and that is commendable. h m mrs. epanchin oh yes a most eminent person. I know her. as for mr. pavlicheff who supported you in switzerland I know him too at least if it was nicolai andreevitch of that name a fine fellow he was and had a property of four thousand souls in his day. yes nicolai andreevitch that was his name and the young fellow looked earnestly and with curiosity at the all knowing gentleman with the red nose. this sort of character is met with pretty frequently in a certain class. they are people who know everyone that is they know where a man is employed what his salary is whom he knows whom he married what money his wife had who are his cousins and second cousins etc. etc. these men generally have about a hundred pounds a year to live on and they spend their whole time and talents in the amassing of this style of knowledge which they reduce or raise to the standard of a science. during the latter part of the conversation the black haired young man had become very impatient. he stared out of the window and fidgeted and evidently longed for the end of the journey. he was very absent he would appear to listen and heard nothing and he would laugh of a sudden evidently with no idea of what he was laughing about. excuse me said the red nosed man to the young fellow with the bundle rather suddenly whom have I the honour to be talking to prince lef nicolaievitch muishkin replied the latter with perfect readiness. prince muishkin lef nicolaievitch h m I don t know I m sure I may say I have never heard of such a person said the clerk thoughtfully. at least the name I admit is historical. karamsin must mention the family name of course in his history but as an individual one never hears of any prince muishkin nowadays. of course not replied the prince there are none except myself. I believe I am the last and only one. as to my forefathers they have always been a poor lot my own father was a sublieutenant in the army. I don t know how mrs. epanchin comes into the muishkin family but she is descended from the princess muishkin and she too is the last of her line. and did you learn science and all that with your professor over there asked the black haired passenger. oh yes I did learn a little but I ve never learned anything whatever said the other. oh but I learned very little you know added the prince as though excusing himself. they could not teach me very much on account of my illness. do you know the rogojins asked his questioner abruptly. no I don t not at all I hardly know anyone in russia. why is that your name yes I am rogojin parfen rogojin. parfen rogojin dear me then don t you belong to those very rogojins perhaps began the clerk with a very perceptible increase of civility in his tone. yes those very ones interrupted rogojin impatiently and with scant courtesy. I may remark that he had not once taken any notice of the blotchy faced passenger and had hitherto addressed all his remarks direct to the prince. dear me is it possible observed the clerk while his face assumed an expression of great deference and servility if not of absolute alarm what a son of that very semen rogojin hereditary honourable citizen who died a month or so ago and left two million and a half of roubles and how do you know that he left two million and a half of roubles asked rogojin disdainfully and not deigning so much as to look at the other. however it s true enough that my father died a month ago and that here am I returning from pskoff a month after with hardly a boot to my foot. they ve treated me like a dog I ve been ill of fever at pskoff the whole time and not a line nor farthing of money have I received from my mother or my confounded brother and now you ll have a million roubles at least goodness gracious me exclaimed the clerk rubbing his hands. five weeks since I was just like yourself continued rogojin addressing the prince with nothing but a bundle and the clothes I wore. I ran away from my father and came to pskoff to my aunt s house where I caved in at once with fever and he went and died while I was away. all honour to my respected father s memory but he uncommonly nearly killed me all the same. give you my word prince if I hadn t cut and run then when I did he d have murdered me like a dog. I suppose you angered him somehow asked the prince looking at the millionaire with considerable curiosity. but though there may have been something remarkable in the fact that this man was heir to millions of roubles there was something about him which surprised and interested the prince more than that. rogojin too seemed to have taken up the conversation with unusual alacrity it appeared that he was still in a considerable state of excitement if not absolutely feverish and was in real need of someone to talk to for the mere sake of talking as safety valve to his agitation. as for his red nosed neighbour the latter since the information as to the identity of rogojin hung over him seemed to be living on the honey of his words and in the breath of his nostrils catching at every syllable as though it were a pearl of great price. oh yes I angered him I certainly did anger him replied rogojin. but what puts me out so is my brother. of course my mother couldn t do anything she s too old and whatever brother senka says is law for her but why couldn t he let me know he sent a telegram they say. what s the good of a telegram it frightened my aunt so that she sent it back to the office unopened and there it s been ever since it s only thanks to konief that I heard at all he wrote me all about it. he says my brother cut off the gold tassels from my father s coffin at night because they re worth a lot of money says he. why I can get him sent off to siberia for that alone if I like it s sacrilege. here you scarecrow he added addressing the clerk at his side is it sacrilege or not by law sacrilege certainly certainly sacrilege said the latter. and it s siberia for sacrilege isn t it undoubtedly so siberia of course they will think that I m still ill continued rogojin to the prince but I sloped off quietly seedy as I was took the train and came away. aha brother senka you ll have to open your gates and let me in my boy I know he told tales about me to my father I know that well enough but I certainly did rile my father about nastasia philipovna that s very sure and that was my own doing. nastasia philipovna said the clerk as though trying to think out something. come you know nothing about her said rogojin impatiently. and supposing I do know something observed the other triumphantly. bosh there are plenty of nastasia philipovnas. and what an impertinent beast you are he added angrily. I thought some creature like you would hang on to me as soon as I got hold of my money. oh but I do know as it happens said the clerk in an aggravating manner. lebedeff knows all about her. you are pleased to reproach me your excellency but what if I prove that I am right after all nastasia phillpovna s family name is barashkoff I know you see and she is a very well known lady indeed and comes of a good family too. she is connected with one totski afanasy ivanovitch a man of considerable property a director of companies and so on and a great friend of general epanchin who is interested in the same matters as he is. my eyes said rogojin really surprised at last. the devil take the fellow how does he know that why he knows everything lebedeff knows everything I was a month or two with lihachof after his father died your excellency and while he was knocking about he s in the debtor s prison now I was with him and he couldn t do a thing without lebedeff and I got to know nastasia philipovna and several people at that time. nastasia philipovna why you don t mean to say that she and lihachof cried rogojin turning quite pale. no no no no no nothing of the sort I assure you said lebedeff hastily. oh dear no not for the world totski s the only man with any chance there. oh no he takes her to his box at the opera at the french theatre of an evening and the officers and people all look at her and say by jove there s the famous nastasia philipovna but no one ever gets any further than that for there is nothing more to say. yes it s quite true said rogojin frowning gloomily so zaleshoff told me. I was walking about the nefsky one fine day prince in my father s old coat when she suddenly came out of a shop and stepped into her carriage. I swear I was all of a blaze at once. then I met zaleshoff looking like a hair dresser s assistant got up as fine as I don t know who while I looked like a tinker. don t flatter yourself my boy said he she s not for such as you she s a princess she is and her name is nastasia philipovna barashkoff and she lives with totski who wishes to get rid of her because he s growing rather old fifty five or so and wants to marry a certain beauty the loveliest woman in all petersburg. and then he told me that I could see nastasia philipovna at the opera house that evening if I liked and described which was her box. well I d like to see my father allowing any of us to go to the theatre he d sooner have killed us any day. however I went for an hour or so and saw nastasia philipovna and I never slept a wink all night after. next morning my father happened to give me two government loan bonds to sell worth nearly five thousand roubles each. sell them said he and then take seven thousand five hundred roubles to the office give them to the cashier and bring me back the rest of the ten thousand without looking in anywhere on the way look sharp I shall be waiting for you. well I sold the bonds but I didn t take the seven thousand roubles to the office I went straight to the english shop and chose a pair of earrings with a diamond the size of a nut in each. they cost four hundred roubles more than I had so I gave my name and they trusted me. with the earrings I went at once to zaleshoff s. come on I said come on to nastasia philipovna s and off we went without more ado. I tell you I hadn t a notion of what was about me or before me or below my feet all the way I saw nothing whatever. we went straight into her drawing room and then she came out to us. I didn t say right out who I was but zaleshoff said from parfen rogojin in memory of his first meeting with you yesterday be so kind as to accept these she opened the parcel looked at the earrings and laughed. thank your friend mr. rogojin for his kind attention says she and bowed and went off. why didn t I die there on the spot the worst of it all was though that the beast zaleshoff got all the credit of it I was short and abominably dressed and stood and stared in her face and never said a word because I was shy like an ass and there was he all in the fashion pomaded and dressed out with a smart tie on bowing and scraping and I bet anything she took him for me all the while look here now I said when we came out none of your interference here after this do you understand he laughed and how are you going to settle up with your father says he. I thought I might as well jump into the neva at once without going home first but it struck me that I wouldn t after all and I went home feeling like one of the damned. my goodness shivered the clerk. and his father he added for the prince s instruction and his father would have given a man a ticket to the other world for ten roubles any day not to speak of ten thousand the prince observed rogojin with great curiosity he seemed paler than ever at this moment. what do you know about it cried the latter. well my father learned the whole story at once and zaleshoff blabbed it all over the town besides. so he took me upstairs and locked me up and swore at me for an hour. this is only a foretaste says he wait a bit till night comes and I ll come back and talk to you again. well what do you think the old fellow went straight off to nastasia philipovna touched the floor with his forehead and began blubbering and beseeching her on his knees to give him back the diamonds. so after awhile she brought the box and flew out at him. there she says take your earrings you wretched old miser although they are ten times dearer than their value to me now that I know what it must have cost parfen to get them give parfen my compliments she says and thank him very much well I meanwhile had borrowed twenty five roubles from a friend and off I went to pskoff to my aunt s. the old woman there lectured me so that I left the house and went on a drinking tour round the public houses of the place. I was in a high fever when I got to pskoff and by nightfall I was lying delirious in the streets somewhere or other oho we ll make nastasia philipovna sing another song now giggled lebedeff rubbing his hands with glee. hey my boy we ll get her some proper earrings now we ll get her such earrings that look here cried rogojin seizing him fiercely by the arm look here if you so much as name nastasia philipovna again I ll tan your hide as sure as you sit there aha do by all means if you tan my hide you won t turn me away from your society. you ll bind me to you with your lash for ever. ha ha here we are at the station though. sure enough the train was just steaming in as he spoke. though rogojin had declared that he left pskoff secretly a large collection of friends had assembled to greet him and did so with profuse waving of hats and shouting. why there s zaleshoff here too he muttered gazing at the scene with a sort of triumphant but unpleasant smile. then he suddenly turned to the prince prince I don t know why I have taken a fancy to you perhaps because I met you just when I did. but no it can t be that for I met this fellow nodding at lebedeff too and I have not taken a fancy to him by any means. come to see me prince we ll take off those gaiters of yours and dress you up in a smart fur coat the best we can buy. you shall have a dress coat best quality white waistcoat anything you like and your pocket shall be full of money. come and you shall go with me to nastasia philipovna s. now then will you come or no accept accept prince lef nicolaievitch said lebedef solemnly don t let it slip accept quick prince muishkin rose and stretched out his hand courteously while he replied with some cordiality I will come with the greatest pleasure and thank you very much for taking a fancy to me. I dare say I may even come today if I have time for I tell you frankly that I like you very much too. I liked you especially when you told us about the diamond earrings but I liked you before that as well though you have such a dark clouded sort of face. thanks very much for the offer of clothes and a fur coat I certainly shall require both clothes and coat very soon. as for money I have hardly a copeck about me at this moment. you shall have lots of money by the evening I shall have plenty so come along that s true enough he ll have lots before evening put in lebedeff. but look here are you a great hand with the ladies let s know that first asked rogojin. oh no oh no said the prince I couldn t you know my illness I hardly ever saw a soul. h m well here you fellow you can come along with me now if you like cried rogojin to lebedeff and so they all left the carriage. lebedeff had his desire. he went off with the noisy group of rogojin s friends towards the voznesensky while the prince s route lay towards the litaynaya. it was damp and wet. the prince asked his way of passers by and finding that he was a couple of miles or so from his destination he determined to take a droshky. \n"
          ],
          "name": "stdout"
        }
      ]
    },
    {
      "cell_type": "markdown",
      "metadata": {
        "id": "ffSWjUj4h1fL",
        "colab_type": "text"
      },
      "source": [
        "### Find the number of times anyone was quoted (\"\") in the corpus. "
      ]
    },
    {
      "cell_type": "code",
      "metadata": {
        "id": "cxIi_WdNh1fO",
        "colab_type": "code",
        "outputId": "88926d52-66ad-451f-d87d-afd4e7d4920a",
        "colab": {}
      },
      "source": [
        "len(re.findall(r'\\”', book))"
      ],
      "execution_count": 0,
      "outputs": [
        {
          "output_type": "execute_result",
          "data": {
            "text/plain": [
              "96"
            ]
          },
          "metadata": {
            "tags": []
          },
          "execution_count": 170
        }
      ]
    },
    {
      "cell_type": "code",
      "metadata": {
        "id": "VbZKKxtqh1fU",
        "colab_type": "code",
        "colab": {}
      },
      "source": [
        "What are the words connected by '--' in the corpus?"
      ],
      "execution_count": 0,
      "outputs": []
    },
    {
      "cell_type": "code",
      "metadata": {
        "id": "5_fdLmUAh1fY",
        "colab_type": "code",
        "outputId": "7da4c28f-79cf-49b5-aa59-a11d7e0ef643",
        "colab": {}
      },
      "source": [
        "re.findall(r'[a-zA-Z0-9]*--[a-zA-Z0-9]*', book)"
      ],
      "execution_count": 0,
      "outputs": [
        {
          "output_type": "execute_result",
          "data": {
            "text/plain": [
              "['ironical--it',\n",
              " 'malicious--smile',\n",
              " 'fur--or',\n",
              " 'astrachan--overcoat',\n",
              " 'it--the',\n",
              " 'Italy--was',\n",
              " 'malady--a',\n",
              " 'money--and',\n",
              " 'little--to',\n",
              " 'No--Mr',\n",
              " 'is--where',\n",
              " 'I--I',\n",
              " 'I--',\n",
              " '--though',\n",
              " 'crime--we',\n",
              " 'or--judge',\n",
              " 'gaiters--still',\n",
              " '--if',\n",
              " 'through--well',\n",
              " 'say--through',\n",
              " 'however--and',\n",
              " 'Epanchin--oh',\n",
              " 'too--at',\n",
              " 'was--and',\n",
              " 'Andreevitch--that',\n",
              " 'everyone--that',\n",
              " 'reduce--or',\n",
              " 'raise--to',\n",
              " 'listen--and',\n",
              " 'history--but',\n",
              " 'individual--one',\n",
              " 'yes--I',\n",
              " 'but--',\n",
              " 't--not',\n",
              " 'me--then',\n",
              " 'perhaps--',\n",
              " 'Yes--those',\n",
              " 'me--is',\n",
              " 'servility--if',\n",
              " 'Rogojin--hereditary',\n",
              " 'citizen--who',\n",
              " 'least--goodness',\n",
              " 'memory--but',\n",
              " 'latter--since',\n",
              " 'Rogojin--hung',\n",
              " 'him--I',\n",
              " 'anything--she',\n",
              " 'old--and',\n",
              " 'you--scarecrow',\n",
              " 'certainly--certainly',\n",
              " 'father--I',\n",
              " 'Barashkoff--I',\n",
              " 'see--and',\n",
              " 'everything--Lebedeff',\n",
              " 'about--he',\n",
              " 'now--I',\n",
              " 'Lihachof--',\n",
              " 'Zaleshoff--looking',\n",
              " 'old--fifty',\n",
              " 'so--and',\n",
              " 'this--do',\n",
              " 'day--not',\n",
              " 'that--',\n",
              " 'do--by',\n",
              " 'know--my',\n",
              " 'illness--I',\n",
              " 'well--here',\n",
              " 'fellow--you']"
            ]
          },
          "metadata": {
            "tags": []
          },
          "execution_count": 171
        }
      ]
    },
    {
      "cell_type": "code",
      "metadata": {
        "id": "7WIu7nlkh1fb",
        "colab_type": "code",
        "colab": {}
      },
      "source": [
        ""
      ],
      "execution_count": 0,
      "outputs": []
    }
  ]
}