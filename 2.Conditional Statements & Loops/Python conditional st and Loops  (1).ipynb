{
 "cells": [
  {
   "cell_type": "markdown",
   "metadata": {
    "colab_type": "text",
    "id": "JotKBgn08BXU"
   },
   "source": [
    "## Conditional Statements:"
   ]
  },
  {
   "cell_type": "markdown",
   "metadata": {
    "colab_type": "text",
    "id": "nKkr5VTW8BXW"
   },
   "source": [
    "##### if statement:"
   ]
  },
  {
   "cell_type": "markdown",
   "metadata": {
    "colab_type": "text",
    "id": "MSwgDK7N8BXX"
   },
   "source": [
    "Conditional Statement in Python perform different computations or actions depending on whether a specific Boolean constraint evaluates to true or false. Conditional statements are handled by IF statements in Python. The if statement is always followed by colon which marks the indentation, that is the block of code within the if condition. If indentation is not given then the interpreter throws an error.\n",
    "\n",
    "The boolean conditions can be of the form (a>b or a==b or a in b etc)"
   ]
  },
  {
   "cell_type": "code",
   "execution_count": 1,
   "metadata": {
    "colab": {
     "base_uri": "https://localhost:8080/",
     "height": 34
    },
    "colab_type": "code",
    "executionInfo": {
     "elapsed": 2125,
     "status": "ok",
     "timestamp": 1568990568071,
     "user": {
      "displayName": "Alok Yadav",
      "photoUrl": "https://lh3.googleusercontent.com/a-/AAuE7mCoOPX57BUgY2lDZ55QM_P9IlAdFR6kykkAi76Yaw=s64",
      "userId": "13695401162967392961"
     },
     "user_tz": -330
    },
    "id": "XpcxQEOR8BXZ",
    "outputId": "adabf1e6-2ed4-41ed-82dc-9b358e4e0c53"
   },
   "outputs": [
    {
     "name": "stdout",
     "output_type": "stream",
     "text": [
      "6  is greater than  4\n"
     ]
    }
   ],
   "source": [
    "#for eg:\n",
    "a = 6\n",
    "b = 4\n",
    "if (a > b):\n",
    "    print (a, ' is greater than ',b)"
   ]
  },
  {
   "cell_type": "markdown",
   "metadata": {
    "colab_type": "text",
    "id": "h7lD5uAZ8BXg"
   },
   "source": [
    "##### else statement:\n"
   ]
  },
  {
   "cell_type": "markdown",
   "metadata": {
    "colab_type": "text",
    "id": "YenkpMj18BXi"
   },
   "source": [
    "We have seen 'if' statement executes when a condition becomes True, now if the condition is False then in that case the else statement is executed. we don't have to give any condition with the else block"
   ]
  },
  {
   "cell_type": "code",
   "execution_count": 0,
   "metadata": {
    "colab": {},
    "colab_type": "code",
    "id": "BAOFfimj8BXk",
    "outputId": "5cc97ef0-96b0-4831-dc84-a0739a0b37a3"
   },
   "outputs": [
    {
     "name": "stdout",
     "output_type": "stream",
     "text": [
      "4  is less than  6\n"
     ]
    }
   ],
   "source": [
    "#for eg:\n",
    "a = 4\n",
    "b = 6\n",
    "if (a > b):\n",
    "    print (a, ' is greater than ',b)\n",
    "else:\n",
    "    print (a, ' is less than ',b)"
   ]
  },
  {
   "cell_type": "markdown",
   "metadata": {
    "colab_type": "text",
    "id": "EQ4xITY_8BXp"
   },
   "source": [
    "##### elif statement:"
   ]
  },
  {
   "cell_type": "markdown",
   "metadata": {
    "colab_type": "text",
    "id": "pXA7FxFr8BXs"
   },
   "source": [
    "If we want to evaluate multiple conditions then in that case we can use elif statement or else-if statement.\n",
    "\n",
    "It's similar to an if-else statement and the only difference is that in else we will not check the condition but in elif we will do check the condition."
   ]
  },
  {
   "cell_type": "code",
   "execution_count": 4,
   "metadata": {
    "colab": {},
    "colab_type": "code",
    "id": "mCWcCBHM8BXt",
    "outputId": "96f465e0-180d-4717-c4c5-c71c1c5cdf97"
   },
   "outputs": [
    {
     "name": "stdout",
     "output_type": "stream",
     "text": [
      "third code\n"
     ]
    }
   ],
   "source": [
    "#for eg: let\n",
    "x = 3\n",
    "if x == 1:\n",
    "    print ('first code')\n",
    "elif x == 2:\n",
    "    print ('second code')\n",
    "elif x == 3:\n",
    "    print ('third code')\n",
    "elif x == 4:\n",
    "    print ('fourth code')\n",
    "else:\n",
    "    print ('No condition matched')\n",
    "    "
   ]
  },
  {
   "cell_type": "markdown",
   "metadata": {
    "colab_type": "text",
    "id": "mqfP48xU8BXy"
   },
   "source": [
    "##### Nested if-else:"
   ]
  },
  {
   "cell_type": "markdown",
   "metadata": {
    "colab_type": "text",
    "id": "lnnmJJhd8BX1"
   },
   "source": [
    "In case of nested if-else statement, there can be another if-else statement present within the if statement. That is if one set of condition is True only then  it will evaluate the second set of conditions."
   ]
  },
  {
   "cell_type": "code",
   "execution_count": 7,
   "metadata": {
    "colab": {},
    "colab_type": "code",
    "id": "S4CZkiTH8BX2",
    "outputId": "7694c4d8-57df-4e27-f657-45c351ea2eb7"
   },
   "outputs": [
    {
     "name": "stdout",
     "output_type": "stream",
     "text": [
      "Hi Paul, you are invited for an event\n"
     ]
    }
   ],
   "source": [
    "name = 'Paul'\n",
    "age = 18\n",
    "if age < 20:\n",
    "    if name == 'Paul':\n",
    "        print ('Hi Paul, you are invited for an event')\n",
    "    else:\n",
    "        print ('Sorry, we could\\'nt find your name in the list')\n",
    "else:\n",
    "    print ('Sorry, this event is meant for students below 20 years')"
   ]
  },
  {
   "cell_type": "markdown",
   "metadata": {
    "colab_type": "text",
    "id": "XIQJ_zkJ8BX7"
   },
   "source": [
    "## Python Loops:"
   ]
  },
  {
   "cell_type": "markdown",
   "metadata": {
    "colab_type": "text",
    "id": "Tf6GP1218BX8"
   },
   "source": [
    "Sometimes it is required to execute the part of the code repeatatively untill the condition is met. Then the loop terminate. Python provide two ways for executing the loops."
   ]
  },
  {
   "cell_type": "markdown",
   "metadata": {
    "colab_type": "text",
    "id": "Yt_XPrWO8BX9"
   },
   "source": [
    "##### While loop:"
   ]
  },
  {
   "cell_type": "markdown",
   "metadata": {
    "colab_type": "text",
    "id": "do0JRrnD8BX_"
   },
   "source": [
    "In python, while loop is used to execute a block of statements repeatedly until a given a condition is satisfied. And when the condition becomes false, the line immediately after the loop in program is executed.\n",
    "\n",
    "In case of while loop, we initialise one variable, then we evaluate the condition and finally we increment/decrement the value of the variable."
   ]
  },
  {
   "cell_type": "code",
   "execution_count": 0,
   "metadata": {
    "colab": {},
    "colab_type": "code",
    "id": "g718ugJ88BYA",
    "outputId": "b4d49a85-24c6-4447-f5cc-d66346ab14e8"
   },
   "outputs": [
    {
     "name": "stdout",
     "output_type": "stream",
     "text": [
      "0\n",
      "1\n",
      "2\n"
     ]
    }
   ],
   "source": [
    "#for eg:\n",
    "x = 0         #initialising \n",
    "while x < 3:  #evaluating\n",
    "    print (x)\n",
    "    x += 1    #incrementing"
   ]
  },
  {
   "cell_type": "markdown",
   "metadata": {
    "colab_type": "text",
    "id": "K1WVB3vH8BYH"
   },
   "source": [
    "##### For loop:"
   ]
  },
  {
   "cell_type": "markdown",
   "metadata": {
    "colab_type": "text",
    "id": "IbFEAYR28BYJ"
   },
   "source": [
    "A for loop is used to iterate over a dataset, or it iterates over a certain range:"
   ]
  },
  {
   "cell_type": "code",
   "execution_count": 0,
   "metadata": {
    "colab": {},
    "colab_type": "code",
    "id": "0EBAKfkU8BYL",
    "outputId": "380e0f45-09dc-4a1e-d704-86e209428f5a"
   },
   "outputs": [
    {
     "name": "stdout",
     "output_type": "stream",
     "text": [
      "john\n",
      "paul\n",
      "mike\n",
      "tom\n"
     ]
    }
   ],
   "source": [
    "#for eg:\n",
    "#1) Iterating over a dataset:\n",
    "x = ['john','paul','mike','tom'] #lets consider this dataset\n",
    "for i in x:\n",
    "    print (i)"
   ]
  },
  {
   "cell_type": "code",
   "execution_count": 0,
   "metadata": {
    "colab": {},
    "colab_type": "code",
    "id": "fcsRyvRk8BYT",
    "outputId": "bb7ecc8e-cd21-464a-9851-8259d5a61d8f"
   },
   "outputs": [
    {
     "name": "stdout",
     "output_type": "stream",
     "text": [
      "0\n",
      "1\n",
      "2\n",
      "3\n"
     ]
    }
   ],
   "source": [
    "#2) Iterating over a dataset(1):\n",
    "x = ['john','paul','mike','tom']\n",
    "for i in range(len(x)):\n",
    "    print (i)"
   ]
  },
  {
   "cell_type": "code",
   "execution_count": 0,
   "metadata": {
    "colab": {},
    "colab_type": "code",
    "id": "tNyMFHO08BYX",
    "outputId": "a76987e9-a598-4631-a511-57b60bd94bc4"
   },
   "outputs": [
    {
     "name": "stdout",
     "output_type": "stream",
     "text": [
      "0\n",
      "1\n",
      "2\n"
     ]
    }
   ],
   "source": [
    "#3) Iterating over a range of values:\n",
    "for i in range (0,3):\n",
    "    print (i)"
   ]
  },
  {
   "cell_type": "markdown",
   "metadata": {
    "colab_type": "text",
    "id": "wXio5EDc8BYb"
   },
   "source": [
    "### Break, pass and continue:"
   ]
  },
  {
   "cell_type": "markdown",
   "metadata": {
    "colab_type": "text",
    "id": "YduPXvwm8BYd"
   },
   "source": [
    "##### Break:\n",
    "The break statement is used to break the loop. The loop breaks when it encounters the break keyword and it throws to the immediate next line after the loop. for eg:"
   ]
  },
  {
   "cell_type": "code",
   "execution_count": 0,
   "metadata": {
    "colab": {},
    "colab_type": "code",
    "id": "UQw7L-9M8BYf",
    "outputId": "2fd95698-f4cf-4754-dd54-165e84bd5f57"
   },
   "outputs": [
    {
     "name": "stdout",
     "output_type": "stream",
     "text": [
      "0\n",
      "1\n",
      "2\n",
      "continue from this line after the for loop\n"
     ]
    }
   ],
   "source": [
    "for i in range(0,5):\n",
    "    if i == 3:\n",
    "        break\n",
    "    print (i)\n",
    "print ('continue from this line after the for loop')"
   ]
  },
  {
   "cell_type": "markdown",
   "metadata": {
    "colab_type": "text",
    "id": "3BpZ4mvZ8BYk"
   },
   "source": [
    "##### continue:\n",
    "The continue statement will skip the current value and will continue from the immediate next value. for eg:"
   ]
  },
  {
   "cell_type": "code",
   "execution_count": 0,
   "metadata": {
    "colab": {},
    "colab_type": "code",
    "id": "b5VZiFCI8BYl",
    "outputId": "95de35ca-878f-4389-ba86-6ef992da98ec"
   },
   "outputs": [
    {
     "name": "stdout",
     "output_type": "stream",
     "text": [
      "0\n",
      "1\n",
      "2\n",
      "4\n"
     ]
    }
   ],
   "source": [
    "for i in range (0,5):\n",
    "    if i == 3:\n",
    "        continue\n",
    "    print (i)"
   ]
  },
  {
   "cell_type": "markdown",
   "metadata": {
    "colab_type": "text",
    "id": "u1MAWfn28BYq"
   },
   "source": [
    "##### Pass:\n",
    "pass is just used to pass the flow. The utility of pass statement is when certain part of the code is not ready so in order to check rest of the code we can use pass statement as it will pass the flow normally."
   ]
  },
  {
   "cell_type": "code",
   "execution_count": 0,
   "metadata": {
    "colab": {},
    "colab_type": "code",
    "id": "Uh1n1Hzj8BYr",
    "outputId": "4d80a559-2431-433b-8603-20ce8a416aae"
   },
   "outputs": [
    {
     "name": "stdout",
     "output_type": "stream",
     "text": [
      "continue from this line\n"
     ]
    }
   ],
   "source": [
    "for i in range (0,5):\n",
    "    pass\n",
    "print ('continue from this line')"
   ]
  },
  {
   "cell_type": "markdown",
   "metadata": {
    "colab_type": "text",
    "id": "kDgODQH78BYw"
   },
   "source": [
    "##### Practise Questions:"
   ]
  },
  {
   "cell_type": "markdown",
   "metadata": {
    "colab_type": "raw",
    "id": "h3g_fty08BYx"
   },
   "source": [
    "1. Program to find the greater number between the two.\n",
    "2. Program that takes user input and identifies even and odd number\n",
    "3. Program to identify a valid mobile number \n",
    "4. define a function that takes list of numbers as argument and output the number that are less than 20\n",
    "5. Count the number of letters in refrigerator without using len() function.\n",
    "6. find the length of each element of array\n",
    "7. print the number of vowels occuring in ‘refrigerator’\n",
    "8. Write a program to find the number of vowels, consonents, digits and white space characters in a string. 'I am learning python'\n",
    "9. Print all letters except ‘E’ in cricket.\n",
    "10. Write a program to make a new string with all the vowels deleted from the string \"Hello, have a good day\" (output : Hll, hv  gd dy)\n",
    "11. Write a program to find out the largest and smallest word in the string \"This is python programming\".\n",
    "12. Write a program to check if a given string is a Palindrome. A palindrome reads same from front and back e.g.- aba, ccaacc, mom, etc.\n",
    "13. a = ['read','feed','string',’at’] , Write a Python program to add 'ing' at the end of a given string (length should be at least 3). If the given string already ends with 'ing' then add 'ly' instead. If the string length of the given string is less than 3, leave it unchanged.\n",
    "14. Write a Python program to count the number of even and odd numbers from a series of numbers. [15,13,17,19,14,6,61,62]\n",
    "15. Form a pattern: \n",
    "\t*\n",
    "\t**\n",
    "\t***\n",
    "\t****\n",
    "\t*****\n",
    "\t****\n",
    "\t***\n",
    "\t**\n",
    "\t*\n",
    "16. Form a pattern:\n",
    "\t   *\n",
    "\t  ***\n",
    "\t *****\n",
    "\t  ***\n",
    "\t   *\n",
    "17. Identify a fibnocci series (1,1,2,3,5,8,13….)\n",
    "18. Identify a prime number in range (2,30)\n",
    "19. write a program to calculate the average of a list of numbers \n",
    "      [1,2,3,4,5,6,7,8,9,10]\n",
    "20. Print the multiplication table of 7 as (7*1=7 and so on) \n",
    "21. Factorial of any number n is represented by n! and is equal to 1*2*3…..(n-1)*n. Write a program to calculate factorial of a number.\n",
    "22. Three digit number is called Armstrong number if sum of cube of its digit is equal to number itself.\u000b",
    "E.g.- 153 is an Armstrong number because (13)+(53)+(33) = 153.\u000b",
    "Write all Armstrong numbers between 100 to 500.\n",
    "23. Write a Python program to find the median of given values\n",
    "[8,10,15,20,11,17,30,22,13,16,23]\n",
    "24. write a program to print patter 0 as :\n",
    "   ***  \n",
    "*        *\n",
    "*        *\n",
    "*        *\n",
    "*        *\n",
    "*        *       \n",
    "   ***\n",
    "25. Write a program that gives a list of elements which is reversed for eg:\n",
    "['string','integer','float','boolean']  output as : ['gnirts', 'regetni', 'taolf', 'naeloob']\n",
    "\n",
    "26. Print the following pattern:\n",
    "      ***\n",
    "    *      *\n",
    "    *      *\n",
    "     *****\n",
    "    *      *\n",
    "    *      *  \n",
    "    *      *\n",
    "27. Print the following pattern:\n",
    "    *****\n",
    "    *         *\n",
    "    *         * \n",
    "    *         *\n",
    "    *         * \n",
    "    *         *\n",
    "    ****** \n",
    "28. Print the following pattern:\n",
    "******\n",
    "       *\n",
    "     *\n",
    "   *\n",
    "****** \n",
    "\n",
    "29. Create a while loop which repeats itself and asks for the user input. If the user  enters the letter ‘q’ ,it quits the while loop else it continues the loop.\n",
    "\n",
    "30. Print all No.s between range (2000,3000) which are divisible by 7 but not by 5.\n",
    "\n",
    "31. For x = ‘hello world 1234’, count the number of alphabets, numbers and spaces\n",
    "\n",
    "32. For x = ['john','smith','michael','david','abrahm','nicola'], format the list such that the first letter of every name is in capitals.\n",
    "Expected result : ['John', 'Smith', 'Michael', 'David', 'Abrahm', 'Nicola']\n",
    "\n",
    "33. x = ['Banett','Rose','Clare']  y = [24,29,20]\n",
    "For this two lists, x represents the names and y represents the ages corresponding to names. Create a dictionary having keys as names and ages representing the values. Expected output: {'Banett': 24, 'Rose': 29, 'Clare': 20}\n",
    "\n",
    "34. x = ['right','a','heaven','is','when','the']\n",
    "For list above, create another list in which elements are sorted out on basis of length of element.\n",
    "Expected output: ['a', 'is', 'the', 'when', 'right', 'heaven']\n",
    "\n",
    "35. t= 'program‘\n",
    "Apply string operations only and sort out the letters in the above word in alphabetical order.\n",
    "Expected output: agmoprr"
   ]
  },
  {
   "cell_type": "markdown",
   "metadata": {
    "colab_type": "text",
    "id": "2Qn239bE8BYy"
   },
   "source": [
    "##### Answers:"
   ]
  },
  {
   "cell_type": "code",
   "execution_count": 3,
   "metadata": {
    "colab": {},
    "colab_type": "code",
    "id": "0_KOsR_I8BY0",
    "outputId": "57d3b357-489b-4853-f984-a799f1818072"
   },
   "outputs": [
    {
     "name": "stdout",
     "output_type": "stream",
     "text": [
      "enter first number 6\n",
      "enter second number 7\n",
      "7  is greater then  6\n"
     ]
    }
   ],
   "source": [
    "x = int (input ('enter first number '))\n",
    "y = int (input('enter second number '))\n",
    "if x>y:\n",
    "    print (x, ' is greater then ', y)\n",
    "else:\n",
    "    print (y , ' is greater then ', x)"
   ]
  },
  {
   "cell_type": "code",
   "execution_count": 4,
   "metadata": {
    "colab": {},
    "colab_type": "code",
    "id": "STyPnsR88BY4",
    "outputId": "ea34a302-60c1-4244-d8cc-2653dfdbfa6b"
   },
   "outputs": [
    {
     "name": "stdout",
     "output_type": "stream",
     "text": [
      "enter a number44\n",
      "44 is even\n"
     ]
    }
   ],
   "source": [
    "x = int(input('enter a number'))\n",
    "if x% 2 == 0:\n",
    "    print (x , 'is even')\n",
    "else:\n",
    "    print (x , 'is odd')"
   ]
  },
  {
   "cell_type": "code",
   "execution_count": 5,
   "metadata": {
    "colab": {},
    "colab_type": "code",
    "id": "6NQOpAw38BY8",
    "outputId": "20bcf2e5-83bf-45a6-d91a-c0e5ef53c184"
   },
   "outputs": [
    {
     "name": "stdout",
     "output_type": "stream",
     "text": [
      "+918109340944  is Indian\n",
      "+918839114952  is Indian\n",
      "+19876543210  is from U.S\n",
      "123456  is Not a valid number\n",
      "123456789123  Unable to Match the number\n"
     ]
    }
   ],
   "source": [
    "t= ['+918109340944','+918839114952','+19876543210','123456','123456789123']\n",
    "for x in t:\n",
    "# x = str(input('Please enter a phone number '))\n",
    "    if len(x)==13 or len(x)==12:\n",
    "        if x.startswith('+91'):\n",
    "            print (x, ' is Indian')\n",
    "        elif x.startswith('+1'):\n",
    "            print (x, ' is from U.S')\n",
    "        else:\n",
    "            print (x, ' Unable to Match the number')\n",
    "    else:\n",
    "        print (x, ' is Not a valid number')\n"
   ]
  },
  {
   "cell_type": "code",
   "execution_count": 7,
   "metadata": {
    "colab": {},
    "colab_type": "code",
    "id": "LJWzflvO8BZD",
    "outputId": "4f3067e4-b618-474f-e353-f8db83371230"
   },
   "outputs": [
    {
     "name": "stdout",
     "output_type": "stream",
     "text": [
      "25  is more than 20\n",
      "12  is less than 20\n",
      "8  is less than 20\n",
      "7  is less than 20\n",
      "21  is more than 20\n",
      "35  is more than 20\n",
      "50  is more than 20\n",
      "96  is more than 20\n",
      "102  is more than 20\n"
     ]
    }
   ],
   "source": [
    "x= [25,12,8,7,21,35,50,96,102]\n",
    "for i in range (len(x)):\n",
    "    if (x[i]<20):\n",
    "        print (x[i],' is less than 20')\n",
    "    else:\n",
    "        print (x[i],' is more than 20')"
   ]
  },
  {
   "cell_type": "code",
   "execution_count": 0,
   "metadata": {
    "colab": {},
    "colab_type": "code",
    "id": "9BCz1yGw8BZK",
    "outputId": "132dff04-2103-4d99-9681-0e08fcfbcc3c"
   },
   "outputs": [
    {
     "name": "stdout",
     "output_type": "stream",
     "text": [
      "12\n"
     ]
    }
   ],
   "source": [
    "x = 'refrigerator'\n",
    "counter = 0\n",
    "for i in x:\n",
    "    counter += 1\n",
    "print (counter)"
   ]
  },
  {
   "cell_type": "code",
   "execution_count": 0,
   "metadata": {
    "colab": {},
    "colab_type": "code",
    "id": "wVeykmBF8BZO",
    "outputId": "cfeae1f9-1643-40a7-fb30-97324b8a15e7"
   },
   "outputs": [
    {
     "name": "stdout",
     "output_type": "stream",
     "text": [
      "abc the length is 3\n",
      "in the length is 2\n",
      "abcd the length is 4\n",
      "pqrst the length is 5\n",
      "uvwxyz the length is 6\n"
     ]
    }
   ],
   "source": [
    "r = ['abc','in','abcd','pqrst','uvwxyz']\n",
    "for i in r:\n",
    "    print (i, 'the length is', len(i) )\n"
   ]
  },
  {
   "cell_type": "code",
   "execution_count": 0,
   "metadata": {
    "colab": {},
    "colab_type": "code",
    "id": "lztJGh8j8BZS",
    "outputId": "71a9a663-7fc3-4bf7-f818-4461a7123e86"
   },
   "outputs": [
    {
     "name": "stdout",
     "output_type": "stream",
     "text": [
      "5\n"
     ]
    }
   ],
   "source": [
    "x = 'refrigerator'\n",
    "counter = 0\n",
    "for i in x:\n",
    "    if i=='a' or i=='e' or i=='i' or i=='o' or i=='u':\n",
    "        counter += 1\n",
    "print (counter)"
   ]
  },
  {
   "cell_type": "code",
   "execution_count": 0,
   "metadata": {
    "colab": {},
    "colab_type": "code",
    "id": "C9meTuVi8BZX",
    "outputId": "2371fcc9-dc4c-47a5-dd72-6e8e2143582e"
   },
   "outputs": [
    {
     "name": "stdout",
     "output_type": "stream",
     "text": [
      "6\n",
      "3\n",
      "11\n"
     ]
    },
    {
     "data": {
      "text/plain": [
       "20"
      ]
     },
     "execution_count": 22,
     "metadata": {
      "tags": []
     },
     "output_type": "execute_result"
    }
   ],
   "source": [
    "x = 'I am learning python'\n",
    "y = x.lower()\n",
    "counter_1 = 0\n",
    "counter_2 = 0\n",
    "counter_3 = 0\n",
    "for i in y:\n",
    "    if i=='a' or i=='e' or i=='i' or i=='o' or i=='u' :\n",
    "        counter_1+=1\n",
    "    elif i == ' ':\n",
    "        counter_2+=1\n",
    "    else:\n",
    "        counter_3+=1\n",
    "print (counter_1)\n",
    "print (counter_2)\n",
    "print (counter_3)\n",
    "len(y)"
   ]
  },
  {
   "cell_type": "code",
   "execution_count": 0,
   "metadata": {
    "colab": {},
    "colab_type": "code",
    "id": "GKzxR0Jn8BZb",
    "outputId": "380d7a66-6505-4554-ad35-985ac343e992"
   },
   "outputs": [
    {
     "name": "stdout",
     "output_type": "stream",
     "text": [
      "c\n",
      "r\n",
      "i\n",
      "c\n",
      "k\n",
      "t\n"
     ]
    }
   ],
   "source": [
    "n = 'cricket'\n",
    "for i in n:\n",
    "    if i=='e':\n",
    "        continue\n",
    "    print(i)"
   ]
  },
  {
   "cell_type": "code",
   "execution_count": 12,
   "metadata": {
    "colab": {},
    "colab_type": "code",
    "id": "jgr2UqaT8BZf",
    "outputId": "84ab67ca-0afd-4993-9176-80923a8d099e"
   },
   "outputs": [
    {
     "name": "stdout",
     "output_type": "stream",
     "text": [
      "Hll, hv  gd dy\n"
     ]
    }
   ],
   "source": [
    "x =\"Hello, have a good day\"\n",
    "y=''\n",
    "for i in x:\n",
    "    if i!='a' and i!='e' and i!='i' and i!='o' and i!='u':\n",
    "        y +=i\n",
    "print (y)"
   ]
  },
  {
   "cell_type": "code",
   "execution_count": 25,
   "metadata": {
    "colab": {},
    "colab_type": "code",
    "id": "QPdqEP3E8BZo",
    "outputId": "d8dd838f-5e53-44eb-9648-6e7bbe4e4b8c"
   },
   "outputs": [
    {
     "name": "stdout",
     "output_type": "stream",
     "text": [
      "The biggest word is- Programming\n",
      "The smallest word is- I\n"
     ]
    }
   ],
   "source": [
    "a = \"I love Python Programming\"\n",
    "a = a.split()\n",
    "maxx = a[0]\n",
    "minn = a[0]\n",
    "max_len = len(a[0])\n",
    "min_len = len(a[0])\n",
    "for i in a:\n",
    "  if len(i)>max_len:\n",
    "    max_len = len(i)\n",
    "    maxx = i\n",
    "  else:\n",
    "    min_len = len(i)\n",
    "    minn = i\n",
    "print ('The biggest word is-', maxx)\n",
    "print ('The smallest word is-', minn)"
   ]
  },
  {
   "cell_type": "code",
   "execution_count": 34,
   "metadata": {
    "colab": {},
    "colab_type": "code",
    "id": "mhv1hMrY8BZs",
    "outputId": "e2e07e92-42c4-472a-8abd-42aa2e752663"
   },
   "outputs": [
    {
     "name": "stdout",
     "output_type": "stream",
     "text": [
      "mom is palindrome\n",
      "ccaacc is palindrome\n",
      "at is not palindrome\n",
      "the is not palindrome\n",
      "cbc is palindrome\n"
     ]
    }
   ],
   "source": [
    "x = ['mom','ccaacc','at','the','cbc']\n",
    "for i in x:\n",
    "    if i[0:]==i[::-1]:\n",
    "        print (i, 'is palindrome')\n",
    "    else:\n",
    "        print (i, 'is not palindrome')"
   ]
  },
  {
   "cell_type": "code",
   "execution_count": 0,
   "metadata": {
    "colab": {},
    "colab_type": "code",
    "id": "ltBaytp98BZz",
    "outputId": "58ffe25d-d1da-44ec-a08d-4d8d3c2e0600"
   },
   "outputs": [
    {
     "name": "stdout",
     "output_type": "stream",
     "text": [
      "reading\n",
      "feeding\n",
      "stringly\n",
      "at\n"
     ]
    }
   ],
   "source": [
    "a = ['read','feed','string','at']\n",
    "for i in a:\n",
    "    if (i.endswith('ing')):\n",
    "        y = i+'ly'\n",
    "        print (y)\n",
    "    elif (len(i)<3):\n",
    "        print (i)\n",
    "    else:\n",
    "        y = i+'ing'\n",
    "        print (y)"
   ]
  },
  {
   "cell_type": "code",
   "execution_count": 0,
   "metadata": {
    "colab": {},
    "colab_type": "code",
    "id": "OfsWqVR68BZ6",
    "outputId": "fb76b45c-f453-4542-ffe4-a04c9b392197"
   },
   "outputs": [
    {
     "name": "stdout",
     "output_type": "stream",
     "text": [
      "3\n",
      "5\n"
     ]
    }
   ],
   "source": [
    "y = [1,5,6,4,7,9,12,15]\n",
    "Even_counter = 0\n",
    "odd_counter = 0\n",
    "for i in y:\n",
    "    if (i%2==0):\n",
    "        Even_counter +=1\n",
    "    else:\n",
    "        odd_counter +=1\n",
    "        \n",
    "print (Even_counter)\n",
    "print (odd_counter)"
   ]
  },
  {
   "cell_type": "code",
   "execution_count": 40,
   "metadata": {
    "colab": {},
    "colab_type": "code",
    "id": "gfmPQc-W8BaA",
    "outputId": "aa7c3d17-9b48-4582-bbf3-95f0d91ca86b"
   },
   "outputs": [
    {
     "name": "stdout",
     "output_type": "stream",
     "text": [
      "* \n",
      "* * \n",
      "* * * \n",
      "* * * * \n",
      "* * * * * \n",
      "* * * * \n",
      "* * * \n",
      "* * \n",
      "* \n"
     ]
    }
   ],
   "source": [
    "x = '* '\n",
    "counter = 1\n",
    "while (counter<5):\n",
    "    print (x*counter)\n",
    "    counter+=1\n",
    "while (counter>0):\n",
    "    print (x*counter)\n",
    "    counter-=1\n"
   ]
  },
  {
   "cell_type": "code",
   "execution_count": 7,
   "metadata": {
    "colab": {},
    "colab_type": "code",
    "id": "0i9DyZrQ8BaF",
    "outputId": "ac433276-1748-48e8-a858-9bd8876afb98"
   },
   "outputs": [
    {
     "name": "stdout",
     "output_type": "stream",
     "text": [
      "  *\n",
      " ***\n",
      "*****\n",
      " ***\n",
      "  *\n"
     ]
    }
   ],
   "source": [
    "i = 1\n",
    "j = 2\n",
    "while i>=1:\n",
    "  a = \" \"*j+\"*\"*i\n",
    "  print (a)\n",
    "  i = i+2\n",
    "  j = j-1\n",
    "  if i>5:\n",
    "    break\n",
    "i = 3\n",
    "j = 1\n",
    "while i>=1:\n",
    "  a =  \" \"*j+\"*\"*i\n",
    "  print (a)\n",
    "  i = i-2\n",
    "  j = j+1"
   ]
  },
  {
   "cell_type": "code",
   "execution_count": 0,
   "metadata": {
    "colab": {},
    "colab_type": "code",
    "id": "3LreZOs68BaK",
    "outputId": "0293baf2-8c93-4142-fb6f-ae139bab6077"
   },
   "outputs": [
    {
     "name": "stdout",
     "output_type": "stream",
     "text": [
      "Avg is  5.5\n"
     ]
    }
   ],
   "source": [
    "x = [1,2,3,4,5,6,7,8,9,10]\n",
    "y=0\n",
    "for i in x:\n",
    "    y+=i\n",
    "print('Avg is ' , y/len(x))"
   ]
  },
  {
   "cell_type": "code",
   "execution_count": 0,
   "metadata": {
    "colab": {},
    "colab_type": "code",
    "id": "wT71qmKg8BaP",
    "outputId": "083d7e5f-00b4-42c4-9487-539d9fa57fdd"
   },
   "outputs": [
    {
     "name": "stdout",
     "output_type": "stream",
     "text": [
      "give the number to know its multiplication table upto 107\n",
      "7*1=7\n",
      "7*2=14\n",
      "7*3=21\n",
      "7*4=28\n",
      "7*5=35\n",
      "7*6=42\n",
      "7*7=49\n",
      "7*8=56\n",
      "7*9=63\n",
      "7*10=70\n"
     ]
    }
   ],
   "source": [
    "x = int(input('give the number to know its multiplication table upto 10'))\n",
    "for i in range(1,11):\n",
    "    k=x*i\n",
    "    print ('{}*{}={}'.format(x,i,k))"
   ]
  },
  {
   "cell_type": "code",
   "execution_count": 0,
   "metadata": {
    "colab": {},
    "colab_type": "code",
    "id": "qKUb-P4O8BaU",
    "outputId": "32baf3ea-3f62-46c6-f5cc-b0ce351bdbe4"
   },
   "outputs": [
    {
     "name": "stdout",
     "output_type": "stream",
     "text": [
      "give the number to calculate its factorial 8\n",
      "40320\n"
     ]
    }
   ],
   "source": [
    "#6*5*4*3*2*1\n",
    "x = int(input('give the number to calculate its factorial '))\n",
    "y=x\n",
    "while (x>1):\n",
    "    x-=1\n",
    "    y*=x\n",
    "print(y)"
   ]
  },
  {
   "cell_type": "code",
   "execution_count": 10,
   "metadata": {
    "colab": {},
    "colab_type": "code",
    "id": "N_ZahsSL8BaY",
    "outputId": "adc47ae8-a33c-47a8-9bf7-52dc8740eeec"
   },
   "outputs": [
    {
     "name": "stdout",
     "output_type": "stream",
     "text": [
      "0 its an armstrong no.\n",
      "1 its an armstrong no.\n",
      "153 its an armstrong no.\n",
      "370 its an armstrong no.\n",
      "371 its an armstrong no.\n",
      "407 its an armstrong no.\n"
     ]
    }
   ],
   "source": [
    "# x = '153'\n",
    "for j in range (0,500):\n",
    "    y=0\n",
    "    j=str(j)\n",
    "    for i in j:\n",
    "        y+=int(i)**3\n",
    "    if (str(y)==j):\n",
    "        print (j, 'its an armstrong no.')"
   ]
  },
  {
   "cell_type": "code",
   "execution_count": 0,
   "metadata": {
    "colab": {},
    "colab_type": "code",
    "id": "XkvS37Md8Bab",
    "outputId": "30efcd3a-3b81-4670-8231-b8b336ba73d9"
   },
   "outputs": [
    {
     "name": "stdout",
     "output_type": "stream",
     "text": [
      "[8, 10, 11, 13, 15, 16, 17, 20, 22, 23, 30]\n",
      "16\n"
     ]
    }
   ],
   "source": [
    "x = [8,10,15,20,11,17,30,22,13,16,23]\n",
    "x.sort()\n",
    "print (x)\n",
    "if (len (x)%2==0):\n",
    "    i = int(len(x)/2)\n",
    "    j = i+1\n",
    "    print ((x[i]+x[j])/2)\n",
    "else :\n",
    "    i = len(x)//2\n",
    "    print (x[i])\n",
    "    \n",
    "        "
   ]
  },
  {
   "cell_type": "code",
   "execution_count": 0,
   "metadata": {
    "colab": {},
    "colab_type": "code",
    "id": "cX1BvDyd8Bae",
    "outputId": "6328e65d-0b48-4d29-dcac-e06d47bfb2fa"
   },
   "outputs": [
    {
     "name": "stdout",
     "output_type": "stream",
     "text": [
      "  ***  \n",
      "*     *\n",
      "*     *\n",
      "*     *\n",
      "*     *\n",
      "*     *\n",
      "  ***  \n"
     ]
    }
   ],
   "source": [
    "x = '*'\n",
    "for i in range (0,7):\n",
    "    if (i==0 or i==6):\n",
    "        print ('  '+x*3+'  ')\n",
    "    else:\n",
    "        print (x+'     '+x)"
   ]
  },
  {
   "cell_type": "code",
   "execution_count": 0,
   "metadata": {
    "colab": {},
    "colab_type": "code",
    "id": "t--NI9p98Bah",
    "outputId": "6b9de024-e7e0-4f41-c486-d572bbaf139c"
   },
   "outputs": [
    {
     "name": "stdout",
     "output_type": "stream",
     "text": [
      "['gnirts', 'regetni', 'taolf', 'naeloob']\n"
     ]
    }
   ],
   "source": [
    "x = ['string','integer','float','boolean']\n",
    "y = []\n",
    "for i in x:\n",
    "    y.append(i[::-1])\n",
    "print (y)"
   ]
  },
  {
   "cell_type": "code",
   "execution_count": 0,
   "metadata": {
    "colab": {},
    "colab_type": "code",
    "id": "eZDeMlxm8Bam",
    "outputId": "e8392f52-ac5e-4b65-b35c-d2abb9dd248f"
   },
   "outputs": [
    {
     "name": "stdout",
     "output_type": "stream",
     "text": [
      "1\n",
      "1\n",
      "2\n",
      "3\n",
      "5\n",
      "8\n",
      "13\n"
     ]
    }
   ],
   "source": [
    "a = 0\n",
    "b = 1\n",
    "\n",
    "for i in range (0,7):\n",
    "    temp = a\n",
    "    a = b\n",
    "    b = temp+b\n",
    "    print (a)"
   ]
  },
  {
   "cell_type": "code",
   "execution_count": 0,
   "metadata": {
    "colab": {},
    "colab_type": "code",
    "id": "AjGt1z2z8Bat",
    "outputId": "8e459d7a-3bda-4b3f-bf0c-f42b86d51724"
   },
   "outputs": [
    {
     "name": "stdout",
     "output_type": "stream",
     "text": [
      "2  is a prime number\n",
      "3  is a prime number\n",
      "5  is a prime number\n",
      "7  is a prime number\n",
      "11  is a prime number\n",
      "13  is a prime number\n"
     ]
    }
   ],
   "source": [
    "for i in range(2,15):\n",
    "    counter = 0\n",
    "    for j in range(2,i):\n",
    "        if (i%j == 0):\n",
    "            counter = 1\n",
    "    if (counter==0):\n",
    "        print (i, ' is a prime number')\n"
   ]
  },
  {
   "cell_type": "code",
   "execution_count": 0,
   "metadata": {
    "colab": {},
    "colab_type": "code",
    "id": "_u9lBZJC8Baz",
    "outputId": "5e964d6e-f878-497e-ff7a-1649d57ad6d1"
   },
   "outputs": [
    {
     "name": "stdout",
     "output_type": "stream",
     "text": [
      "  ***  \n",
      "*     *\n",
      "*     *\n",
      "*     *\n",
      "*******\n",
      "*     *\n",
      "*     *\n",
      "*     *\n",
      "*     *\n"
     ]
    }
   ],
   "source": [
    "for i in range (0,9):\n",
    "    if i==0:\n",
    "        print ('  '+'***'+'  ')\n",
    "    elif i == 4:\n",
    "        print ('*******')\n",
    "    else:\n",
    "        print('*'+'     '+'*')"
   ]
  },
  {
   "cell_type": "code",
   "execution_count": 11,
   "metadata": {
    "colab": {},
    "colab_type": "code",
    "id": "Woir9RZs8Ba7",
    "outputId": "a62dcecb-1b28-4f63-c28d-5c3aef242999"
   },
   "outputs": [
    {
     "name": "stdout",
     "output_type": "stream",
     "text": [
      "enter Q to quit w\n",
      "enter Q to quit w\n",
      "enter Q to quit w\n",
      "enter Q to quit w\n",
      "enter Q to quit w\n",
      "enter Q to quit q\n"
     ]
    }
   ],
   "source": [
    "while True:\n",
    "    x = input('enter Q to quit ')\n",
    "    if x=='q' or x == 'Q':\n",
    "        break\n",
    "   "
   ]
  },
  {
   "cell_type": "code",
   "execution_count": 0,
   "metadata": {
    "colab": {},
    "colab_type": "code",
    "id": "Cdw8PtiQ8BbF"
   },
   "outputs": [],
   "source": [
    "for i in range(2000,3000):\n",
    "    if i%7==0:\n",
    "        if i%5!=0:\n",
    "            print (i)"
   ]
  },
  {
   "cell_type": "code",
   "execution_count": 0,
   "metadata": {
    "colab": {},
    "colab_type": "code",
    "id": "VmOKQcJm8BbJ",
    "outputId": "bc59638e-efd2-46ab-bf74-549850782c93"
   },
   "outputs": [
    {
     "name": "stdout",
     "output_type": "stream",
     "text": [
      "4\n",
      "10\n",
      "2\n"
     ]
    }
   ],
   "source": [
    "x = 'hello world 1234'\n",
    "char_ =0\n",
    "dig_ =0\n",
    "spc_ =0\n",
    "for i in x:\n",
    "    if i.isdigit():\n",
    "        dig_ += 1 \n",
    "    elif i.isalpha():\n",
    "        char_ += 1\n",
    "    else:\n",
    "        spc_ += 1\n",
    "print (dig_)\n",
    "print (char_)\n",
    "print (spc_)\n"
   ]
  },
  {
   "cell_type": "code",
   "execution_count": 0,
   "metadata": {
    "colab": {},
    "colab_type": "code",
    "id": "I8jv1IeY8BbM",
    "outputId": "c8b64bd1-a472-411b-af67-4cae341c2f8a"
   },
   "outputs": [
    {
     "name": "stdout",
     "output_type": "stream",
     "text": [
      "['John', 'Smith', 'Michael', 'David', 'Abrahm', 'Nicola']\n"
     ]
    }
   ],
   "source": [
    "x = ['john','smith','michael','david','abrahm','nicola']\n",
    "y = []\n",
    "for i in x:\n",
    "    y.append(i[0].upper()+i[1:])\n",
    "print (y)"
   ]
  },
  {
   "cell_type": "code",
   "execution_count": 0,
   "metadata": {
    "colab": {},
    "colab_type": "code",
    "id": "PQEyRdPs8BbP",
    "outputId": "7de0bb18-4acf-43f0-9305-a8e0ce13423d"
   },
   "outputs": [
    {
     "name": "stdout",
     "output_type": "stream",
     "text": [
      "****\n",
      "*    *\n",
      "*    *\n",
      "*    *\n",
      "*    *\n",
      "*    *\n",
      "*    *\n",
      "****\n"
     ]
    }
   ],
   "source": [
    "for i in range (0,8):\n",
    "    if i == 0 or i ==7:\n",
    "        print ('****')\n",
    "    else:\n",
    "        print ('*    *')\n"
   ]
  },
  {
   "cell_type": "code",
   "execution_count": 0,
   "metadata": {
    "colab": {},
    "colab_type": "code",
    "id": "hSn021eI8BbW",
    "outputId": "fad79868-f2d7-427f-e240-3539d5877225"
   },
   "outputs": [
    {
     "name": "stdout",
     "output_type": "stream",
     "text": [
      "{'Banett': 24, 'Rose': 29, 'Clare': 20}\n"
     ]
    }
   ],
   "source": [
    "x = ['Banett','Rose','Clare']\n",
    "y = [24,29,20]\n",
    "z= {}\n",
    "for i in range (len(x)):\n",
    "    z[x[i]]=y[i]\n",
    "    \n",
    "print (z)\n"
   ]
  },
  {
   "cell_type": "code",
   "execution_count": 0,
   "metadata": {
    "colab": {},
    "colab_type": "code",
    "id": "NBLMEZjV8Bbb",
    "outputId": "5d370de7-2363-4466-cbbe-292e9eff063b"
   },
   "outputs": [
    {
     "name": "stdout",
     "output_type": "stream",
     "text": [
      "*******\n",
      "      *\n",
      "     *\n",
      "    *\n",
      "   *\n",
      "  *\n",
      " *\n",
      "*******\n"
     ]
    }
   ],
   "source": [
    "i=7\n",
    "y= ' '\n",
    "while i>=0:\n",
    "    if (i==0 or i==7):\n",
    "        print ('*******')\n",
    "        i-=1\n",
    "    else:\n",
    "        print(y*i+'*')\n",
    "        i-=1"
   ]
  },
  {
   "cell_type": "code",
   "execution_count": 13,
   "metadata": {
    "colab": {},
    "colab_type": "code",
    "id": "QBQgAqvu8Bbg",
    "outputId": "0ae69c6f-f7c8-49f0-9fa5-496f4e413851"
   },
   "outputs": [
    {
     "name": "stdout",
     "output_type": "stream",
     "text": [
      "['a', 'is', 'the', 'when', 'right', 'heaven']\n"
     ]
    }
   ],
   "source": [
    "x = ['right','a','heaven','is','when','the']\n",
    "y = []\n",
    "for i in range(len(x)):\n",
    "    for j in x:\n",
    "        if (len(j)==i+1):\n",
    "            y.append(j)\n",
    "print (y)"
   ]
  },
  {
   "cell_type": "code",
   "execution_count": 0,
   "metadata": {
    "colab": {},
    "colab_type": "code",
    "id": "Pz1zTSK78Bbj",
    "outputId": "22fa9ded-56e1-44b0-fe46-02c3f882fbef"
   },
   "outputs": [
    {
     "name": "stdout",
     "output_type": "stream",
     "text": [
      "agmoprr\n"
     ]
    }
   ],
   "source": [
    "t= 'program'\n",
    "n = []\n",
    "for i in t:\n",
    "    n.append(i)\n",
    "n.sort()\n",
    "m = ''.join(n)\n",
    "print (m)"
   ]
  }
 ],
 "metadata": {
  "colab": {
   "name": "Python conditional st and Loops .ipynb",
   "provenance": []
  },
  "kernelspec": {
   "display_name": "Python 3",
   "language": "python",
   "name": "python3"
  },
  "language_info": {
   "codemirror_mode": {
    "name": "ipython",
    "version": 3
   },
   "file_extension": ".py",
   "mimetype": "text/x-python",
   "name": "python",
   "nbconvert_exporter": "python",
   "pygments_lexer": "ipython3",
   "version": "3.7.4"
  }
 },
 "nbformat": 4,
 "nbformat_minor": 1
}
