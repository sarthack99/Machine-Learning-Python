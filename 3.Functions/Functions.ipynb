{
 "cells": [
  {
   "cell_type": "markdown",
   "metadata": {
    "colab_type": "text",
    "id": "Uu1VEEGjnZG0"
   },
   "source": [
    "## Functions:"
   ]
  },
  {
   "cell_type": "markdown",
   "metadata": {
    "colab_type": "text",
    "id": "H0jcSdE-nZG3"
   },
   "source": [
    "#### What is a function:"
   ]
  },
  {
   "cell_type": "markdown",
   "metadata": {
    "colab_type": "text",
    "id": "S5XyY7JanZG4"
   },
   "source": [
    "A fuction is a block of code use to perform specific action. It provides code reusability."
   ]
  },
  {
   "cell_type": "markdown",
   "metadata": {
    "colab_type": "text",
    "id": "ejDnxhe-nZG5"
   },
   "source": [
    "#### Creating a function:"
   ]
  },
  {
   "cell_type": "code",
   "execution_count": 2,
   "metadata": {
    "colab": {},
    "colab_type": "code",
    "id": "h2o7kySZnZG7"
   },
   "outputs": [],
   "source": [
    "#Creating a simple print function\n",
    "def print_(x):\n",
    "    print (x)\n",
    "\n",
    "#'def' is a keyword that is used to define a function. This is followed by the function name and parenthesis().\n",
    "#The input parameters or arguments are placed inside this parenthesis.\n",
    "#The first statement of a function can be optional : the document string or doc string describing the function.\n",
    "#A function may return some value or may not return anything."
   ]
  },
  {
   "cell_type": "markdown",
   "metadata": {
    "colab_type": "text",
    "id": "_pPyhJEFnZHA"
   },
   "source": [
    "#### Calling a function:"
   ]
  },
  {
   "cell_type": "code",
   "execution_count": 3,
   "metadata": {
    "colab": {},
    "colab_type": "code",
    "id": "4n-3cHLMnZHC",
    "outputId": "74eb3e94-3710-4375-d91b-afbad0c7edba"
   },
   "outputs": [
    {
     "name": "stdout",
     "output_type": "stream",
     "text": [
      "hello world\n"
     ]
    }
   ],
   "source": [
    "#For calling a function, we use function name and pass the required arguments in the parenthesis for eg: for calling \n",
    "#above function we will use:\n",
    "print_('hello world')"
   ]
  },
  {
   "cell_type": "markdown",
   "metadata": {
    "colab_type": "text",
    "id": "ap9eOVyjnZHI"
   },
   "source": [
    "#### Difference between print and return"
   ]
  },
  {
   "cell_type": "markdown",
   "metadata": {
    "colab_type": "text",
    "id": "713j3NtqnZHJ"
   },
   "source": [
    "A print statement is just used to give status of the code while debugging. It just prints the message that user defines. we cannot use the print value later on. Its just a message.\n",
    "\n",
    "A return statment in function is used to return the value after the function is excuted and this value can be used in the other operations or functions. A function may or may not return the value. for eg:"
   ]
  },
  {
   "cell_type": "code",
   "execution_count": 4,
   "metadata": {
    "colab": {},
    "colab_type": "code",
    "id": "0aYy4we4nZHL",
    "outputId": "f48ce1d6-b149-45d3-f99f-485266e22710"
   },
   "outputs": [
    {
     "data": {
      "text/plain": [
       "17"
      ]
     },
     "execution_count": 4,
     "metadata": {},
     "output_type": "execute_result"
    }
   ],
   "source": [
    "def add_(a,b):\n",
    "    return (a+b)\n",
    "c = add_(3,4)\n",
    "c + 10"
   ]
  },
  {
   "cell_type": "code",
   "execution_count": 5,
   "metadata": {
    "colab": {},
    "colab_type": "code",
    "id": "kdvBz70RnZHQ",
    "outputId": "771c841c-1724-44b1-8bda-9f7f504afcc2"
   },
   "outputs": [
    {
     "name": "stdout",
     "output_type": "stream",
     "text": [
      "7\n"
     ]
    }
   ],
   "source": [
    "def add_(a,b):\n",
    "    print (a+b)\n",
    "c = add_(3,4)\n",
    "#A function with no return, returns none."
   ]
  },
  {
   "cell_type": "markdown",
   "metadata": {
    "colab_type": "text",
    "id": "_XdwjwzYnZHU"
   },
   "source": [
    "#### Difference between Global and Local Variables:"
   ]
  },
  {
   "cell_type": "code",
   "execution_count": null,
   "metadata": {
    "colab": {},
    "colab_type": "code",
    "id": "lHlCOqr1nZHW"
   },
   "outputs": [],
   "source": [
    "#Will try to understand this difference by looking at the below example."
   ]
  },
  {
   "cell_type": "markdown",
   "metadata": {
    "colab_type": "text",
    "id": "mqft7J4TnZHa"
   },
   "source": [
    "A local variable is defining the variable within the function itself. This local varible will not be accessed by \n",
    "any other function outside it . Whereas the global variable is defining the variable globally so that it can be accessed by all the functions. Will create two functions and define the same variable locally."
   ]
  },
  {
   "cell_type": "code",
   "execution_count": 8,
   "metadata": {
    "colab": {},
    "colab_type": "code",
    "id": "utHL8zDAnZHb",
    "outputId": "63d120ff-7e56-41ed-f9fb-a0df89ad13f5"
   },
   "outputs": [
    {
     "name": "stdout",
     "output_type": "stream",
     "text": [
      "[0, 1, 2, 3, 4]\n",
      "[10, 11, 12, 13, 14]\n"
     ]
    }
   ],
   "source": [
    "#Defining Locally: 'b' is the variable that is defined in both the function locally that is within the function and\n",
    "#hence while appending values in 'b' in one function wont change the value of the other. \n",
    "def func_A():\n",
    "    b = []\n",
    "    for i in range (0,5):\n",
    "        b.append(i)\n",
    "    print (b)\n",
    "\n",
    "def func_B():\n",
    "    b = []\n",
    "    for i in range (10,15):\n",
    "        b.append(i)\n",
    "    print (b)\n",
    "\n",
    "func_A()\n",
    "func_B()"
   ]
  },
  {
   "cell_type": "code",
   "execution_count": 9,
   "metadata": {
    "colab": {},
    "colab_type": "code",
    "id": "bKRyB0xmnZHg",
    "outputId": "55a5901f-62ea-4d7e-d447-fe408e971d9b"
   },
   "outputs": [
    {
     "name": "stdout",
     "output_type": "stream",
     "text": [
      "[0, 1, 2, 3, 4]\n",
      "[0, 1, 2, 3, 4, 10, 11, 12, 13, 14]\n"
     ]
    }
   ],
   "source": [
    "#Defining globally: 'c' is the variable that is defined globally and hence any function can have access to it and it \n",
    "#modifies the value of 'c'. Will create the same function as above but declare the variable globally that is outside of\n",
    "#the function\n",
    "c = []\n",
    "def func_X():\n",
    "    for i in range (0,5):\n",
    "        c.append(i)\n",
    "    print (c)\n",
    "\n",
    "def func_Y():\n",
    "    for i in range (10,15):\n",
    "        c.append(i)\n",
    "    print (c)\n",
    "\n",
    "func_X()\n",
    "func_Y()"
   ]
  },
  {
   "cell_type": "markdown",
   "metadata": {
    "colab_type": "text",
    "id": "C6O6Q37jnZHl"
   },
   "source": [
    "#### Function Arguments:"
   ]
  },
  {
   "cell_type": "markdown",
   "metadata": {
    "colab_type": "text",
    "id": "qp0CljHInZHn"
   },
   "source": [
    "Arguments types can be :\n",
    "1) Required arguments\n",
    "2) Keyword arguments\n",
    "3) Default arguments\n",
    "4) Variable length arguments"
   ]
  },
  {
   "cell_type": "markdown",
   "metadata": {
    "colab_type": "text",
    "id": "bO45VzgAnZHo"
   },
   "source": [
    "###### Required arguments:"
   ]
  },
  {
   "cell_type": "markdown",
   "metadata": {
    "colab_type": "text",
    "id": "xm9v_ehJnZHr"
   },
   "source": [
    "Required arguments are the arguments that are required by the function for its execution else it will throw an error\n",
    "even if one of the argument is missing. This is also called as positional arguments as the arguments are needed to be passed in correct order. for eg:"
   ]
  },
  {
   "cell_type": "code",
   "execution_count": 10,
   "metadata": {
    "colab": {},
    "colab_type": "code",
    "id": "PBGN4eHnnZHs",
    "outputId": "64c6fecd-7d0a-41e4-e3a5-b1e28a7152a3"
   },
   "outputs": [
    {
     "data": {
      "text/plain": [
       "'my name is mike and my age is 25'"
      ]
     },
     "execution_count": 10,
     "metadata": {},
     "output_type": "execute_result"
    }
   ],
   "source": [
    "def info_R(x,y):\n",
    "    return ('my name is {} and my age is {}'.format(x,y))\n",
    "info_R('mike',25)"
   ]
  },
  {
   "cell_type": "markdown",
   "metadata": {
    "colab_type": "text",
    "id": "ZJdoYFsYnZHw"
   },
   "source": [
    "###### Keyword arguments:"
   ]
  },
  {
   "cell_type": "markdown",
   "metadata": {
    "colab_type": "text",
    "id": "jiyvnYkGnZHy"
   },
   "source": [
    "In case of keyword argument the arguments are identified by the parameter name. So this allows us to place arguments in any order as interpreter is going to use keywords to identify the match."
   ]
  },
  {
   "cell_type": "code",
   "execution_count": null,
   "metadata": {
    "colab": {},
    "colab_type": "code",
    "id": "tk8HsEAWnZHz",
    "outputId": "7df86916-26fd-45da-d1ac-1a9e48e4a0f3"
   },
   "outputs": [],
   "source": [
    "def info_K(x,y):\n",
    "    return ('my name is {} and my age is {}'.format(x,y))\n",
    "info_K(y = 25,x = 'mike')"
   ]
  },
  {
   "cell_type": "markdown",
   "metadata": {
    "colab_type": "text",
    "id": "wubmfQB0nZH3"
   },
   "source": [
    "###### Default arguments:"
   ]
  },
  {
   "cell_type": "markdown",
   "metadata": {
    "colab_type": "text",
    "id": "CjuwKq2znZH4"
   },
   "source": [
    "Default arguments assumes a default value if some value is not provided during the function call for that argument. for eg:"
   ]
  },
  {
   "cell_type": "code",
   "execution_count": null,
   "metadata": {
    "colab": {},
    "colab_type": "code",
    "id": "UVwtoKsDnZH6",
    "outputId": "ce626c6c-9d53-4441-c659-9302fae00a08"
   },
   "outputs": [],
   "source": [
    "def info_D(x,y=30):\n",
    "    return ('my name is {} and my age is {}'.format(x,y))\n",
    "info_D(x = 'mike')"
   ]
  },
  {
   "cell_type": "markdown",
   "metadata": {
    "colab_type": "text",
    "id": "YuO89XaenZH-"
   },
   "source": [
    "###### Variable Length arguments:"
   ]
  },
  {
   "cell_type": "markdown",
   "metadata": {
    "colab_type": "text",
    "id": "uvSO9HeKnZH_"
   },
   "source": [
    "When we dont know the actual number of arguments then we use variable length arguments. This is defined by placing an astric * before the variable name."
   ]
  },
  {
   "cell_type": "code",
   "execution_count": 11,
   "metadata": {
    "colab": {},
    "colab_type": "code",
    "id": "6-dc4cLRnZIA",
    "outputId": "778d1c32-c6f6-4270-80a4-5f3814cfe1c5"
   },
   "outputs": [
    {
     "name": "stdout",
     "output_type": "stream",
     "text": [
      "10  is less than 20\n",
      "12  is less than 20\n",
      "19  is less than 20\n",
      "25  is greater than 20\n",
      "26  is greater than 20\n",
      "13  is less than 20\n",
      "16  is less than 20\n"
     ]
    }
   ],
   "source": [
    "def info_V(*x):\n",
    "    for i in x:\n",
    "        if i < 20:\n",
    "            print (i,' is less than 20')\n",
    "        else:\n",
    "            print (i,' is greater than 20')\n",
    "info_V(10,12,19,25,26,13,16)"
   ]
  },
  {
   "cell_type": "markdown",
   "metadata": {
    "colab_type": "text",
    "id": "RgBz3GbanZIF"
   },
   "source": [
    "###### Lambda Function:"
   ]
  },
  {
   "cell_type": "markdown",
   "metadata": {
    "colab_type": "text",
    "id": "CFv_abnsnZIG"
   },
   "source": [
    "Lambda function are defined by writing lambda. It takes any number of arguments but return a single value after evaluating an expression. They have their own local space of variables also they can access variables that are defined globally."
   ]
  },
  {
   "cell_type": "code",
   "execution_count": 12,
   "metadata": {
    "colab": {},
    "colab_type": "code",
    "id": "H5OHsRaFnZIH",
    "outputId": "4454d118-35f4-4874-9312-c4d41794047c"
   },
   "outputs": [
    {
     "data": {
      "text/plain": [
       "80.0"
      ]
     },
     "execution_count": 12,
     "metadata": {},
     "output_type": "execute_result"
    }
   ],
   "source": [
    "lam = lambda x,y,z : x/y*z\n",
    "lam (20,25,100)"
   ]
  },
  {
   "cell_type": "markdown",
   "metadata": {
    "colab_type": "text",
    "id": "2vOaCezYnZIL"
   },
   "source": [
    "###### Map operator with functions:"
   ]
  },
  {
   "cell_type": "markdown",
   "metadata": {
    "colab_type": "text",
    "id": "0pa1u5PVnZIN"
   },
   "source": [
    "While executing a function, when a function reaches the 'return' keyword it terminates and executes the next line after that.for eg"
   ]
  },
  {
   "cell_type": "code",
   "execution_count": 13,
   "metadata": {
    "colab": {},
    "colab_type": "code",
    "id": "t3-LAitynZIP",
    "outputId": "72d2d654-f849-4e03-ce7f-fde60a912776"
   },
   "outputs": [
    {
     "name": "stdout",
     "output_type": "stream",
     "text": [
      "0\n",
      "continue from here\n"
     ]
    }
   ],
   "source": [
    "def loop_():\n",
    "    for i in range (0,5):\n",
    "        return (i)\n",
    "x = loop_()\n",
    "print (x)\n",
    "print ('continue from here')\n",
    "#Above I have created a for loop, when I call this function, the function only executes once and returns '0', which I stored\n",
    "#in x and printed."
   ]
  },
  {
   "cell_type": "markdown",
   "metadata": {
    "colab_type": "text",
    "id": "EM9BDf5jnZIV"
   },
   "source": [
    "In order to run this function over a iterator like list, array etc. we use 'map' operator as:"
   ]
  },
  {
   "cell_type": "code",
   "execution_count": 3,
   "metadata": {
    "colab": {},
    "colab_type": "code",
    "id": "902BpbRgnZIX",
    "outputId": "bc8f754b-cd90-4956-e5e0-b52c92246aa9"
   },
   "outputs": [
    {
     "name": "stdout",
     "output_type": "stream",
     "text": [
      "[1.0, 0.5, 0.3333333333333333, 0.25, 0.2]\n"
     ]
    }
   ],
   "source": [
    "def rev (x):\n",
    "    rev = 1/int(x)\n",
    "    return rev\n",
    "reversal = [1,2,3,4,5]\n",
    "y = []\n",
    "for i in map(rev,reversal):\n",
    "    y.append(i)\n",
    "print (y)\n",
    "#Above we have created a function that that reverses the given parameter, then we have used the map operator to run this \n",
    "#function over an iterator."
   ]
  },
  {
   "cell_type": "code",
   "execution_count": 15,
   "metadata": {
    "colab": {},
    "colab_type": "code",
    "id": "dAFJlOwUnZIk",
    "outputId": "20ebbdc5-791b-43c0-9e04-3cd10be55a7f"
   },
   "outputs": [
    {
     "name": "stdout",
     "output_type": "stream",
     "text": [
      "['abc', 'pqr', 'xyz']\n"
     ]
    }
   ],
   "source": [
    "#Another example:\n",
    "def strip_ (x):\n",
    "    s = x.strip()\n",
    "    return s\n",
    "strip = ['  abc','  pqr   ','xyz      ']\n",
    "z = []\n",
    "for i in map(strip_, strip):\n",
    "    z.append(i)\n",
    "print (z)\n",
    "#Above we have created a function that takes the uncleaned data and removes the unwanted spaces and appends the clean data\n",
    "#in new list z. we have used the 'map' operator on an iterator"
   ]
  },
  {
   "cell_type": "markdown",
   "metadata": {
    "colab_type": "text",
    "id": "h3QEdHR3nZIp"
   },
   "source": [
    "###### Generators in function:"
   ]
  },
  {
   "cell_type": "markdown",
   "metadata": {
    "colab_type": "text",
    "id": "RjkEXCAOnZIr"
   },
   "source": [
    "The difference between return and yield, while a return statement terminates a function entirely, yield statement pauses the function saving all its states and later continues from there on successive calls."
   ]
  },
  {
   "cell_type": "code",
   "execution_count": 16,
   "metadata": {
    "colab": {},
    "colab_type": "code",
    "id": "-26LhpdNnZIs",
    "outputId": "3d3a9f65-e41c-49c5-d68e-333b45316dcb"
   },
   "outputs": [
    {
     "name": "stdout",
     "output_type": "stream",
     "text": [
      "0\n",
      "1\n",
      "2\n",
      "3\n",
      "4\n"
     ]
    }
   ],
   "source": [
    "def gen():\n",
    "    for i in range(0,5):\n",
    "        yield (i)\n",
    "        \n",
    "for j in gen():\n",
    "    print (j)\n",
    "#When function call reaches yield, it pauses there and returns the call back again from top."
   ]
  },
  {
   "cell_type": "markdown",
   "metadata": {
    "colab_type": "text",
    "id": "qfuJFovdnZIw"
   },
   "source": [
    "###### Filter in function:"
   ]
  },
  {
   "cell_type": "markdown",
   "metadata": {
    "colab_type": "text",
    "id": "r_EpLV0FnZIy"
   },
   "source": [
    "If we want to filter out a iterator based on some condition. It genrally tests each element of a sequence whether it satisfies the condition or not and returns the elements that satisfies the condition"
   ]
  },
  {
   "cell_type": "code",
   "execution_count": 3,
   "metadata": {
    "colab": {},
    "colab_type": "code",
    "id": "p_bVvgwnnZIz",
    "outputId": "7da81553-1830-40f6-b544-e8704e30ed87"
   },
   "outputs": [
    {
     "name": "stdout",
     "output_type": "stream",
     "text": [
      "e\n",
      "i\n",
      "u\n",
      "a\n",
      "o\n"
     ]
    }
   ],
   "source": [
    "def filt_(x):\n",
    "    vowel = ['a','e','i','o','u']\n",
    "    if x in vowel:\n",
    "        return True\n",
    "    else:\n",
    "        return False\n",
    "y= ['r', 'e', 'f', 'r', 'i', 'g', 'u', 'r', 'a', 't', 'o', 'r']\n",
    "filtered = filter (filt_,y)\n",
    "for i in filtered:\n",
    "    print (i)\n",
    "#In the above function the given iterator is being filtered based on the condition whether the characters in it are vowels\n",
    "#or not"
   ]
  },
  {
   "cell_type": "markdown",
   "metadata": {
    "colab_type": "text",
    "id": "2B6gy-lznZI2"
   },
   "source": [
    "###### Practise Exercise:"
   ]
  },
  {
   "cell_type": "code",
   "execution_count": null,
   "metadata": {
    "colab": {},
    "colab_type": "code",
    "id": "_PcN5xP6nZI3",
    "outputId": "ded0d741-e915-4b59-e1d4-bebf8137bbc3"
   },
   "outputs": [],
   "source": [
    "# create a function that prints the string given as an argument\n",
    "def str_(x):\n",
    "    print (x)\n",
    "str_('demo function')"
   ]
  },
  {
   "cell_type": "code",
   "execution_count": null,
   "metadata": {
    "colab": {},
    "colab_type": "code",
    "id": "Y5PUOCRFnZI7",
    "outputId": "871175a2-b38c-4756-9818-80c1317a4f9c"
   },
   "outputs": [],
   "source": [
    "#create a function that takes two argument and returns the product.\n",
    "def prod_(x=0,y=1):\n",
    "    return (x*y)\n",
    "prod_(8*9)"
   ]
  },
  {
   "cell_type": "code",
   "execution_count": null,
   "metadata": {
    "colab": {},
    "colab_type": "code",
    "id": "KGm69VAWnZI-",
    "outputId": "5f217657-2b43-4f87-dd7a-8721b96abe48"
   },
   "outputs": [],
   "source": [
    "# Create a function that prints a string passed as an argument\n",
    "def num_():\n",
    "    x = int(input('plz enter a no. '))\n",
    "    if x % 2 == 0:\n",
    "        print (x,' is even')\n",
    "    else:\n",
    "        print (x,' is odd')\n",
    "num_()"
   ]
  },
  {
   "cell_type": "code",
   "execution_count": null,
   "metadata": {
    "colab": {},
    "colab_type": "code",
    "id": "UjY3fBLRnZJC",
    "outputId": "551d7b50-cb58-4973-eeec-a4dd64512a17"
   },
   "outputs": [],
   "source": [
    "# Create a function that takes sum of all elements passed in the argument:\n",
    "def sum_(*x):\n",
    "    total = 0\n",
    "    for i in x:\n",
    "        total += i\n",
    "    return total\n",
    "\n",
    "sum_(10,15,20,25,30)\n"
   ]
  },
  {
   "cell_type": "code",
   "execution_count": null,
   "metadata": {
    "colab": {},
    "colab_type": "code",
    "id": "rJmx3-BLnZJG",
    "outputId": "243311d4-d080-42e7-97b4-ea9abf03b310"
   },
   "outputs": [],
   "source": [
    "# Create a function that squares all the numbers in the iterator (apply map operator):\n",
    "s = [1,2,3,4,5,6]\n",
    "\n",
    "def sqr_(x):\n",
    "    return x**2\n",
    "\n",
    "z = []\n",
    "for i in map (sqr_,s):\n",
    "    z.append(i)\n",
    "print (z)"
   ]
  },
  {
   "cell_type": "code",
   "execution_count": null,
   "metadata": {
    "colab": {},
    "colab_type": "code",
    "id": "iyiCPh5BnZJL",
    "outputId": "eaf54513-61d3-4fb0-c3e1-cc2f93cfc702"
   },
   "outputs": [],
   "source": [
    "# Create a function that filters out all the lower case letters and returns only the upper case letters from given iterator.\n",
    "t = ['a','B','C','d','e']\n",
    "\n",
    "def filt_(x):\n",
    "    \n",
    "    if x.isupper():\n",
    "        return True\n",
    "    else:\n",
    "        return False\n",
    "\n",
    "for i in filter(filt_,t):\n",
    "    print (i)\n"
   ]
  }
 ],
 "metadata": {
  "colab": {
   "name": "Session_Functions.ipynb",
   "provenance": []
  },
  "kernelspec": {
   "display_name": "Python 3",
   "language": "python",
   "name": "python3"
  },
  "language_info": {
   "codemirror_mode": {
    "name": "ipython",
    "version": 3
   },
   "file_extension": ".py",
   "mimetype": "text/x-python",
   "name": "python",
   "nbconvert_exporter": "python",
   "pygments_lexer": "ipython3",
   "version": "3.7.4"
  }
 },
 "nbformat": 4,
 "nbformat_minor": 1
}
