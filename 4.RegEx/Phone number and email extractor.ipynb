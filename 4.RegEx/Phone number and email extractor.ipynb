{
 "cells": [
  {
   "cell_type": "code",
   "execution_count": 2,
   "metadata": {},
   "outputs": [],
   "source": [
    "# Initally based on Automating the Boring Stuff with Python - Al Sweigart - 2015\n",
    "# Tested on Python 3.6 , Anaconda Custom\n",
    "# Stuart Heginnbotham, 2018/01/15"
   ]
  },
  {
   "cell_type": "code",
   "execution_count": 3,
   "metadata": {},
   "outputs": [],
   "source": [
    "text='800-420-7240 415-863-9900 415-863-9950 info@nostarch.com media@nostarch.com academic@nostarch.com help@nostarch.com'"
   ]
  },
  {
   "cell_type": "code",
   "execution_count": 4,
   "metadata": {},
   "outputs": [
    {
     "data": {
      "text/plain": [
       "'800-420-7240 415-863-9900 415-863-9950 info@nostarch.com media@nostarch.com academic@nostarch.com help@nostarch.com'"
      ]
     },
     "execution_count": 4,
     "metadata": {},
     "output_type": "execute_result"
    }
   ],
   "source": [
    "text"
   ]
  },
  {
   "cell_type": "code",
   "execution_count": 5,
   "metadata": {},
   "outputs": [],
   "source": [
    "import re"
   ]
  },
  {
   "cell_type": "code",
   "execution_count": 6,
   "metadata": {},
   "outputs": [],
   "source": [
    "phoneRegex=re.compile('''(\n",
    "                            (\\d{3}|\\(\\d{3}\\))?                  # area code\n",
    "                            (\\s|-|\\.)?                          # seperator\n",
    "                            (\\d{3})                             # first 3 digits\n",
    "                            (\\s|-|\\.)                           # seperator\n",
    "                            (\\d{4})                             # last 4 digits\n",
    "                            (\\s*(ext|x|ext.)\\s*(\\d{2,5}))?      # extension\n",
    "                        )''',re.VERBOSE)"
   ]
  },
  {
   "cell_type": "code",
   "execution_count": 7,
   "metadata": {},
   "outputs": [],
   "source": [
    "emailRegex=re.compile('''(\n",
    "                            [a-zA-Z0-9._%+-]+        # username\n",
    "                            @                        # @ symbol\n",
    "                            [a-zA-Z0-9.-]+           # domain name\n",
    "                            (\\.[a-zA-Z]{2,4})        # dot - something\n",
    "                        )''',re.VERBOSE)"
   ]
  },
  {
   "cell_type": "code",
   "execution_count": 8,
   "metadata": {},
   "outputs": [
    {
     "data": {
      "text/plain": [
       "['800-420-7240',\n",
       " '415-863-9900',\n",
       " '415-863-9950',\n",
       " 'info@nostarch.com',\n",
       " 'media@nostarch.com',\n",
       " 'academic@nostarch.com',\n",
       " 'help@nostarch.com']"
      ]
     },
     "execution_count": 8,
     "metadata": {},
     "output_type": "execute_result"
    }
   ],
   "source": [
    "matches=[]\n",
    "for groups in phoneRegex.findall(text):\n",
    "    phoneNum='-'.join([groups[1],groups[3],groups[5]])\n",
    "    if groups[8] != '':\n",
    "        phoneNum +=' x' + groups[8]\n",
    "    matches.append(phoneNum)\n",
    "for groups in emailRegex.findall(text):\n",
    "    matches.append(groups[0])\n",
    "    \n",
    "matches"
   ]
  }
 ],
 "metadata": {
  "kernelspec": {
   "display_name": "Python 3",
   "language": "python",
   "name": "python3"
  },
  "language_info": {
   "codemirror_mode": {
    "name": "ipython",
    "version": 3
   },
   "file_extension": ".py",
   "mimetype": "text/x-python",
   "name": "python",
   "nbconvert_exporter": "python",
   "pygments_lexer": "ipython3",
   "version": "3.7.4"
  }
 },
 "nbformat": 4,
 "nbformat_minor": 2
}
